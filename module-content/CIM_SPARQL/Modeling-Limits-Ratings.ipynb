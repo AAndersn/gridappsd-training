{
 "cells": [
  {
   "cell_type": "markdown",
   "id": "742e0d70",
   "metadata": {},
   "source": [
    "## Voltage Ratings"
   ]
  },
  {
   "cell_type": "code",
   "execution_count": null,
   "id": "5f9eba64",
   "metadata": {},
   "outputs": [],
   "source": [
    "\"\"\"\n",
    "# list the base voltage levels - DistBaseVoltage\n",
    "PREFIX r:  <http://www.w3.org/1999/02/22-rdf-syntax-ns#>\n",
    "PREFIX c:  <http://iec.ch/TC57/CIM100#>\n",
    "SELECT DISTINCT ?vnom\n",
    "WHERE {\n",
    "# feeder selection options - if all commented out, query matches all feeders\n",
    "#VALUES ?fdrid {\"_C1C3E687-6FFD-C753-582B-632A27E28507\"}  # 123 bus\n",
    "#VALUES ?fdrid {\"_49AD8E07-3BF9-A4E2-CB8F-C3722F837B62\"}  # 13 bus\n",
    "#VALUES ?fdrid {\"_5B816B93-7A5F-B64C-8460-47C17D6E4B0F\"}  # 13 bus assets\n",
    "#VALUES ?fdrid {\"_4F76A5F9-271D-9EB8-5E31-AA362D86F2C3\"}  # 8500 node\n",
    "VALUES ?fdrid {\"_67AB291F-DCCD-31B7-B499-338206B9828F\"}  # J1\n",
    "#VALUES ?fdrid {\"_9CE150A8-8CC5-A0F9-B67E-BBD8C79D3095\"}  # R2 12.47 3\n",
    " ?fdr c:IdentifiedObject.mRID ?fdrid.\n",
    " ?s c:Equipment.EquipmentContainer ?fdr.\n",
    " {?s c:ConductingEquipment.BaseVoltage ?lev.}\n",
    "  UNION\n",
    " { ?end c:PowerTransformerEnd.PowerTransformer|c:TransformerTankEnd.TransformerTank ?s.\n",
    "   ?end c:TransformerEnd.BaseVoltage ?lev.}\n",
    " ?lev r:type c:BaseVoltage.\n",
    " ?lev c:BaseVoltage.nominalVoltage ?vstr.\n",
    "  bind(xsd:float(?vstr) as ?vnom)\n",
    "}\n",
    "ORDER BY ?vnom\n",
    "\"\"\""
   ]
  },
  {
   "cell_type": "code",
   "execution_count": null,
   "id": "35467825",
   "metadata": {},
   "outputs": [],
   "source": [
    "\"\"\"\n",
    "# nominal voltages by feeder ID\n",
    "PREFIX r:  <http://www.w3.org/1999/02/22-rdf-syntax-ns#>\n",
    "PREFIX c:  <http://iec.ch/TC57/CIM100#>\n",
    "#CONSTRUCT {?s ?fdr ?o} WHERE {\n",
    "SELECT DISTINCT ?vnom WHERE {\n",
    "# ?fdr c:IdentifiedObject.mRID \"_C1C3E687-6FFD-C753-582B-632A27E28507\". # 123 bus\n",
    "# ?fdr c:IdentifiedObject.mRID \"_49AD8E07-3BF9-A4E2-CB8F-C3722F837B62\".  # 13 bus\n",
    "# ?fdr c:IdentifiedObject.mRID \"_5B816B93-7A5F-B64C-8460-47C17D6E4B0F\".  # 13 bus assets\n",
    "# ?fdr c:IdentifiedObject.mRID \"_4F76A5F9-271D-9EB8-5E31-AA362D86F2C3\".  # 8500 node\n",
    " ?fdr c:IdentifiedObject.mRID \"_67AB291F-DCCD-31B7-B499-338206B9828F\".  # J1\n",
    "# ?fdr c:IdentifiedObject.mRID \"_9CE150A8-8CC5-A0F9-B67E-BBD8C79D3095\".  # R2 12.47 3\n",
    " ?s c:ConnectivityNode.ConnectivityNodeContainer|c:Equipment.EquipmentContainer ?fdr.\n",
    " ?s c:ConductingEquipment.BaseVoltage ?lev.\n",
    " ?lev c:BaseVoltage.nominalVoltage ?vnom.\n",
    "}\n",
    "ORDER by ?vnom\n",
    "\"\"\""
   ]
  }
 ],
 "metadata": {
  "kernelspec": {
   "display_name": "Python 3 (ipykernel)",
   "language": "python",
   "name": "python3"
  },
  "language_info": {
   "codemirror_mode": {
    "name": "ipython",
    "version": 3
   },
   "file_extension": ".py",
   "mimetype": "text/x-python",
   "name": "python",
   "nbconvert_exporter": "python",
   "pygments_lexer": "ipython3",
   "version": "3.8.5"
  }
 },
 "nbformat": 4,
 "nbformat_minor": 5
}
