{
 "cells": [
  {
   "cell_type": "code",
   "execution_count": null,
   "id": "0cad9bad",
   "metadata": {},
   "outputs": [],
   "source": [
    "\"\"\"\n",
    "# list all the feeders, with substations and regions - DistFeeder\n",
    "PREFIX r:  <http://www.w3.org/1999/02/22-rdf-syntax-ns#>\n",
    "PREFIX c:  <http://iec.ch/TC57/CIM100#>\n",
    "SELECT ?feeder ?fid ?station ?sid ?subregion ?sgrid ?region ?rgnid WHERE {\n",
    " ?s r:type c:Feeder.\n",
    " ?s c:IdentifiedObject.name ?feeder.\n",
    " ?s c:IdentifiedObject.mRID ?fid.\n",
    " ?s c:Feeder.NormalEnergizingSubstation ?sub.\n",
    " ?sub c:IdentifiedObject.name ?station.\n",
    " ?sub c:IdentifiedObject.mRID ?sid.\n",
    " ?sub c:Substation.Region ?sgr.\n",
    " ?sgr c:IdentifiedObject.name ?subregion.\n",
    " ?sgr c:IdentifiedObject.mRID ?sgrid.\n",
    " ?sgr c:SubGeographicalRegion.Region ?rgn.\n",
    " ?rgn c:IdentifiedObject.name ?region.\n",
    " ?rgn c:IdentifiedObject.mRID ?rgnid.\n",
    "}\n",
    "ORDER by ?station ?feeder\n",
    "\"\"\""
   ]
  },
  {
   "cell_type": "code",
   "execution_count": null,
   "id": "725d061c",
   "metadata": {},
   "outputs": [],
   "source": [
    "\"\"\"\n",
    "# list all the equipment by feeder and type\n",
    "PREFIX r:  <http://www.w3.org/1999/02/22-rdf-syntax-ns#>\n",
    "PREFIX c:  <http://iec.ch/TC57/CIM100#>\n",
    "SELECT ?feeder ?type ?name WHERE {\n",
    " ?s r:type ?typeraw.\n",
    "  bind(strafter(str(?typeraw),\"#\") as ?type)\n",
    " ?s c:Equipment.EquipmentContainer ?fid.\n",
    " ?s c:IdentifiedObject.name ?name.\n",
    " ?fid c:IdentifiedObject.name ?feeder.\n",
    "}\n",
    "ORDER by ?feeder ?type ?name\n",
    "\"\"\""
   ]
  },
  {
   "cell_type": "code",
   "execution_count": null,
   "id": "3b0e6aa2",
   "metadata": {},
   "outputs": [],
   "source": [
    "\"\"\"\n",
    "# list things by type for specific feeder mRID\n",
    "PREFIX r:  <http://www.w3.org/1999/02/22-rdf-syntax-ns#>\n",
    "PREFIX c:  <http://iec.ch/TC57/CIM100#>\n",
    "SELECT ?type ?name WHERE {\n",
    " ?fdr c:IdentifiedObject.mRID \"_C1C3E687-6FFD-C753-582B-632A27E28507\". # 123 bus\n",
    "# ?fdr c:IdentifiedObject.mRID \"_49AD8E07-3BF9-A4E2-CB8F-C3722F837B62\".  # 13 bus\n",
    "# ?fdr c:IdentifiedObject.mRID \"_5B816B93-7A5F-B64C-8460-47C17D6E4B0F\".  # 13 bus assets\n",
    "# ?fdr c:IdentifiedObject.mRID \"_4F76A5F9-271D-9EB8-5E31-AA362D86F2C3\".  # 8500 node\n",
    "# ?fdr c:IdentifiedObject.mRID \"_67AB291F-DCCD-31B7-B499-338206B9828F\".  # J1\n",
    "# ?fdr c:IdentifiedObject.mRID \"_9CE150A8-8CC5-A0F9-B67E-BBD8C79D3095\".  # R2 12.47 3\n",
    " ?s c:ConnectivityNode.ConnectivityNodeContainer|c:Equipment.EquipmentContainer ?fdr.\n",
    " ?s c:IdentifiedObject.name ?name.\n",
    " ?s r:type ?typeraw.\n",
    "  bind(strafter(str(?typeraw),\"#\") as ?type)\n",
    "}\n",
    "ORDER by ?type ?name\n",
    "\"\"\""
   ]
  },
  {
   "cell_type": "code",
   "execution_count": null,
   "id": "573322a8",
   "metadata": {},
   "outputs": [],
   "source": [
    "\"\"\"\n",
    "# list things by type for specific feeder Name\n",
    "PREFIX r:  <http://www.w3.org/1999/02/22-rdf-syntax-ns#>\n",
    "PREFIX c:  <http://iec.ch/TC57/CIM100#>\n",
    "SELECT ?type ?name ?fid WHERE {\n",
    " ?fid r:type c:Feeder.\n",
    " ?fid c:IdentifiedObject.name \"ieee123\".\n",
    " ?s c:ConnectivityNode.ConnectivityNodeContainer|c:Equipment.EquipmentContainer ?fid.\n",
    " ?s c:IdentifiedObject.name ?name.\n",
    " ?s r:type ?typeraw.\n",
    "  bind(strafter(str(?typeraw),\"#\") as ?type)\n",
    "}\n",
    "ORDER by ?type ?name\n",
    "\"\"\""
   ]
  },
  {
   "cell_type": "code",
   "execution_count": null,
   "id": "1d2d64e6",
   "metadata": {},
   "outputs": [],
   "source": [
    "\"\"\"\n",
    "# substation source - DistSubstation\n",
    "PREFIX r:  <http://www.w3.org/1999/02/22-rdf-syntax-ns#>\n",
    "PREFIX c:  <http://iec.ch/TC57/CIM100#>\n",
    "SELECT ?name ?bus ?basev ?nomv ?vmag ?vang ?r1 ?x1 ?r0 ?x0 WHERE {\n",
    " ?s r:type c:EnergySource.\n",
    "# feeder selection options - if all commented out, query matches all feeders\n",
    "VALUES ?fdrid {\"_C1C3E687-6FFD-C753-582B-632A27E28507\"}  # 123 bus\n",
    "#VALUES ?fdrid {\"_49AD8E07-3BF9-A4E2-CB8F-C3722F837B62\"}  # 13 bus\n",
    "#VALUES ?fdrid {\"_5B816B93-7A5F-B64C-8460-47C17D6E4B0F\"}  # 13 bus assets\n",
    "#VALUES ?fdrid {\"_4F76A5F9-271D-9EB8-5E31-AA362D86F2C3\"}  # 8500 node\n",
    "#VALUES ?fdrid {\"_67AB291F-DCCD-31B7-B499-338206B9828F\"}  # J1\n",
    "#VALUES ?fdrid {\"_9CE150A8-8CC5-A0F9-B67E-BBD8C79D3095\"}  # R2 12.47 3\n",
    " ?s c:Equipment.EquipmentContainer ?fdr.\n",
    " ?fdr c:IdentifiedObject.mRID ?fdrid.\n",
    " ?s c:IdentifiedObject.name ?name.\n",
    " ?s c:ConductingEquipment.BaseVoltage ?bv.\n",
    " ?bv c:BaseVoltage.nominalVoltage ?basev.\n",
    " ?s c:EnergySource.nominalVoltage ?nomv. \n",
    " ?s c:EnergySource.voltageMagnitude ?vmag. \n",
    " ?s c:EnergySource.voltageAngle ?vang. \n",
    " ?s c:EnergySource.r ?r1. \n",
    " ?s c:EnergySource.x ?x1. \n",
    " ?s c:EnergySource.r0 ?r0. \n",
    " ?s c:EnergySource.x0 ?x0. \n",
    " ?t c:Terminal.ConductingEquipment ?s.\n",
    " ?t c:Terminal.ConnectivityNode ?cn. \n",
    " ?cn c:IdentifiedObject.name ?bus\n",
    "}\n",
    "ORDER by ?name\n",
    "\"\"\""
   ]
  },
  {
   "cell_type": "code",
   "execution_count": null,
   "id": "99a0dd08",
   "metadata": {},
   "outputs": [],
   "source": []
  }
 ],
 "metadata": {
  "kernelspec": {
   "display_name": "Python 3 (ipykernel)",
   "language": "python",
   "name": "python3"
  },
  "language_info": {
   "codemirror_mode": {
    "name": "ipython",
    "version": 3
   },
   "file_extension": ".py",
   "mimetype": "text/x-python",
   "name": "python",
   "nbconvert_exporter": "python",
   "pygments_lexer": "ipython3",
   "version": "3.8.5"
  }
 },
 "nbformat": 4,
 "nbformat_minor": 5
}
