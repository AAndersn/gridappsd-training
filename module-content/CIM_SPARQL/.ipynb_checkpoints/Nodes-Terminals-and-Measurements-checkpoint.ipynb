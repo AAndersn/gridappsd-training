{
 "cells": [
  {
   "cell_type": "markdown",
   "id": "1bb03583",
   "metadata": {},
   "source": [
    "# Nodes, Terminals, and Measurements"
   ]
  },
  {
   "cell_type": "markdown",
   "id": "6def549b",
   "metadata": {
    "tags": [
     "remove_cell"
    ]
   },
   "source": [
    "This tutorial introduces how nodes and terminals are used in the Common Information Model to describe connectivity of power system equipment to the electrical network.\n",
    "\n",
    "__Learning Objectives:__\n",
    "\n",
    "At the end of the tutorial, the user should be able to \n",
    "\n",
    "* Explain what is a `ConnectivityNode`\n",
    "* Explain what is a `Terminal`\n",
    "* Describe how various types of power system equipment are connected through `Terminal` and `ConnectivityNode` objects\n",
    "* List common one-terminal and two-terminal devices\n",
    "* Query for Connectivity Nodes\n",
    "* Query for Terminals\n",
    "\n",
    "\n",
    "## Getting Started\n",
    "\n",
    "Before running any of the sample routines in this tutorial, it is first necessary to start the GridAPPS-D Platform and establish a connection to this notebook so that we can start passing calls to the API."
   ]
  },
  {
   "cell_type": "markdown",
   "id": "35c779ab",
   "metadata": {
    "tags": [
     "remove_cell"
    ]
   },
   "source": [
    "_Open the Ubuntu terminal and start the GridAPPS-D Platform if it is not running already:_\n",
    "\n",
    "`cd gridappsd-docker`\n",
    "\n",
    "~/gridappsd-docker$ `./run.sh`\n",
    "\n",
    "_Once containers are running,_\n",
    "\n",
    "gridappsd@[container]:/gridappsd$ `./run-gridappsd.sh`"
   ]
  },
  {
   "cell_type": "code",
   "execution_count": null,
   "id": "777b121e",
   "metadata": {
    "tags": [
     "remove_cell"
    ]
   },
   "outputs": [],
   "source": [
    "# Establish connection to GridAPPS-D Platform:\n",
    "from gridappsd import GridAPPSD\n",
    "import os # Set username and password\n",
    "os.environ['GRIDAPPSD_USER'] = 'tutorial_user'\n",
    "os.environ['GRIDAPPSD_PASSWORD'] = '12345!'\n",
    "gapps = GridAPPSD()\n",
    "assert gapps.connected"
   ]
  },
  {
   "cell_type": "markdown",
   "id": "dff68804",
   "metadata": {},
   "source": [
    "---"
   ]
  },
  {
   "cell_type": "markdown",
   "id": "fc21d44f",
   "metadata": {
    "tags": [
     "remove_cell"
    ]
   },
   "source": [
    "## Table of Contents\n",
    "\n",
    "* [1. Introduction to the PowerGrid Model API](#1.-Introduction-to-the-PowerGrid-Model-API)\n",
    "\n",
    "\n",
    "* [2. API Syntax Overview](#2.-API-Syntax-Overview)\n",
    "    * [2.1. API Communication Channel](#2.1.-API-Communication-Channel)\n",
    "    * [2.2. Structure of a Query Message](#2.2.-Structure-of-a-Query-Message)\n",
    "    * [2.3. Specifying the requestType](#2.3.-Specifying-the-requestType)\n",
    "    \n",
    "\n",
    "* [3. Querying for Feeder Model Info](#3.-Querying-for-Feeder-Model-Info)\n",
    "    * [3.1. Query for mRIDs of all Models](#3.1.-Query-for-mRIDs-of-all-Models)\n",
    "    * [3.2.-Query for Details Dictionary of all Models](#3.2.-Query-for-Details-Dictionary-of-all-Models)\n",
    "    \n",
    "    \n",
    "* [4. Querying for Object Info](#4.-Querying-for-Object-Info)\n",
    "    * [4.1. Query for CIM Classes of Objects in Model](#4.1.-Query-for-CIM-Classes-of-Objects-in-Model)\n",
    "    * [4.2. Query for mRIDs of Objects in a Feeder](#4.2.-Query-for-mRIDs-of-Objects-in-a-Feeder)\n",
    "    * [4.3. Query for CIM Attributes of an Object](#4.3.-Query-for-CIM-Attributes-of-an-Object)\n",
    "    * [4.4. Query for Object Dictionary](#4.4.-Query-for-Object-Dictionary)\n",
    "    \n",
    "    \n",
    "* [5. Querying for Object Measurements](#5.-Querying-for-Object-Measurements)\n",
    "    * [5.1. Object mRIDs vs Measurement mRIDs](#5.1.-Object-mRIDs-vs-Measurement-mRIDs)\n",
    "    * [5.2. Querying for Measurements](#5.2.-Querying-for-Measurements)\n",
    "    * [5.3. Filtering Returned Data](#5.3.-Filtering-Returned-Data)\n",
    "    \n",
    "    \n",
    "* [6. GridAPPSD-Python Shortcut Methods](#6.-GridAPPSD-Python-Shortcut-Methods)\n",
    "    * [6.1. Querying for mRIDs of all Models](#6.1.-Querying-for-mRIDs-of-all-Models)\n",
    "    * [6.2. Query for CIM Classes of Objects in Model](#6.2.-Query-for-CIM-Classes-of-Objects-in-Model)\n",
    "    * [6.3. Query for CIM Attributes of an Object](#6.3.-Query-for-CIM-Attributes-of-an-Object)"
   ]
  },
  {
   "cell_type": "markdown",
   "id": "bcb09218",
   "metadata": {
    "tags": [
     "remove_cell"
    ]
   },
   "source": [
    "---"
   ]
  },
  {
   "cell_type": "markdown",
   "id": "64d68db5",
   "metadata": {
    "tags": [
     "remove_cell"
    ]
   },
   "source": [
    "# 1. Introduction to Nodes and Terminals"
   ]
  },
  {
   "cell_type": "markdown",
   "id": "39fc6d14",
   "metadata": {},
   "source": [
    "## Introduction to Nodes and Terminals\n",
    "\n",
    "All current carrying electrical equipment inheriting from the `ConductingEquipment` class are defined as being connected to a `Terminal` object associated with a `ConnectivityNode`. \n",
    "\n",
    "Generators, shunt capacitors, shunt reactors, and loads are connected to one `Terminal` object associated with a single `ConnectivityNode`. \n",
    "\n",
    "Lines, cables, series capacitors, and series reactors have two `Terminal` objects associated with either end of the branch. \n",
    "\n"
   ]
  },
  {
   "cell_type": "markdown",
   "id": "e4236b09",
   "metadata": {},
   "source": []
  },
  {
   "cell_type": "markdown",
   "id": "69db4d83",
   "metadata": {},
   "source": [
    "Rather than defining from/to buses, CIM identifies the end of a branch by setting the ACDCTerminal.sequenceNumber attribute of a terminal to values of 1 or 2 to specify the particular end. Transformers are defined using two or three terminals, with the ACDCTerminal.sequenceNumber attribute used to designate whether the Terminal is associated with the primary, secondary, or tertiary windings. Split-phase distribution transformers also use three terminals, but the two low-side terminals are associated with a single ConnectivityNode, "
   ]
  },
  {
   "cell_type": "markdown",
   "id": "a1a94029",
   "metadata": {},
   "source": []
  },
  {
   "cell_type": "markdown",
   "id": "cefb4a06",
   "metadata": {},
   "source": []
  },
  {
   "cell_type": "markdown",
   "id": "c40ebadc",
   "metadata": {},
   "source": []
  },
  {
   "cell_type": "code",
   "execution_count": null,
   "id": "ab7c468e",
   "metadata": {},
   "outputs": [],
   "source": [
    "\"\"\"\n",
    "# list all the connectivity nodes (aka bus)\n",
    "PREFIX r:  <http://www.w3.org/1999/02/22-rdf-syntax-ns#>\n",
    "PREFIX c:  <http://iec.ch/TC57/CIM100#>\n",
    "SELECT ?name WHERE {\n",
    " ?s r:type c:ConnectivityNode.\n",
    " ?s c:IdentifiedObject.name ?name}\n",
    "ORDER by ?name\n",
    "\"\"\""
   ]
  },
  {
   "cell_type": "code",
   "execution_count": null,
   "id": "9cca4c0a",
   "metadata": {},
   "outputs": [],
   "source": [
    "\"\"\"\n",
    "# list all the connectivity node base voltages by feeder, for sensor service\n",
    "PREFIX r:  <http://www.w3.org/1999/02/22-rdf-syntax-ns#>\n",
    "PREFIX c:  <http://iec.ch/TC57/CIM100#>\n",
    "SELECT DISTINCT ?feeder ?busname ?cnid ?nomv WHERE {\n",
    "# VALUES ?fdrid {\"_49AD8E07-3BF9-A4E2-CB8F-C3722F837B62\"}  # 13 bus\n",
    " ?fdr c:IdentifiedObject.mRID ?fdrid.\n",
    " ?bus c:ConnectivityNode.ConnectivityNodeContainer ?fdr.\n",
    " ?bus r:type c:ConnectivityNode.\n",
    " ?bus c:IdentifiedObject.name ?busname.\n",
    " ?bus c:IdentifiedObject.mRID ?cnid.\n",
    " ?fdr c:IdentifiedObject.name ?feeder.\n",
    " ?trm c:Terminal.ConnectivityNode ?bus.\n",
    " ?trm c:Terminal.ConductingEquipment ?ce.\n",
    " ?ce  c:ConductingEquipment.BaseVoltage ?bv.\n",
    " ?bv  c:BaseVoltage.nominalVoltage ?nomv.\n",
    "}\n",
    "ORDER by ?feeder ?busname ?nomv\n",
    "\"\"\""
   ]
  },
  {
   "cell_type": "code",
   "execution_count": null,
   "id": "aff4ca8c",
   "metadata": {},
   "outputs": [],
   "source": [
    "\"\"\"\n",
    "# list all the connectivity nodes by feeder for CIMWriter\n",
    "PREFIX r:  <http://www.w3.org/1999/02/22-rdf-syntax-ns#>\n",
    "PREFIX c:  <http://iec.ch/TC57/CIM100#>\n",
    "SELECT ?name ?id WHERE {\n",
    " VALUES ?fdrid {\"_E407CBB6-8C8D-9BC9-589C-AB83FBF0826D\"}  # 123 bus with PV\n",
    " ?fdr c:IdentifiedObject.mRID ?fdrid.\n",
    " ?s c:ConnectivityNode.ConnectivityNodeContainer ?fdr.\n",
    " ?s r:type c:ConnectivityNode.\n",
    " ?s c:IdentifiedObject.name ?name.\n",
    " bind(strafter(str(?s),\"#\") as ?id).\n",
    "}\n",
    "ORDER by ?name\n",
    "\"\"\""
   ]
  },
  {
   "cell_type": "code",
   "execution_count": null,
   "id": "e61a18e4",
   "metadata": {},
   "outputs": [],
   "source": [
    "\"\"\"\n",
    "# list all the terminals by feeder for CIMWriter\n",
    "PREFIX r:  <http://www.w3.org/1999/02/22-rdf-syntax-ns#>\n",
    "PREFIX c:  <http://iec.ch/TC57/CIM100#>\n",
    "SELECT ?eqclass ?eqname ?seq ?eqid ?tid ?cnid WHERE {\n",
    " VALUES ?fdrid {\"_E407CBB6-8C8D-9BC9-589C-AB83FBF0826D\"}  # 123 bus with PV\n",
    " ?fdr c:IdentifiedObject.mRID ?fdrid.\n",
    " ?eq c:Equipment.EquipmentContainer ?fdr.\n",
    " ?t c:Terminal.ConductingEquipment ?eq.\n",
    " ?t c:Terminal.ConnectivityNode ?cn. \n",
    " ?t c:ACDCTerminal.sequenceNumber ?seq.\n",
    " bind(strafter(str(?eq),\"#\") as ?eqid).\n",
    " bind(strafter(str(?t),\"#\") as ?tid).\n",
    " bind(strafter(str(?cn),\"#\") as ?cnid).\n",
    " ?eq c:IdentifiedObject.name ?eqname.\n",
    " ?eq a ?classraw.\n",
    " bind(strafter(str(?classraw),\"CIM100#\") as ?eqclass)\n",
    "}\n",
    "ORDER by ?eqclass ?eqname ?seq\n",
    "\"\"\""
   ]
  },
  {
   "cell_type": "code",
   "execution_count": null,
   "id": "0f3aea90",
   "metadata": {},
   "outputs": [],
   "source": [
    "\"\"\"\n",
    "# list all the connectivity nodes by feeder, with voltage limits\n",
    "PREFIX r:  <http://www.w3.org/1999/02/22-rdf-syntax-ns#>\n",
    "PREFIX c:  <http://iec.ch/TC57/CIM100#>\n",
    "SELECT ?feeder ?bus ?cnid ?val ?dur ?dir WHERE {\n",
    "# VALUES ?fdrid {\"_49AD8E07-3BF9-A4E2-CB8F-C3722F837B62\"}  # 13 bus\n",
    " ?fdr c:IdentifiedObject.mRID ?fdrid.\n",
    " ?s c:ConnectivityNode.ConnectivityNodeContainer ?fdr.\n",
    " ?s r:type c:ConnectivityNode.\n",
    " ?s c:IdentifiedObject.name ?bus.\n",
    " ?s c:IdentifiedObject.mRID ?cnid.\n",
    " ?fdr c:IdentifiedObject.name ?feeder.\n",
    " ?s c:ConnectivityNode.OperationalLimitSet ?ols.\n",
    " ?vlim c:OperationalLimit.OperationalLimitSet ?ols.\n",
    " ?vlim r:type c:VoltageLimit.\n",
    " ?vlim c:OperationalLimit.OperationalLimitType ?olt.\n",
    " ?olt c:OperationalLimitType.acceptableDuration ?dur.\n",
    " ?olt c:OperationalLimitType.direction ?rawdir.\n",
    "  bind(strafter(str(?rawdir),\"OperationalLimitDirectionKind.\") as ?dir)\n",
    " ?vlim c:VoltageLimit.value ?val.\n",
    "}\n",
    "ORDER by ?feeder ?bus ?val\n",
    "\"\"\""
   ]
  },
  {
   "cell_type": "code",
   "execution_count": null,
   "id": "3c6da54e",
   "metadata": {},
   "outputs": [],
   "source": []
  },
  {
   "cell_type": "code",
   "execution_count": null,
   "id": "f42b2de6",
   "metadata": {},
   "outputs": [],
   "source": []
  },
  {
   "cell_type": "code",
   "execution_count": null,
   "id": "32e50f16",
   "metadata": {},
   "outputs": [],
   "source": []
  }
 ],
 "metadata": {
  "celltoolbar": "Tags",
  "kernelspec": {
   "display_name": "Python 3 (ipykernel)",
   "language": "python",
   "name": "python3"
  },
  "language_info": {
   "codemirror_mode": {
    "name": "ipython",
    "version": 3
   },
   "file_extension": ".py",
   "mimetype": "text/x-python",
   "name": "python",
   "nbconvert_exporter": "python",
   "pygments_lexer": "ipython3",
   "version": "3.8.5"
  }
 },
 "nbformat": 4,
 "nbformat_minor": 5
}
