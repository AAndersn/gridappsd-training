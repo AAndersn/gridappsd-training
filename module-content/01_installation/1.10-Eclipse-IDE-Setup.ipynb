{
 "cells": [
  {
   "cell_type": "markdown",
   "id": "39fdea54",
   "metadata": {},
   "source": [
    "# Eclipse IDE Setup"
   ]
  },
  {
   "cell_type": "markdown",
   "id": "fd2dad5f",
   "metadata": {},
   "source": [
    "The Eclipse environment is used for platform development and editing of the internal GridAPPS-D Java code used by GOSS-GridAPPSD and other platform packages.\n",
    "\n",
    "Application developers do not need to set up this environment"
   ]
  },
  {
   "cell_type": "markdown",
   "id": "da23f61b",
   "metadata": {},
   "source": [
    "1. Download or clone the repository from github\n",
    "    a. Install [github desktop](https://desktop.github.com/) or [sourcetree](https://www.atlassian.com/software/sourcetree/overview)\n",
    "\n",
    "    b. Clone the [GOSS-GridAPPS-D repository](https://github.com/GRIDAPPSD/GOSS-GridAPPS-D) or download the [GOSS-GridAPPS-D source](https://github.com/GRIDAPPSD/GOSS-GridAPPS-D/archive/master.zip)\n",
    "\n",
    "\n",
    "2. Install java 1.8 SDK and set JAVA_HOME variable\n",
    "\n",
    "\n",
    "3. Install Eclipse http://www.eclipse.org/downloads/packages/release/Mars/1 (Mars 4.5.1 or earlier, 4.5.2 appears to have bugs related to bundle processing) TODO what about neon?\n",
    "\n",
    "\n",
    "4. Open eclipse with workspace set to GOSS-GridAPPS-D download location, eg. C:UsersusernameDocumentsGOSS-GridAPPS-D\n",
    "\n",
    "\n",
    "5. Install BNDTools plugin: Help->Install New Software->Work with: http://dl.bintray.com/bndtools/bndtools/3.0.0 and Install Bndtools 3.0.0 or earlier\n",
    "\n",
    "\n",
    "6. Import projects into workspace\n",
    "    a. File->Import General->Existing Projects into workspace\n",
    "    b. Select root directory, GOSS-GridAPPS-D download location\n",
    "    c. Select cnf, pnnl.goss.gridappsd\n",
    "    \n",
    "7. If errors are detected, Right click on the pnnl.goss.gridappsd project and select release, then release all bundles\n",
    "\n",
    "\n",
    "8. **If you would like to you a local version of GOSS-Core (Optional)**\n",
    "    a. Update cnf/ext/repositories.bnd\n",
    "    b. Select source view and add the following as the first line\n",
    "    c. aQute.bnd.deployer.repository.LocalIndexedRepo;name=GOSS Local Release;local=/GOSS-Core2/cnf/releaserepo;pretty=true,\n",
    "    d. verify by switching to bndtools and verify that there are packages under GOSS Local Relase\n",
    "\n",
    "\n",
    "9. Open pnnl.goss.gridappsd/bnd.bnd, Rebuild project, you should not have errors\n",
    "\n",
    "\n",
    "10. Open pnnl.goss.gridappsd/run.bnd.bndrun and click Run OSGI"
   ]
  },
  {
   "cell_type": "markdown",
   "id": "36998aee",
   "metadata": {},
   "source": [
    "---"
   ]
  },
  {
   "cell_type": "markdown",
   "id": "3cbe1c97",
   "metadata": {},
   "source": [
    "![gridappsd-logo](../images/GridAPPS-D_narrow.png)"
   ]
  }
 ],
 "metadata": {
  "kernelspec": {
   "display_name": "Python 3 (ipykernel)",
   "language": "python",
   "name": "python3"
  },
  "language_info": {
   "codemirror_mode": {
    "name": "ipython",
    "version": 3
   },
   "file_extension": ".py",
   "mimetype": "text/x-python",
   "name": "python",
   "nbconvert_exporter": "python",
   "pygments_lexer": "ipython3",
   "version": "3.8.5"
  }
 },
 "nbformat": 4,
 "nbformat_minor": 5
}
