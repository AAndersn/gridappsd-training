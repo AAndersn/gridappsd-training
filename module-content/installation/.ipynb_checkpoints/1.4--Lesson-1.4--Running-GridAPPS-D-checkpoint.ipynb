{
 "cells": [
  {
   "cell_type": "markdown",
   "metadata": {},
   "source": [
    "# Running GridAPPS-D"
   ]
  },
  {
   "attachments": {},
   "cell_type": "markdown",
   "metadata": {
    "tags": [
     "remove_cell"
    ]
   },
   "source": []
  },
  {
   "cell_type": "markdown",
   "metadata": {},
   "source": []
  },
  {
   "cell_type": "markdown",
   "metadata": {},
   "source": [
    "## 1. Starting the Platform"
   ]
  },
  {
   "cell_type": "markdown",
   "metadata": {},
   "source": [
    "If you are accessing this module after completing the installation steps in the previous procedure, then the GridAPPS-D Platform is already running."
   ]
  },
  {
   "cell_type": "markdown",
   "metadata": {},
   "source": [
    "When you start your machine next time, you will need to start the GridAPPS-D Platform again. To do this, change directories into `gridappsd-docker` and run the `./run.sh` script\n",
    "\n",
    "* `cd gridappsd-docker`\n",
    "* `./run.sh` or `./run.sh -t release_tag`"
   ]
  },
  {
   "cell_type": "markdown",
   "metadata": {},
   "source": [
    "![run-sh](../images/1.3/win_setup_run_sh.png)"
   ]
  },
  {
   "cell_type": "markdown",
   "metadata": {},
   "source": []
  },
  {
   "cell_type": "markdown",
   "metadata": {},
   "source": []
  },
  {
   "cell_type": "markdown",
   "metadata": {},
   "source": [
    "## 2. Stopping the Platform"
   ]
  },
  {
   "cell_type": "markdown",
   "metadata": {},
   "source": [
    "### 2.1. Stopping the Platform from Inside the Docker Container"
   ]
  },
  {
   "cell_type": "markdown",
   "metadata": {},
   "source": [
    "If you are currently inside the `./run-gridappsd.sh` script inside the docker container, use `Ctrl+C` to stop the platform. Some error messages may be displayed as the platform services are stopped."
   ]
  },
  {
   "cell_type": "markdown",
   "metadata": {},
   "source": []
  },
  {
   "cell_type": "markdown",
   "metadata": {},
   "source": [
    "Then exit the docker container using `exit`. This will return to the main ubuntu bash command line:"
   ]
  },
  {
   "cell_type": "markdown",
   "metadata": {},
   "source": []
  },
  {
   "cell_type": "markdown",
   "metadata": {},
   "source": [
    "Then run the `./stop.sh` script to shut down all the docker containers and free RAM used by the Platform:"
   ]
  },
  {
   "cell_type": "markdown",
   "metadata": {},
   "source": []
  },
  {
   "cell_type": "markdown",
   "metadata": {},
   "source": [
    "### 2.2. Stopping the Platform from a New Terminal\n",
    "\n",
    "If your terminal was reset or closed, you can stop the platform and shut down all docker containers by changing directories into `gridappsd-docker` and running the `./stop.sh` script:\n",
    "\n",
    "* `cd gridappsd-docker`\n",
    "* `./stop.sh`"
   ]
  },
  {
   "cell_type": "markdown",
   "metadata": {},
   "source": []
  },
  {
   "cell_type": "markdown",
   "metadata": {},
   "source": [
    "## 3. Restarting the Platform"
   ]
  },
  {
   "cell_type": "markdown",
   "metadata": {},
   "source": [
    "After the Platform has been stopped, it can be restarted by running the `./run.sh` script again from within the `gridappsd-docker` directory"
   ]
  },
  {
   "cell_type": "markdown",
   "metadata": {},
   "source": [
    "![run-sh](../images/1.3/win_setup_run_sh.png)"
   ]
  },
  {
   "cell_type": "markdown",
   "metadata": {},
   "source": [
    "---"
   ]
  },
  {
   "cell_type": "markdown",
   "metadata": {},
   "source": [
    "## 4. Changing Release Tags"
   ]
  },
  {
   "cell_type": "markdown",
   "metadata": {},
   "source": [
    "To change the Platform to run on a different release, run the `./stop.sh` script using the ` -c` option to remove the current containers."
   ]
  },
  {
   "cell_type": "markdown",
   "metadata": {},
   "source": [
    "![change-tags](../images/1.3/win_setup_change_tags.png)"
   ]
  },
  {
   "cell_type": "markdown",
   "metadata": {},
   "source": []
  },
  {
   "cell_type": "markdown",
   "metadata": {},
   "source": []
  },
  {
   "cell_type": "markdown",
   "metadata": {},
   "source": []
  },
  {
   "cell_type": "markdown",
   "metadata": {},
   "source": [
    "## 5. Pulling Updated Containers"
   ]
  },
  {
   "cell_type": "markdown",
   "metadata": {},
   "source": [
    "The GridAPPS-D platform should automatically check for and pull updated containers each time the `./run.sh` script is run.\n",
    "\n",
    "However, it is sometimes necessary to force docker to pull new containers (e.g. if using a custom set of containers). \n",
    "\n",
    "New containers can be pulled by running `docker-compose pull` from within the `gridappsd-docker` directory"
   ]
  },
  {
   "cell_type": "markdown",
   "metadata": {},
   "source": []
  },
  {
   "cell_type": "code",
   "execution_count": null,
   "metadata": {},
   "outputs": [],
   "source": []
  }
 ],
 "metadata": {
  "celltoolbar": "Tags",
  "kernelspec": {
   "display_name": "Python 3 (ipykernel)",
   "language": "python",
   "name": "python3"
  },
  "language_info": {
   "codemirror_mode": {
    "name": "ipython",
    "version": 3
   },
   "file_extension": ".py",
   "mimetype": "text/x-python",
   "name": "python",
   "nbconvert_exporter": "python",
   "pygments_lexer": "ipython3",
   "version": "3.8.5"
  }
 },
 "nbformat": 4,
 "nbformat_minor": 4
}
