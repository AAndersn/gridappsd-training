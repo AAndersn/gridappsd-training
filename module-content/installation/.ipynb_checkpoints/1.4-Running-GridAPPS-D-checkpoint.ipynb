{
 "cells": [
  {
   "cell_type": "markdown",
   "metadata": {},
   "source": [
    "# Running GridAPPS-D"
   ]
  },
  {
   "cell_type": "markdown",
   "metadata": {},
   "source": [
    "![module1](images/1.0/module_1.png)"
   ]
  },
  {
   "cell_type": "markdown",
   "metadata": {
    "tags": [
     "remove_cell"
    ]
   },
   "source": [
    "![lesson14](images/1.4/lesson_1.4.png)"
   ]
  },
  {
   "cell_type": "markdown",
   "metadata": {
    "tags": [
     "remove_cell"
    ]
   },
   "source": [
    "# Table of Contents\n",
    "\n",
    "* [1. Starting the Platform](#Starting-the-GridAPPS-D-Platform)\n",
    "\n",
    "* [2. Stopping the GridAPPS-D Platform](#Stopping-the-Platform)\n",
    "\n",
    "* [3. Restarting the GridAPPS-D Platform](#Restarting-the-Platform)\n",
    "\n",
    "* [4. Changing GridAPPS-D Platform Release Tags](#Changing-Release-Tags)\n",
    "\n",
    "* [5. Pulling Updated Containers](#Pulling-Updated-Containers)"
   ]
  },
  {
   "cell_type": "markdown",
   "metadata": {
    "tags": [
     "remove_cell"
    ]
   },
   "source": [
    "# 1. Starting the Platform"
   ]
  },
  {
   "cell_type": "markdown",
   "metadata": {},
   "source": [
    "## Starting the GridAPPS-D Platform\n",
    "\n",
    "If you are accessing this section after completing the installation steps in the previous procedure, then the GridAPPS-D Platform is already running."
   ]
  },
  {
   "cell_type": "markdown",
   "metadata": {},
   "source": [
    "When you start your machine next time, you will need to start the GridAPPS-D Platform again. To do this, change directories into `gridappsd-docker` and run the `./run.sh` script\n",
    "\n",
    "* `cd gridappsd-docker`\n",
    "* `./run.sh` or `./run.sh -t release_tag`\n",
    "\n",
    "A complete set of releases of the GridAPPS-D Platform is available under [Platform Release History](1.8-Platform-Release-History.ipynb)"
   ]
  },
  {
   "cell_type": "markdown",
   "metadata": {},
   "source": [
    "![run-sh](images/1.4/win_setup_run_sh.png)"
   ]
  },
  {
   "cell_type": "markdown",
   "metadata": {
    "tags": [
     "remove_cell"
    ]
   },
   "source": [
    "[Return to Top](#Table-of-Contents)"
   ]
  },
  {
   "cell_type": "markdown",
   "metadata": {},
   "source": [
    "---"
   ]
  },
  {
   "cell_type": "markdown",
   "metadata": {
    "tags": [
     "remove_cell"
    ]
   },
   "source": [
    "# 2. Stopping the GridAPPS-D Platform"
   ]
  },
  {
   "cell_type": "markdown",
   "metadata": {},
   "source": [
    "## Stopping the Platform\n"
   ]
  },
  {
   "cell_type": "markdown",
   "metadata": {},
   "source": [
    "### Stopping the Platform from Inside the Docker Container\n",
    "\n",
    "If you are currently inside the `./run-gridappsd.sh` script inside the docker container, use `Ctrl+C` to stop the platform. Some error messages may be displayed as the platform services are stopped."
   ]
  },
  {
   "cell_type": "markdown",
   "metadata": {},
   "source": [
    "![gapps_cntrl_c](images/1.4/gapps_cntrl_c.png)"
   ]
  },
  {
   "cell_type": "markdown",
   "metadata": {},
   "source": [
    "Then exit the docker container using `exit`. This will return to the main ubuntu bash command line:"
   ]
  },
  {
   "cell_type": "markdown",
   "metadata": {},
   "source": [
    "![gapps-exit](images/1.4/gapps_exit.png)"
   ]
  },
  {
   "cell_type": "markdown",
   "metadata": {},
   "source": [
    "Then run the `./stop.sh` script to shut down all the docker containers and free RAM used by the Platform:"
   ]
  },
  {
   "cell_type": "markdown",
   "metadata": {},
   "source": [
    "![gapps-stop-sh-2](images/1.4/gapps_stop_sh_2.png)"
   ]
  },
  {
   "cell_type": "markdown",
   "metadata": {
    "tags": [
     "remove_cell"
    ]
   },
   "source": [
    "[Return to Top](#Table-of-Contents)"
   ]
  },
  {
   "cell_type": "markdown",
   "metadata": {},
   "source": [
    "---"
   ]
  },
  {
   "cell_type": "markdown",
   "metadata": {},
   "source": [
    "### Stopping the Platform from a New Terminal\n",
    "\n",
    "If your terminal was reset or closed, you can stop the platform and shut down all docker containers by changing directories into `gridappsd-docker` and running the `./stop.sh` script:\n",
    "\n",
    "* `cd gridappsd-docker`\n",
    "* `./stop.sh`"
   ]
  },
  {
   "cell_type": "markdown",
   "metadata": {},
   "source": [
    "![stop-sh](images/1.4/gapps_stop_sh_3.png)"
   ]
  },
  {
   "cell_type": "markdown",
   "metadata": {
    "tags": [
     "remove_cell"
    ]
   },
   "source": [
    "[Return to Top](#Table-of-Contents)"
   ]
  },
  {
   "cell_type": "markdown",
   "metadata": {},
   "source": [
    "---"
   ]
  },
  {
   "cell_type": "markdown",
   "metadata": {
    "tags": [
     "remove_cell"
    ]
   },
   "source": [
    "# 3. Restarting the GridAPPS-D Platform"
   ]
  },
  {
   "cell_type": "markdown",
   "metadata": {},
   "source": [
    "## Restarting the Platform\n",
    "\n",
    "After the Platform has been stopped, it can be restarted by running the `./run.sh` script again from within the `gridappsd-docker` directory"
   ]
  },
  {
   "cell_type": "markdown",
   "metadata": {},
   "source": [
    "![run-sh-again](images/1.4/win_setup_run_sh.png)"
   ]
  },
  {
   "cell_type": "markdown",
   "metadata": {
    "tags": [
     "remove_cell"
    ]
   },
   "source": [
    "[Return to Top](#Table-of-Contents)"
   ]
  },
  {
   "cell_type": "markdown",
   "metadata": {},
   "source": [
    "---"
   ]
  },
  {
   "cell_type": "markdown",
   "metadata": {
    "tags": [
     "remove_cell"
    ]
   },
   "source": [
    "# 4. Changing GridAPPS-D Platform Release Tags"
   ]
  },
  {
   "cell_type": "markdown",
   "metadata": {},
   "source": [
    "## Changing Release Tags\n",
    "\n",
    "To change the Platform to run on a different release, run the `./stop.sh` script using the ` -c` option to remove the current containers."
   ]
  },
  {
   "cell_type": "markdown",
   "metadata": {},
   "source": [
    "![change-tags](images/1.4/win_setup_change_tags.png)"
   ]
  },
  {
   "cell_type": "markdown",
   "metadata": {},
   "source": [
    "Remove the gridappsd directory using `sudo rm -r gridappsd gridappsdmysql`"
   ]
  },
  {
   "cell_type": "markdown",
   "metadata": {},
   "source": [
    "![sudo-rm](images/1.4/win_setup_change_tags2.png)"
   ]
  },
  {
   "cell_type": "markdown",
   "metadata": {},
   "source": [
    "Then start the platform again specifying the particular release tag desired. A complete list of platform releases is available in [Platform Release History](1.8-Platform-Release-History.ipynb)"
   ]
  },
  {
   "cell_type": "markdown",
   "metadata": {},
   "source": [
    "![run-sh-again](images/1.4/win_setup_change_tags3.png)"
   ]
  },
  {
   "cell_type": "markdown",
   "metadata": {
    "tags": [
     "remove_cell"
    ]
   },
   "source": [
    "[Return to Top](#Table-of-Contents)"
   ]
  },
  {
   "cell_type": "markdown",
   "metadata": {},
   "source": [
    "---"
   ]
  },
  {
   "cell_type": "markdown",
   "metadata": {
    "tags": [
     "remove_cell"
    ]
   },
   "source": [
    "# 5. Pulling Updated Containers"
   ]
  },
  {
   "cell_type": "markdown",
   "metadata": {},
   "source": [
    "## Pulling Updated Containers\n",
    "\n",
    "The GridAPPS-D platform should automatically check for and pull updated containers each time the `./run.sh` script is run.\n",
    "\n",
    "However, it is sometimes necessary to force docker to pull new containers (e.g. if using a custom set of containers as specified by modifying the docker-compose.yml file). \n",
    "\n",
    "New containers can be pulled by running `docker-compose pull` from within the `gridappsd-docker` directory"
   ]
  },
  {
   "cell_type": "markdown",
   "metadata": {},
   "source": [
    "![docker-compose-pull](images/1.4/docker_compose_pull.png)"
   ]
  },
  {
   "cell_type": "markdown",
   "metadata": {
    "tags": [
     "remove_cell"
    ]
   },
   "source": [
    "[Return to Top](#Table-of-Contents)"
   ]
  },
  {
   "cell_type": "markdown",
   "metadata": {
    "tags": [
     "remove_cell"
    ]
   },
   "source": [
    "---"
   ]
  },
  {
   "cell_type": "markdown",
   "metadata": {
    "tags": [
     "remove_cell"
    ]
   },
   "source": [
    "[![Previous.png](../images/Previous.png)](1.3W-Running-GridAPPS-D.ipynb)"
   ]
  },
  {
   "cell_type": "markdown",
   "metadata": {
    "tags": [
     "remove_cell"
    ]
   },
   "source": [
    "[![Next.png](../images/Next.png)](1.5-Using-GridAPPS-D-Viz.ipynb)"
   ]
  },
  {
   "cell_type": "markdown",
   "metadata": {
    "tags": [
     "remove_cell"
    ]
   },
   "source": [
    "[![Home.png](../images/Home.png)](1.0W--Module-1--Windows-10-Installation.ipynb)"
   ]
  },
  {
   "cell_type": "markdown",
   "metadata": {},
   "source": [
    "---"
   ]
  },
  {
   "cell_type": "markdown",
   "metadata": {},
   "source": [
    "![gridappsd-logo](../images/GridAPPS-D_narrow.png)"
   ]
  }
 ],
 "metadata": {
  "celltoolbar": "Tags",
  "kernelspec": {
   "display_name": "Python 3 (ipykernel)",
   "language": "python",
   "name": "python3"
  },
  "language_info": {
   "codemirror_mode": {
    "name": "ipython",
    "version": 3
   },
   "file_extension": ".py",
   "mimetype": "text/x-python",
   "name": "python",
   "nbconvert_exporter": "python",
   "pygments_lexer": "ipython3",
   "version": "3.8.5"
  }
 },
 "nbformat": 4,
 "nbformat_minor": 4
}
