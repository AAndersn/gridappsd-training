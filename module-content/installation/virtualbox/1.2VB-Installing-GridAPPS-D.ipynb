{
 "cells": [
  {
   "cell_type": "markdown",
   "metadata": {},
   "source": [
    "# Installing GridAPPS-D"
   ]
  },
  {
   "cell_type": "markdown",
   "metadata": {
    "tags": [
     "remove_cell"
    ]
   },
   "source": [
    "![virtualbox](../images/1.0/virtualbox.png)"
   ]
  },
  {
   "cell_type": "markdown",
   "metadata": {
    "tags": [
     "remove_cell"
    ]
   },
   "source": [
    "![lesson11](../images/1.2/lesson_1.2.png)"
   ]
  },
  {
   "cell_type": "markdown",
   "metadata": {
    "tags": [
     "remove_cell"
    ]
   },
   "source": [
    "# 1. Clone the GridAPPS-D Repository"
   ]
  },
  {
   "cell_type": "markdown",
   "metadata": {},
   "source": [
    "## Clone the GridAPPS-D Repository\n",
    "\n",
    "Clone the GridAPPS-D GitHub repository\n",
    "\n",
    "`git clone https://github.com/GRIDAPPSD/gridappsd-docker`\n",
    "\n"
   ]
  },
  {
   "cell_type": "markdown",
   "metadata": {},
   "source": [
    "![git-clone-gapps](../images/1.2/01_git_clone.png)"
   ]
  },
  {
   "cell_type": "markdown",
   "metadata": {},
   "source": [
    "---"
   ]
  },
  {
   "cell_type": "markdown",
   "metadata": {
    "tags": [
     "remove_cell"
    ]
   },
   "source": [
    "# 2. Install Docker"
   ]
  },
  {
   "cell_type": "markdown",
   "metadata": {},
   "source": [
    "## Install Docker\n",
    "\n",
    "The GridAPPS-D repository includes a Docker installation script. This script only works for native linux environments (not WSL2)."
   ]
  },
  {
   "cell_type": "markdown",
   "metadata": {},
   "source": [
    "Change directories into gridapps-docker and run the Docker installation script\n",
    "\n",
    "* `cd gridappsd-docker`\n",
    "* `./docker_install_ubuntu.sh`"
   ]
  },
  {
   "cell_type": "markdown",
   "metadata": {},
   "source": [
    "![install-docker](../images/1.2/03_docker.png)`"
   ]
  },
  {
   "cell_type": "markdown",
   "metadata": {},
   "source": [
    "---"
   ]
  },
  {
   "cell_type": "markdown",
   "metadata": {
    "tags": [
     "remove_cell"
    ]
   },
   "source": [
    "# 3. Install GridAPPS-D"
   ]
  },
  {
   "cell_type": "markdown",
   "metadata": {},
   "source": [
    "## Install GridAPPS-D\n",
    "\n",
    "After Docker finishes installing, log out or restart the Ubuntu session.\n",
    "\n",
    "After logging back in, change directories into gridappsd-docker and start the latest stable version of the GridAPPS-D platform, which will automatically download the required docker containers.\n",
    "\n",
    "* `cd gridappsd-docker`\n",
    "* `./run.sh`"
   ]
  },
  {
   "cell_type": "markdown",
   "metadata": {},
   "source": [
    "![run](../images/1.2/04_run.png)"
   ]
  },
  {
   "cell_type": "markdown",
   "metadata": {},
   "source": [
    "To install a particular release, specify the release tag using the `-t` option:\n",
    "\n",
    "* `./run.sh -t develop` -- Install latest develop version with beta features\n",
    "\n",
    "* `./run.sh -t releases_2022.01.0` -- Install January 2022 release\n",
    "\n",
    "* `./run.sh -t releases_2020.09.0` -- Install September 2020 release"
   ]
  },
  {
   "cell_type": "markdown",
   "metadata": {},
   "source": [
    "Wait for the docker containers to finish downloading. This will take a while due to the package size.\n"
   ]
  },
  {
   "cell_type": "markdown",
   "metadata": {},
   "source": [
    "When the containers have finished downloading and installing, start the GridAPPS-D Platform\n",
    "\n",
    "* `./run-gridappsd.sh`\n"
   ]
  },
  {
   "cell_type": "markdown",
   "metadata": {},
   "source": [
    "![run-gapps](../images/1.2/05_run_gapps.png)"
   ]
  },
  {
   "cell_type": "markdown",
   "metadata": {},
   "source": [
    "The GridAPPS-D platform is now installed and running.\n",
    "\n",
    "To confirm, open [localhost:8080](http://localhost:8080/) to access the GridAPPS-D Viz"
   ]
  },
  {
   "cell_type": "markdown",
   "metadata": {},
   "source": [
    "![localhost-8080](../images/1.2/06_viz.png)"
   ]
  },
  {
   "cell_type": "markdown",
   "metadata": {
    "tags": [
     "remove_cell"
    ]
   },
   "source": [
    "[[Return to Top](#Table-of-Contents)]"
   ]
  },
  {
   "cell_type": "markdown",
   "metadata": {
    "tags": [
     "remove_cell"
    ]
   },
   "source": [
    "---"
   ]
  },
  {
   "cell_type": "markdown",
   "metadata": {
    "tags": [
     "remove_cell"
    ]
   },
   "source": [
    "[![Previous.png](../../images/Previous.png)](1.1VB-Virtual-Machine-Docker-Setup.ipynb)"
   ]
  },
  {
   "cell_type": "markdown",
   "metadata": {
    "tags": [
     "remove_cell"
    ]
   },
   "source": [
    "[![Next.png](../../images/Next.png)](1.3VB-Installing-Python-Tutorials.ipynb)"
   ]
  },
  {
   "cell_type": "markdown",
   "metadata": {
    "tags": [
     "remove_cell"
    ]
   },
   "source": [
    "[![Home.png](../../images/Home.png)](1.0VB--Module-1--VirtualBox-Installation.ipynb)"
   ]
  },
  {
   "cell_type": "markdown",
   "metadata": {},
   "source": [
    "---"
   ]
  },
  {
   "cell_type": "markdown",
   "metadata": {},
   "source": [
    "![gridappsd-logo](../../images/GridAPPS-D_narrow.png)"
   ]
  }
 ],
 "metadata": {
  "celltoolbar": "Tags",
  "kernelspec": {
   "display_name": "Python 3 (ipykernel)",
   "language": "python",
   "name": "python3"
  },
  "language_info": {
   "codemirror_mode": {
    "name": "ipython",
    "version": 3
   },
   "file_extension": ".py",
   "mimetype": "text/x-python",
   "name": "python",
   "nbconvert_exporter": "python",
   "pygments_lexer": "ipython3",
   "version": "3.8.5"
  }
 },
 "nbformat": 4,
 "nbformat_minor": 4
}
