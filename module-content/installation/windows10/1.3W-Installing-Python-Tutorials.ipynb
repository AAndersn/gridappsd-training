{
 "cells": [
  {
   "cell_type": "markdown",
   "metadata": {},
   "source": [
    "# Installing GridAPPSD-Python and Notebook Tutorials"
   ]
  },
  {
   "cell_type": "markdown",
   "metadata": {
    "tags": [
     "remove_cell"
    ]
   },
   "source": [
    "![lesson 1.3](../images/1.3/lesson%201.3%20-%20Copy.png)"
   ]
  },
  {
   "cell_type": "markdown",
   "metadata": {
    "tags": [
     "remove_cell"
    ]
   },
   "source": [
    "# 1. Install Anaconda or Miniconda"
   ]
  },
  {
   "cell_type": "markdown",
   "metadata": {},
   "source": [
    "## Install Anaconda or Miniconda\n",
    "\n",
    "Download the latest version of the Miniconda from the [Conda.io website](https://docs.conda.io/en/latest/miniconda.html):\n",
    "\n",
    "* [Python 3.8 for 64-bit Windows](https://repo.anaconda.com/miniconda/Miniconda3-latest-Windows-x86_64.exe)\n",
    "* [Python 3.8 for 32-bit Windows](https://repo.anaconda.com/miniconda/Miniconda3-latest-Windows-x86.exe)\n",
    "\n",
    "Use the installation wizard with the recommended settings to complete installation.\n"
   ]
  },
  {
   "cell_type": "markdown",
   "metadata": {},
   "source": [
    "![miniconda](../images/1.3/win_setup_miniconda.png)"
   ]
  },
  {
   "cell_type": "markdown",
   "metadata": {},
   "source": [
    "After installation is complete, launch the __Anaconda Prompt (Miniconda3)__ from the Start Menu or by typing `anaconda` in the Cortana toolbar"
   ]
  },
  {
   "cell_type": "markdown",
   "metadata": {},
   "source": [
    "![launch-miniconda](../images/1.3/win_setup_launch_miniconda.png)"
   ]
  },
  {
   "cell_type": "markdown",
   "metadata": {},
   "source": [
    "The miniconda terminal window will open"
   ]
  },
  {
   "cell_type": "markdown",
   "metadata": {},
   "source": [
    "![miniconda-terminal](../images/1.3/win_setup_miniconda_terminal.png)"
   ]
  },
  {
   "cell_type": "markdown",
   "metadata": {
    "tags": [
     "remove_cell"
    ]
   },
   "source": [
    "[Return to Top](#Table-of-Contents)"
   ]
  },
  {
   "cell_type": "markdown",
   "metadata": {},
   "source": [
    "---"
   ]
  },
  {
   "cell_type": "markdown",
   "metadata": {
    "tags": [
     "remove_cell"
    ]
   },
   "source": [
    "# 2. Install GridAPPSD-Python"
   ]
  },
  {
   "cell_type": "markdown",
   "metadata": {},
   "source": [
    "## Install GridAPPSD-Python\n",
    "\n",
    "In the Miniconda terminal window, download and install GridAPPSD-Python by running \n",
    "\n",
    "`pip install gridappsd-python` \n",
    "\n",
    "to download the GridAPPSD-Python library and required packages."
   ]
  },
  {
   "cell_type": "markdown",
   "metadata": {},
   "source": [
    "![install-gapps-python](../images/1.3/win_setup_install_gapps_python.png)"
   ]
  },
  {
   "cell_type": "markdown",
   "metadata": {},
   "source": [
    "GridAPPSD-Python and all dependencies should have been automatically added to your anaconda path after completion."
   ]
  },
  {
   "cell_type": "markdown",
   "metadata": {
    "tags": [
     "remove_cell"
    ]
   },
   "source": [
    "[Return to Top](#Table-of-Contents)"
   ]
  },
  {
   "cell_type": "markdown",
   "metadata": {},
   "source": [
    "---"
   ]
  },
  {
   "cell_type": "markdown",
   "metadata": {
    "tags": [
     "remove_cell"
    ]
   },
   "source": [
    "# 3. Install Jupyter Lab"
   ]
  },
  {
   "cell_type": "markdown",
   "metadata": {},
   "source": [
    "## Install Jupyter Lab\n",
    "\n",
    "In the miniconda terminal window, run \n",
    "\n",
    "`pip install jupyterlab`\n",
    "\n",
    "to install the Jupyter environment for executing the python notebooks. It may take a couple minutes to collect and install all the required packages."
   ]
  },
  {
   "cell_type": "markdown",
   "metadata": {},
   "source": [
    "![install-jupyter](../images/1.3/win_setup_install_jupyter.png)"
   ]
  },
  {
   "cell_type": "markdown",
   "metadata": {
    "tags": [
     "remove_cell"
    ]
   },
   "source": [
    "[Return to Top](#Table-of-Contents)"
   ]
  },
  {
   "cell_type": "markdown",
   "metadata": {},
   "source": [
    "---"
   ]
  },
  {
   "cell_type": "markdown",
   "metadata": {
    "tags": [
     "remove_cell"
    ]
   },
   "source": [
    "# 4. Python Training Notebooks"
   ]
  },
  {
   "cell_type": "markdown",
   "metadata": {},
   "source": [
    "## Python Training Notebooks\n",
    "\n",
    "The Jupyter / iPython training notebooks are the source materials for the GridAPPS-D ReadTheDocs website.\n",
    "\n",
    "The notebooks include all the code examples and sample app materials in a format that can connect to a local GridAPPS-D platform session and interact in real-time with simulations in real-time."
   ]
  },
  {
   "cell_type": "markdown",
   "metadata": {},
   "source": [
    "![notebook-platform-interaction](../images/1.3/switch_app_viz_interaction.gif)"
   ]
  },
  {
   "cell_type": "markdown",
   "metadata": {},
   "source": [
    "### Download Python Training Notebooks\n",
    "\n",
    "In the miniconda terminal window, clone the python notebooks by running `git clone https://github.com/GRIDAPPSD/gridappsd-training` to download the python training notebooks. \n"
   ]
  },
  {
   "attachments": {
    "win_setup_install_notebooks.png": {
     "image/png": "[encoded data removed]"
    }
   },
   "cell_type": "markdown",
   "metadata": {},
   "source": [
    "![win_setup_install_notebooks.png](attachment:win_setup_install_notebooks.png)\n",
    "\n",
    "By default, the notebooks will be saved in the directory `C:\\Users\\username\\gridappsd-training`\n",
    "\n",
    "Close the miniconda terminal"
   ]
  },
  {
   "cell_type": "markdown",
   "metadata": {},
   "source": []
  },
  {
   "cell_type": "markdown",
   "metadata": {
    "tags": [
     "remove_cell"
    ]
   },
   "source": [
    "[Return to Top](#Table-of-Contents)"
   ]
  },
  {
   "cell_type": "markdown",
   "metadata": {},
   "source": [
    "---"
   ]
  },
  {
   "cell_type": "markdown",
   "metadata": {},
   "source": [
    "### Running Python Training Notebooks"
   ]
  },
  {
   "cell_type": "markdown",
   "metadata": {},
   "source": [
    "Start the Jupyter notebooks running on port 8890 (to avoid port sharing conflict with the GridAPPS-D Blazegraph database container):\n",
    "\n",
    "`jupyter notebook --port 8890`"
   ]
  },
  {
   "cell_type": "markdown",
   "metadata": {},
   "source": [
    "\n",
    "\n",
    "If running on a remote server (e.g. AWS cloud or university / laboratory server farm), start the notebooks by running\n",
    "\n",
    "`jupyter notebook --port 8890 --no-browser --ip='0.0.0.0'`"
   ]
  },
  {
   "cell_type": "markdown",
   "metadata": {},
   "source": [
    "### Port Sharing between GridAPPS-D and Jupyter\n",
    "\n",
    "By default, both Jupyter and the GridAPPS-D Blazegraph database use port 8889. If a Jupyter notebook is already running on port 8889, the Blazegraph database container will fail to start.\n",
    "\n",
    "It is recommended to specify manually that Jupyter run on a different port:\n",
    "\n",
    "`jupyter notebook --port 8890`"
   ]
  },
  {
   "cell_type": "markdown",
   "metadata": {
    "tags": [
     "remove_cell"
    ]
   },
   "source": [
    "[Return to Top](#Table-of-Contents)"
   ]
  },
  {
   "cell_type": "markdown",
   "metadata": {},
   "source": [
    "---"
   ]
  },
  {
   "cell_type": "markdown",
   "metadata": {
    "tags": [
     "remove_cell"
    ]
   },
   "source": [
    "[![Previous.png](../../images/Previous.png)](1.2W-Installing-GridAPPS-D.ipynb)"
   ]
  },
  {
   "cell_type": "markdown",
   "metadata": {
    "tags": [
     "remove_cell"
    ]
   },
   "source": [
    "[![Next.png](../../images/Next.png)](../../installation/1.4-Running-GridAPPS-D.ipynb)"
   ]
  },
  {
   "cell_type": "markdown",
   "metadata": {
    "tags": [
     "remove_cell"
    ]
   },
   "source": [
    "[![Home.png](../../images/Home.png)](../windows10/Module-1W--Windows-10-Installation.ipynb)"
   ]
  },
  {
   "cell_type": "markdown",
   "metadata": {},
   "source": [
    "---"
   ]
  },
  {
   "cell_type": "markdown",
   "metadata": {},
   "source": [
    "![gridappsd-logo](../../images/GridAPPS-D_narrow.png)"
   ]
  }
 ],
 "metadata": {
  "celltoolbar": "Tags",
  "kernelspec": {
   "display_name": "Python 3 (ipykernel)",
   "language": "python",
   "name": "python3"
  },
  "language_info": {
   "codemirror_mode": {
    "name": "ipython",
    "version": 3
   },
   "file_extension": ".py",
   "mimetype": "text/x-python",
   "name": "python",
   "nbconvert_exporter": "python",
   "pygments_lexer": "ipython3",
   "version": "3.8.5"
  }
 },
 "nbformat": 4,
 "nbformat_minor": 4
}
