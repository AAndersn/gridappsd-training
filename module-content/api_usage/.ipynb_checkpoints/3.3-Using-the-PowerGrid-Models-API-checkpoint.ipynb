{
 "cells": [
  {
   "cell_type": "markdown",
   "metadata": {},
   "source": [
    "# Using the PowerGrid Models API"
   ]
  },
  {
   "cell_type": "markdown",
   "metadata": {
    "tags": [
     "remove_cell"
    ]
   },
   "source": []
  },
  {
   "cell_type": "markdown",
   "metadata": {
    "tags": [
     "remove_cell"
    ]
   },
   "source": [
    "This tutorial introduces the PowerGrid Models API and how it can be used to query for power system model data and measurement MRIDs.\n",
    "\n",
    "__Learning Objectives:__\n",
    "\n",
    "At the end of the tutorial, the user should be able to use the PowerGrid Models API to\n",
    "\n",
    "* Explain when the PowerGrid Models API is used by a GridAPPS-D application\n",
    "* Explain what types of model data are obtained using the PowerGrid Models API\n",
    "* Select the correct API communication channel\n",
    "* Query for feeder information\n",
    "* Query for equipment information\n",
    "* Query for device measurements\n",
    "\n",
    "## Getting Started\n",
    "\n",
    "Before running any of the sample routines in this tutorial, it is first necessary to start the GridAPPS-D Platform and establish a connection to this notebook so that we can start passing calls to the API."
   ]
  },
  {
   "cell_type": "markdown",
   "metadata": {
    "tags": [
     "remove_cell"
    ]
   },
   "source": [
    "_Open the Ubuntu terminal and start the GridAPPS-D Platform if it is not running already:_\n",
    "\n",
    "`cd gridappsd-docker`\n",
    "\n",
    "~/gridappsd-docker$ `./run.sh -t develop`\n",
    "\n",
    "_Once containers are running,_\n",
    "\n",
    "gridappsd@[container]:/gridappsd$ `./run-gridappsd.sh`"
   ]
  },
  {
   "cell_type": "code",
   "execution_count": 1,
   "metadata": {
    "tags": [
     "remove_cell"
    ]
   },
   "outputs": [],
   "source": [
    "# Establish connection to GridAPPS-D Platform:\n",
    "from gridappsd import GridAPPSD\n",
    "\n",
    "# IEEE 13 Node used for all example queries\n",
    "model_mrid = \"_49AD8E07-3BF9-A4E2-CB8F-C3722F837B62\" \n",
    "\n",
    "# Set environment variables - when developing, put environment variable in ~/.bashrc file or export in command line\n",
    "# export GRIDAPPSD_USER=system\n",
    "# export GRIDAPPSD_PASSWORD=manager\n",
    "\n",
    "import os # Set username and password\n",
    "os.environ['GRIDAPPSD_USER'] = 'tutorial_user'\n",
    "os.environ['GRIDAPPSD_PASSWORD'] = '12345!'\n",
    "\n",
    "# Connect to GridAPPS-D Platform\n",
    "gapps = GridAPPSD()\n",
    "assert gapps.connected"
   ]
  },
  {
   "cell_type": "markdown",
   "metadata": {},
   "source": [
    "---"
   ]
  },
  {
   "cell_type": "markdown",
   "metadata": {
    "tags": [
     "remove_cell"
    ]
   },
   "source": [
    "## Table of Contents\n",
    "\n",
    "* [1. Introduction to the PowerGrid Model API](#1.-Introduction-to-the-PowerGrid-Model-API)\n",
    "\n",
    "\n",
    "* [2. API Syntax Overview](#2.-API-Syntax-Overview)\n",
    "    * [2.1. API Communication Channel](#2.1.-API-Communication-Channel)\n",
    "    * [2.2. Structure of a Query Message](#2.2.-Structure-of-a-Query-Message)\n",
    "    * [2.3. Specifying the requestType](#2.3.-Specifying-the-requestType)\n",
    "    \n",
    "\n",
    "* [3. Querying for Feeder Model Info](#3.-Querying-for-Feeder-Model-Info)\n",
    "    * [3.1. Query for mRIDs of all Models](#3.1.-Query-for-mRIDs-of-all-Models)\n",
    "    * [3.2.-Query for Details Dictionary of all Models](#3.2.-Query-for-Details-Dictionary-of-all-Models)\n",
    "    \n",
    "    \n",
    "* [4. Querying for Object Info](#4.-Querying-for-Object-Info)\n",
    "    * [4.1. Query for CIM Classes of Objects in Model](#4.1.-Query-for-CIM-Classes-of-Objects-in-Model)\n",
    "    * [4.2. Query for mRIDs of Objects in a Feeder](#4.2.-Query-for-mRIDs-of-Objects-in-a-Feeder)\n",
    "    * [4.3. Query for CIM Attributes of an Object](#4.3.-Query-for-CIM-Attributes-of-an-Object)\n",
    "    * [4.4. Query for Object Dictionary](#4.4.-Query-for-Object-Dictionary)\n",
    "    \n",
    "    \n",
    "* [5. Querying for Object Measurements](#5.-Querying-for-Object-Measurements)\n",
    "    * [5.1. Object mRIDs vs Measurement mRIDs](#5.1.-Object-mRIDs-vs-Measurement-mRIDs)\n",
    "    * [5.2. Querying for Measurements](#5.2.-Querying-for-Measurements)\n",
    "    * [5.3. Filtering Returned Data](#5.3.-Filtering-Returned-Data)\n",
    "    \n",
    "    \n",
    "* [6. GridAPPSD-Python Shortcut Methods](#6.-GridAPPSD-Python-Shortcut-Methods)\n",
    "    * [6.1. Querying for mRIDs of all Models](#6.1.-Querying-for-mRIDs-of-all-Models)\n",
    "    * [6.2. Query for CIM Classes of Objects in Model](#6.2.-Query-for-CIM-Classes-of-Objects-in-Model)\n",
    "    * [6.3. Query for CIM Attributes of an Object](#6.3.-Query-for-CIM-Attributes-of-an-Object)"
   ]
  },
  {
   "cell_type": "markdown",
   "metadata": {
    "tags": [
     "remove_cell"
    ]
   },
   "source": [
    "---"
   ]
  },
  {
   "cell_type": "markdown",
   "metadata": {},
   "source": [
    "## 1. Introduction to the PowerGrid Model API\n",
    "\n",
    "\n",
    "The PowerGrid Models API is used to pull model information from the Blazegraph Database, inlcuding the names, mRIDs, measurements, and nominal values of power system equipment in the feeder (such as lines, loads, switches, transformers, and DERs).\n",
    "\n",
    "In the Application Components diagram (explained in detail with sample code in [GridAPPS-D Application Structure](../overview/2.4-GridAPPS-D-Application-Structure.ipynb)), the PowerGrid Models API is used for querying for the power system model and querying for model measurement MRIDs."
   ]
  },
  {
   "cell_type": "markdown",
   "metadata": {},
   "source": [
    "![power grid models](images/3.3/power_grid_models_usage.png)"
   ]
  },
  {
   "cell_type": "markdown",
   "metadata": {},
   "source": [
    "---"
   ]
  },
  {
   "cell_type": "markdown",
   "metadata": {
    "tags": [
     "remove_cell"
    ]
   },
   "source": [
    "# 2. API Syntax Overview"
   ]
  },
  {
   "cell_type": "markdown",
   "metadata": {},
   "source": [
    "## API Syntax Overview\n",
    "\n",
    "__Application passes query to GridAPPS-D Platform__\n",
    "\n",
    "First, the application creates a query message for requesting information about the desired power system components in the format of a JSON string or equivalant Python dictionary object. The syntax of this message is explained in detail below.\n",
    "\n",
    "The query is sent using `gapps.get_response(topic, message)` with a response expected back from the platform within the specified timeout period.\n",
    "\n",
    "The application then passes the query through the PowerGrid Models API to the GridAPPS-D Platform, which publishes it to the `goss.gridappsd.process.request.data.powergridmodel` queue channel on the GOSS Message Bus. If the app is authenticated and authorized to pass queries, the query message is delivered to the data managers, which obtain the desired information from the Blazegraph Database. \n",
    "\n",
    "__GridAPPS-D Platform responds to Application query__\n",
    "\n",
    "The data managers then publish the response from the Blazegraph Database to the appropriate queue channel. The PowerGrid Models API then returns the desired information back to the application as a JSON message or equivalant Python dictionary object."
   ]
  },
  {
   "cell_type": "markdown",
   "metadata": {
    "tags": [
     "remove_cell"
    ]
   },
   "source": [
    "## 2.1. API Communication Channel"
   ]
  },
  {
   "cell_type": "markdown",
   "metadata": {},
   "source": [
    "### API Communication Channel\n",
    "\n",
    "All queries passed to the PowerGrid Models API need to use the correct communication channel, which is obtained using the [GridAPPS-D Topics library](3.1-API-Communication-Channels.ipynb). \n",
    "\n",
    "The PowerGrid Model API uses a `/queue/` channel to pull power system model info from the the Blazegraph Database. The base static string used is `goss.gridappsd.process.request.data.powergridmodel`, which can be called using the `.REQUEST_POWERGRID_DATA` or `.BLAZEGRAPH` methods from the topics library.\n",
    "\n",
    "When developing in python, it is recommended to use the `.REQUEST_POWERGRID_DATA` method. When using the STOMP client in GridAPPS-D VIZ, it is necessary to use the base static string."
   ]
  },
  {
   "cell_type": "code",
   "execution_count": 2,
   "metadata": {},
   "outputs": [],
   "source": [
    "from gridappsd import topics as t\n",
    "topic = t.REQUEST_POWERGRID_DATA"
   ]
  },
  {
   "cell_type": "markdown",
   "metadata": {
    "tags": [
     "remove_cell"
    ]
   },
   "source": [
    "[Return to Top](#Table-of-Contents)"
   ]
  },
  {
   "cell_type": "markdown",
   "metadata": {},
   "source": [
    "---"
   ]
  },
  {
   "cell_type": "markdown",
   "metadata": {
    "tags": [
     "remove_cell"
    ]
   },
   "source": [
    "## 2.2. Structure of a Query Message"
   ]
  },
  {
   "cell_type": "markdown",
   "metadata": {},
   "source": [
    "### Structure of a Query Message\n",
    "\n",
    "Queries passed to PowerGrid Models API are formatted as python dictionaries or equivalent JSON scripts wrapped as a python string. \n",
    "\n",
    "```\n",
    "message = {\n",
    "    \"requestType\": \"INSERT QUERY HERE\",\n",
    "    \"resultFormat\": \"JSON\",\n",
    "    \"modelId\": \"OPTIONAL INSERT MODEL mRID HERE\",\n",
    "    \"objectType\": \"OPTIONAL INSERT CIM CLASS HERE\",\n",
    "    \"objectId\": \"OPTIONAL INSERT OBJECT mRID HERE\",\n",
    "    \"filter\": \"OPTIONAL INSERT SPARQL FILTER HERE\"\n",
    "}\n",
    "```\n",
    "\n",
    "The components of the message are as follows:\n",
    "\n",
    "* `\"requestType\":` -- Specifies the type of query. Available requestType are listed in the next section.\n",
    "\n",
    "\n",
    "* `\"resultFormat\":` -- Specifies the format of the response, can be `\"JSON\"`, `\"CSV\"`, or `\"XML\"`. (CAUTION: the PowerGridModel API uses the key _resultFormat_, while the Timeseries API uses the key _reponseFormat_. Using the wrong key for either API will result in a java.lang error.)\n",
    "\n",
    "\n",
    "* `\"modelID\":` -- Optional. Used to filter the query to only one particular model whose mRID is specified. Be aware of spelling and capitalization differences between JSON query spelling `\"modelId\"` and Python Library spelling `model_id`.\n",
    "\n",
    "\n",
    "* `\"objectType\":` -- Optional. Used to filter the query to only one CIM class of equipment. Speciying the _objectID_ will override any values specified for _objectType_. \n",
    "\n",
    "\n",
    "* `\"objectID\":` -- Optional. Used to filter the query to only one object whose mRID is specified. Specifying the _objectID_ will override any values specified for _objectType_. \n",
    "\n",
    "\n",
    "* `\"filter\":` -- Optional. Used to filter the query using a SPARQL filter. SPARQL queries are covered in the next lesson.\n",
    "\n",
    "\n",
    "The usage of each of these message components are explained in detail with code block examples below. \n",
    "\n",
    "__Important__: Be sure to pay attention to placement of commas ( __,__ ) at the end of each JSON line. Commas are placed at the end of each line _except_ the last line. Incorrect comma placement will result in a JsonSyntaxException. \n",
    "\n",
    "All of the queries are passed to the PowerGrid Model API using the `.get_response(topic, message)` method for the GridAPPS-D platform connection variable."
   ]
  },
  {
   "cell_type": "markdown",
   "metadata": {
    "tags": [
     "remove_cell"
    ]
   },
   "source": [
    "[Return to Top](#Table-of-Contents)"
   ]
  },
  {
   "cell_type": "markdown",
   "metadata": {},
   "source": [
    "---"
   ]
  },
  {
   "cell_type": "markdown",
   "metadata": {
    "tags": [
     "remove_cell"
    ]
   },
   "source": [
    "## 2.3. Specifying the `requestType`"
   ]
  },
  {
   "cell_type": "markdown",
   "metadata": {},
   "source": [
    "### Specifying the requestType\n",
    "\n",
    "Below are the possible `requestType` strings that are used to specify the type of each query. Executable code block examples are provided for each of the requests in the subsections below.\n",
    "\n",
    "The first group of _requestType_ key-value pairs are for queries for information related to the just the mRIDs of a set of feeders or set of equipment within a particular feeder:\n",
    "\n",
    "* `\"requestType\": \"QUERY_MODEL_NAMES\"` -- [Query for the list of all model name mRIDs](#Query-for-mRIDs-of-all-Models)\n",
    "\n",
    "\n",
    "* `\"requestType\": \"QUERY_OBJECT_IDS\"` -- [Query for a list of all mRIDs for objects of a CIM class](#Query-for-mRIDs-of-Objects-in-a-Feeder)"
   ]
  },
  {
   "cell_type": "markdown",
   "metadata": {},
   "source": [
    "The second group of _requestType_ key-value pairs are for queries for Python dictionaries containing all specifics of a set of feeders or set of equipment within a particular feeder:\n",
    "\n",
    "* `\"requestType\": \"QUERY_MODEL_INFO\"` -- [Query for the dictionary of all details for all feeders in Blazegraph](#Query-for-Details-Dictionary-of-all-Models)\n",
    "\n",
    "\n",
    "* `\"requestType\": \"QUERY_OBJECT_DICT\"` -- [Query for the dictionary of all details for an object using either its _objectType_ OR its _objectID_](#Query-for-Object-Dictionary)"
   ]
  },
  {
   "cell_type": "markdown",
   "metadata": {},
   "source": [
    "The third group of _requestType_ key-value pairs are for obtaining information about CIM objects and attributes:\n",
    "\n",
    "* `\"requestType\": \"QUERY_OBJECT_TYPES\"` -- [Query for the types of CIM classes of objects in the model](#Query-for-CIM-Classes-of-Objects-in-Model)\n",
    "\n",
    "\n",
    "* `\"requestType\": \"QUERY_OBJECT\"` -- [Query for CIM attributes of an object using its unique mRID](#Query-for-CIM-Attributes-of-an-Object)\n"
   ]
  },
  {
   "cell_type": "markdown",
   "metadata": {},
   "source": [
    "One of the most important queries is for object measurements. Each piece of equipment has voltage, power, and/or position measurements associated with it. Each measurement has a unique mRID which is different from that of the equipment.\n",
    "\n",
    "* `\"requestType\": \"QUERY_OBJECT_MEASUREMENTS\"` -- [Query for all measurement types and mRIDs for an object using either its _objectType_ OR its _ObjectID_](#Querying-for-Measurements)"
   ]
  },
  {
   "cell_type": "markdown",
   "metadata": {},
   "source": [
    "The last group of _requestType_ key-value pairs are for queries based on SPARQL filters or complete SPARQL queries. Usage of these two _requestType_ is made in conjunction with custom SPARQL queries given in [Sample SPARQL Queries](https://github.com/GRIDAPPSD/CIMHub/blob/master/queries.txt).\n",
    "\n",
    "* `\"requestType\": \"QUERY_MODEL\"` -- Query for all  part of a specified model, filtered by object type using a SPARQL filter.\n",
    "\n",
    "\n",
    "* `\"requestType\": \"QUERY\"` -- Query using a complete SPARQL query."
   ]
  },
  {
   "cell_type": "markdown",
   "metadata": {
    "tags": [
     "remove_cell"
    ]
   },
   "source": [
    "[Return to Top](#Table-of-Contents)"
   ]
  },
  {
   "cell_type": "markdown",
   "metadata": {},
   "source": [
    "---"
   ]
  },
  {
   "cell_type": "markdown",
   "metadata": {
    "tags": [
     "remove_cell"
    ]
   },
   "source": [
    "## 2.4. CIM Objects Supported by PowerGrid Models API"
   ]
  },
  {
   "cell_type": "markdown",
   "metadata": {},
   "source": [
    "### CIM Objects Supported by PowerGrid Models API\n",
    "\n",
    "Below is a list of CIM object classes that can be queried for using the PowerGrid Models API. Other classes and associated attributes need to be queried for using a custom SPARQL query. Sample SPARQL queries for must custom queries can be found in the [CIMHub queries.txt file](https://github.com/GRIDAPPSD/CIMHub/blob/master/queries.txt)\n",
    "\n",
    "__CIM Classes supported by the PowerGrid Models API__\n",
    "\n",
    "* `ACLineSegment`\n",
    "* `Breaker`\n",
    "* `ConnectivityNode`\n",
    "* `EnergyConsumer`\n",
    "* `EnergySource`\n",
    "* `Fuse`\n",
    "* `LinearShuntCompensator`\n",
    "* `LoadBreakSwitch`\n",
    "* `PowerElectronicsConnection`\n",
    "* `PowerTransformer`\n",
    "* `Recloser`\n",
    "* `SynchronousMachine`\n",
    "* `TransformerTank`\n",
    "\n",
    "__CIM Classes requiring custom SPARQL queries__\n",
    "\n",
    "* `ACLineSegmentPhase`\n",
    "* `Analog`\n",
    "* `Asset`\n",
    "* `BaseVoltage`\n",
    "* `BatteryUnit`\n",
    "* `ConcentricNeutralCableInfo`\n",
    "* `CoordinateSystem`\n",
    "* `CurrentLimit`\n",
    "* `Discrete`\n",
    "* `EnergyConsumerPhase`\n",
    "* `Feeder`\n",
    "* `GeographicalRegion`\n",
    "* `House`\n",
    "* `IEC61970CIMVersion`\n",
    "* `LinearShuntCompensatorPhase`\n",
    "* `LoadResponseCharacteristic`\n",
    "* `Location`\n",
    "* `NoLoadTest`\n",
    "* `OperationalLimitSet`\n",
    "* `OperationalLimitType`\n",
    "* `OverheadWireInfo`\n",
    "* `PerLengthPhaseImpedance`\n",
    "* `PerLengthSequenceImpedance`\n",
    "* `PhaseImpedanceData`\n",
    "* `PhotovoltaicUnit`\n",
    "* `PositionPoint`\n",
    "* `PowerElectronicsConnectionPhase`\n",
    "* `PowerTransformerEnd`\n",
    "* `PowerTransformerInfo`\n",
    "* `RatioTapChanger`\n",
    "* `RegulatingControl`\n",
    "* `ShortCircuitTest`\n",
    "* `SubGeographicalRegion`\n",
    "* `Substation`\n",
    "* `SwitchPhase`\n",
    "* `TapChangerControl`\n",
    "* `TapChangerInfo`\n",
    "* `TapeShieldCableInfo`\n",
    "* `Terminal`\n",
    "* `TopologicalIsland`\n",
    "* `TopologicalNode`\n",
    "* `TransformerCoreAdmittance`\n",
    "* `TransformerEndInfo`\n",
    "* `TransformerMeshImpedance`\n",
    "* `TransformerTankEnd`\n",
    "* `TransformerTankInfo`\n",
    "* `VoltageLimit`\n",
    "* `WirePosition`\n",
    "* `WireSpacingInfo`\n"
   ]
  },
  {
   "cell_type": "markdown",
   "metadata": {},
   "source": []
  },
  {
   "cell_type": "markdown",
   "metadata": {},
   "source": [
    "---"
   ]
  },
  {
   "cell_type": "markdown",
   "metadata": {
    "tags": [
     "remove_cell"
    ]
   },
   "source": [
    "# 3. Querying for Model mRIDs"
   ]
  },
  {
   "cell_type": "markdown",
   "metadata": {},
   "source": [
    "## Querying for Model mRIDS\n",
    "\n",
    "Every piece of equipment has a unique mRID, as explained in [Intro to Common Information Model](../overview/2.6-Common-Information-Model.ipynb). These mRIDs are used to identify and communicate with equipment in GridAPPS-D. \n",
    "\n",
    "The set of queries below provide just the mRIDs of equipment matching the query filters. If the full details of equipment are desired (e.g. name and properties), use the [Query for Equipment Dictionaries](#Querying-for-Equipment-Dictionaries) API calls in the next section. \n",
    "\n",
    "This section outlines the pre-built JSON queries that can be passed to the PowerGrid Model API to obtain mRIDs and other information for all models and feeders stored in the Blazegraph Database."
   ]
  },
  {
   "cell_type": "markdown",
   "metadata": {
    "tags": [
     "remove_cell"
    ]
   },
   "source": [
    "## 3.1. Query for mRIDs of all Models"
   ]
  },
  {
   "cell_type": "markdown",
   "metadata": {},
   "source": [
    "### Query for mRIDs of all Models\n",
    "\n",
    "This query obtains a list of all the model MRIDs stored in the Blazegraph database. \n",
    "\n",
    "Query requestType:\n",
    "\n",
    "* `\"requestType\": \"QUERY_MODEL_NAMES\"`\n",
    "\n",
    "Allowed parameters:\n",
    "\n",
    "* `\"resultFormat\":` – \"XML\" / \"JSON\" / \"CSV\" -- Optional. Will return results as a list in the format selected. "
   ]
  },
  {
   "cell_type": "code",
   "execution_count": 3,
   "metadata": {},
   "outputs": [
    {
     "data": {
      "text/plain": [
       "{'data': {'modelNames': ['_13AD8E07-3BF9-A4E2-CB8F-C3722F837B62',\n",
       "   '_49AD8E07-3BF9-A4E2-CB8F-C3722F837B62',\n",
       "   '_4F76A5F9-271D-9EB8-5E31-AA362D86F2C3',\n",
       "   '_503D6E20-F499-4CC7-8051-971E23D0BF79',\n",
       "   '_5B816B93-7A5F-B64C-8460-47C17D6E4B0F',\n",
       "   '_67AB291F-DCCD-31B7-B499-338206B9828F',\n",
       "   '_77966920-E1EC-EE8A-23EE-4EFD23B205BD',\n",
       "   '_9CE150A8-8CC5-A0F9-B67E-BBD8C79D3095',\n",
       "   '_AAE94E4A-2465-6F5E-37B1-3E72183A4E44',\n",
       "   '_C1C3E687-6FFD-C753-582B-632A27E28507',\n",
       "   '_E407CBB6-8C8D-9BC9-589C-AB83FBF0826D',\n",
       "   '_EE71F6C9-56F0-4167-A14E-7F4C71F10EAA']},\n",
       " 'responseComplete': True,\n",
       " 'id': '822855977'}"
      ]
     },
     "execution_count": 3,
     "metadata": {},
     "output_type": "execute_result"
    }
   ],
   "source": [
    "message = {\n",
    "    \"requestType\": \"QUERY_MODEL_NAMES\",\n",
    "    \"resultFormat\": \"JSON\"\n",
    "}\n",
    "\n",
    "gapps.get_response(topic, message)"
   ]
  },
  {
   "cell_type": "markdown",
   "metadata": {},
   "source": [
    "The same query can be passed through the STOMP client by specifying the `goss.gridappsd.process.request.data.powergridmodel` topic and the same message without the python wrapping:"
   ]
  },
  {
   "cell_type": "markdown",
   "metadata": {},
   "source": [
    "![query-object-ids](images/3.3/QUERY_MODEL_NAMES.png)"
   ]
  },
  {
   "cell_type": "markdown",
   "metadata": {},
   "source": [
    "__Python Library Method__\n",
    "\n",
    "The GridAPPSD-Python library contains a pre-built method for obtaining the mRIDs of all models, providing identical results to those obtained above.\n",
    "\n",
    "The `.query_model_names` method is associated with the GridAPPSD connection object and returns a list of all the CIM XML classes of objects present in the Blazegraph for a particular model or all models in the database."
   ]
  },
  {
   "cell_type": "code",
   "execution_count": 4,
   "metadata": {},
   "outputs": [
    {
     "data": {
      "text/plain": [
       "{'data': {'modelNames': ['_13AD8E07-3BF9-A4E2-CB8F-C3722F837B62',\n",
       "   '_49AD8E07-3BF9-A4E2-CB8F-C3722F837B62',\n",
       "   '_4F76A5F9-271D-9EB8-5E31-AA362D86F2C3',\n",
       "   '_503D6E20-F499-4CC7-8051-971E23D0BF79',\n",
       "   '_5B816B93-7A5F-B64C-8460-47C17D6E4B0F',\n",
       "   '_67AB291F-DCCD-31B7-B499-338206B9828F',\n",
       "   '_77966920-E1EC-EE8A-23EE-4EFD23B205BD',\n",
       "   '_9CE150A8-8CC5-A0F9-B67E-BBD8C79D3095',\n",
       "   '_AAE94E4A-2465-6F5E-37B1-3E72183A4E44',\n",
       "   '_C1C3E687-6FFD-C753-582B-632A27E28507',\n",
       "   '_E407CBB6-8C8D-9BC9-589C-AB83FBF0826D',\n",
       "   '_EE71F6C9-56F0-4167-A14E-7F4C71F10EAA']},\n",
       " 'responseComplete': True,\n",
       " 'id': '1402872744'}"
      ]
     },
     "execution_count": 4,
     "metadata": {},
     "output_type": "execute_result"
    }
   ],
   "source": [
    "gapps.query_model_names()"
   ]
  },
  {
   "cell_type": "markdown",
   "metadata": {
    "tags": [
     "remove_cell"
    ]
   },
   "source": [
    "[Return to Top](#Table-of-Contents)"
   ]
  },
  {
   "cell_type": "markdown",
   "metadata": {},
   "source": [
    "---"
   ]
  },
  {
   "cell_type": "markdown",
   "metadata": {
    "tags": [
     "remove_cell"
    ]
   },
   "source": [
    "## 3.2. Query for mRIDs of Objects in a Feeder"
   ]
  },
  {
   "cell_type": "markdown",
   "metadata": {},
   "source": [
    "### Query for mRIDs of Objects in a Feeder\n",
    "\n",
    "This query is used to obtain all the mRIDs of objects of a particular CIM class in the feeder. \n",
    "\n",
    "Query responseType is\n",
    "\n",
    "* `\"requestType\": \"QUERY_OBJECT_IDS\"`\n",
    "\n",
    "Allowed parameters are:\n",
    "\n",
    "* `\"modelId\":` \"model name mRID\" -- When specified it searches against that model, if empty it will search against all models\n",
    "* `\"objectType\":` \"CIM Class\" -- Optional. Specifies the type of objects you wish to return details for.\n",
    "* `\"resultFormat\":` – \"XML\" / \"JSON\" / \"CSV\" -- Will return results as a list in the format selected. \n",
    "\n",
    "Within a particular feeder, it is possible to query for objects of all the CIM classes supported by PowerGrid Models API (discussed above in [CIM Objects Supported by the API](#CIM-Objects-Supported-by-PowerGrid-Models-API)). Other types of equipment require custom SPARQL queries.\n",
    "\n",
    "Note that the RDF URI is not included in the query, only the name of the class, such as `\"objectType\": \"ACLineSegment\"` or `\"objectType\": \"LoadBreakSwitch\"`."
   ]
  },
  {
   "cell_type": "code",
   "execution_count": 5,
   "metadata": {},
   "outputs": [
    {
     "data": {
      "text/plain": [
       "{'data': {'objectIds': ['_2858B6C2-0886-4269-884C-06FA8B887319',\n",
       "   '_517413CB-6977-46FA-8911-C82332E42884']},\n",
       " 'responseComplete': True,\n",
       " 'id': '48180952'}"
      ]
     },
     "execution_count": 5,
     "metadata": {},
     "output_type": "execute_result"
    }
   ],
   "source": [
    "message = {\n",
    "    \"requestType\": \"QUERY_OBJECT_IDS\",\n",
    "    \"modelId\": model_mrid,\n",
    "    \"objectType\": \"LoadBreakSwitch\",\n",
    "    \"resultFormat\": \"JSON\"\n",
    "} \n",
    "\n",
    "gapps.get_response(topic, message)"
   ]
  },
  {
   "cell_type": "markdown",
   "metadata": {},
   "source": [
    "It is possible to then filter the response to just a list of the mRIDs:"
   ]
  },
  {
   "cell_type": "code",
   "execution_count": 6,
   "metadata": {},
   "outputs": [
    {
     "name": "stdout",
     "output_type": "stream",
     "text": [
      "['_2858B6C2-0886-4269-884C-06FA8B887319', '_517413CB-6977-46FA-8911-C82332E42884']\n"
     ]
    }
   ],
   "source": [
    "response_obj = gapps.get_response(topic, message)\n",
    "switch_mrids = response_obj['data']['objectIds']\n",
    "print(switch_mrids)"
   ]
  },
  {
   "cell_type": "markdown",
   "metadata": {},
   "source": [
    "The same query can be passed through the STOMP client by specifying the `goss.gridappsd.process.request.data.powergridmodel` topic and the same message without the python wrapping:"
   ]
  },
  {
   "cell_type": "markdown",
   "metadata": {},
   "source": [
    "![query-object-ids](images/3.3/QUERY_OBJECT_IDS.png)"
   ]
  },
  {
   "cell_type": "markdown",
   "metadata": {
    "tags": [
     "remove_cell"
    ]
   },
   "source": [
    "[Return to Top](#Table-of-Contents)"
   ]
  },
  {
   "cell_type": "markdown",
   "metadata": {},
   "source": [
    "---"
   ]
  },
  {
   "cell_type": "markdown",
   "metadata": {
    "tags": [
     "remove_cell"
    ]
   },
   "source": [
    "# 4. Querying for Equipment Dictionaries"
   ]
  },
  {
   "cell_type": "markdown",
   "metadata": {},
   "source": [
    "## Querying for Equipment Dictionaries\n",
    "\n",
    "This section outlines the pre-built JSON queries that can be passed to the PowerGrid Model API to obtain mRIDs and other information for a particular object or a class of objects for one or more feeders stored in the Blazegraph Database.\n",
    "\n",
    "All of the examples in this section use the IEEE 13 node model."
   ]
  },
  {
   "cell_type": "code",
   "execution_count": 7,
   "metadata": {},
   "outputs": [],
   "source": [
    "model_mrid = \"_49AD8E07-3BF9-A4E2-CB8F-C3722F837B62\" # IEEE 13 Node used for all example queries"
   ]
  },
  {
   "cell_type": "markdown",
   "metadata": {
    "tags": [
     "remove_cell"
    ]
   },
   "source": [
    "## 4.1. Query for Dictionary of all Models"
   ]
  },
  {
   "cell_type": "markdown",
   "metadata": {},
   "source": [
    "### Query for Dictionary of all Models\n",
    "\n",
    "This query returns a list of names and MRIDs for all models, substations, subregions, and regions for all available feeders stored in the Blazegraph database.\n",
    "\n",
    "Query requestType:\n",
    "\n",
    "* `\"requestType\": \"QUERY_MODEL_INFO\"`\n",
    "\n",
    "Allowed parameters:\n",
    "\n",
    "* `\"resultFormat\":` – \"XML\" / \"JSON\" / \"CSV\" -- Will return results as a list in the format selected."
   ]
  },
  {
   "cell_type": "code",
   "execution_count": 8,
   "metadata": {},
   "outputs": [],
   "source": [
    "message = {\n",
    "    \"requestType\": \"QUERY_MODEL_INFO\",\n",
    "    \"resultFormat\": \"JSON\"\n",
    "}"
   ]
  },
  {
   "cell_type": "code",
   "execution_count": 9,
   "metadata": {},
   "outputs": [
    {
     "data": {
      "text/plain": [
       "{'data': {'models': [{'modelName': 'acep_psil',\n",
       "    'modelId': '_77966920-E1EC-EE8A-23EE-4EFD23B205BD',\n",
       "    'stationName': 'UAF',\n",
       "    'stationId': '_22B12048-23DF-007B-9291-826A16DBCB21',\n",
       "    'subRegionName': 'Fairbanks',\n",
       "    'subRegionId': '_2F8FC9BF-FF32-A197-D541-0A2529D04DF7',\n",
       "    'regionName': 'Alaska',\n",
       "    'regionId': '_96465E7A-6EC3-ECCA-BC27-31B53F05C96E'},\n",
       "   {'modelName': 'final9500node',\n",
       "    'modelId': '_EE71F6C9-56F0-4167-A14E-7F4C71F10EAA',\n",
       "    'stationName': 'ThreeSubs',\n",
       "    'stationId': '_4AE25EA5-C364-43BB-BD7D-C8E870EE8F5D',\n",
       "    'subRegionName': 'Large',\n",
       "    'subRegionId': '_A1170111-942A-6ABD-D325-C64886DC4D7D',\n",
       "    'regionName': 'IEEE',\n",
       "    'regionId': '_73C512BD-7249-4F50-50DA-D93849B89C43'},\n",
       "   {'modelName': 'ieee123',\n",
       "    'modelId': '_C1C3E687-6FFD-C753-582B-632A27E28507',\n",
       "    'stationName': 'IEEE123',\n",
       "    'stationId': '_FE44B314-385E-C2BF-3983-3A10C6060022',\n",
       "    'subRegionName': 'Medium',\n",
       "    'subRegionId': '_1CD7D2EE-3C91-3248-5662-A43EFEFAC224',\n",
       "    'regionName': 'IEEE',\n",
       "    'regionId': '_73C512BD-7249-4F50-50DA-D93849B89C43'},\n",
       "   {'modelName': 'ieee123pv',\n",
       "    'modelId': '_E407CBB6-8C8D-9BC9-589C-AB83FBF0826D',\n",
       "    'stationName': 'IEEE123',\n",
       "    'stationId': '_FE44B314-385E-C2BF-3983-3A10C6060022',\n",
       "    'subRegionName': 'Medium',\n",
       "    'subRegionId': '_1CD7D2EE-3C91-3248-5662-A43EFEFAC224',\n",
       "    'regionName': 'IEEE',\n",
       "    'regionId': '_73C512BD-7249-4F50-50DA-D93849B89C43'},\n",
       "   {'modelName': 'ieee123transactive',\n",
       "    'modelId': '_503D6E20-F499-4CC7-8051-971E23D0BF79',\n",
       "    'stationName': 'PNNL',\n",
       "    'stationId': '_A4C079AE-FE2B-4D11-969E-1268AFC562E9',\n",
       "    'subRegionName': 'Medium',\n",
       "    'subRegionId': '_2BBFD370-B30F-4EC5-B7AE-6873921C8C7C',\n",
       "    'regionName': 'IEEE',\n",
       "    'regionId': '_24BA911D-65D5-4769-9A30-4178B2DFA203'},\n",
       "   {'modelName': 'ieee13nodeckt',\n",
       "    'modelId': '_49AD8E07-3BF9-A4E2-CB8F-C3722F837B62',\n",
       "    'stationName': 'IEEE13',\n",
       "    'stationId': '_6C62C905-6FC7-653D-9F1E-1340F974A587',\n",
       "    'subRegionName': 'Small',\n",
       "    'subRegionId': '_ABEB635F-729D-24BF-B8A4-E2EF268D8B9E',\n",
       "    'regionName': 'IEEE',\n",
       "    'regionId': '_73C512BD-7249-4F50-50DA-D93849B89C43'},\n",
       "   {'modelName': 'ieee13nodecktassets',\n",
       "    'modelId': '_5B816B93-7A5F-B64C-8460-47C17D6E4B0F',\n",
       "    'stationName': 'IEEE13',\n",
       "    'stationId': '_6C62C905-6FC7-653D-9F1E-1340F974A587',\n",
       "    'subRegionName': 'Small',\n",
       "    'subRegionId': '_ABEB635F-729D-24BF-B8A4-E2EF268D8B9E',\n",
       "    'regionName': 'IEEE',\n",
       "    'regionId': '_73C512BD-7249-4F50-50DA-D93849B89C43'},\n",
       "   {'modelName': 'ieee13ochre',\n",
       "    'modelId': '_13AD8E07-3BF9-A4E2-CB8F-C3722F837B62',\n",
       "    'stationName': 'IEEE13',\n",
       "    'stationId': '_6C62C905-6FC7-653D-9F1E-1340F974A587',\n",
       "    'subRegionName': 'Small',\n",
       "    'subRegionId': '_ABEB635F-729D-24BF-B8A4-E2EF268D8B9E',\n",
       "    'regionName': 'IEEE',\n",
       "    'regionId': '_73C512BD-7249-4F50-50DA-D93849B89C43'},\n",
       "   {'modelName': 'ieee8500',\n",
       "    'modelId': '_4F76A5F9-271D-9EB8-5E31-AA362D86F2C3',\n",
       "    'stationName': 'IEEE8500',\n",
       "    'stationId': '_F1E8E479-5FA0-4BFF-8173-B375D25B0AA2',\n",
       "    'subRegionName': 'Large',\n",
       "    'subRegionId': '_A1170111-942A-6ABD-D325-C64886DC4D7D',\n",
       "    'regionName': 'IEEE',\n",
       "    'regionId': '_73C512BD-7249-4F50-50DA-D93849B89C43'},\n",
       "   {'modelName': 'j1',\n",
       "    'modelId': '_67AB291F-DCCD-31B7-B499-338206B9828F',\n",
       "    'stationName': 'J1',\n",
       "    'stationId': '_A3C31EE7-4EE6-A167-87C7-915B1C6E97F0',\n",
       "    'subRegionName': 'DPV',\n",
       "    'subRegionId': '_096FDFB8-2692-D811-F483-553D578399F2',\n",
       "    'regionName': 'EPRI',\n",
       "    'regionId': '_9A1E61E4-5CF1-982B-C7EF-0918D26645C7'},\n",
       "   {'modelName': 'sourceckt',\n",
       "    'modelId': '_9CE150A8-8CC5-A0F9-B67E-BBD8C79D3095',\n",
       "    'stationName': 'sourceckt_Substation',\n",
       "    'stationId': '_933D85C1-BE1C-4C05-D4DD-4B41D941C52C',\n",
       "    'subRegionName': 'Taxonomy',\n",
       "    'subRegionId': '_656EE259-23FF-086E-1DC0-39CB9DC60A20',\n",
       "    'regionName': 'PNNL',\n",
       "    'regionId': '_79C9D814-3CE0-DC11-534D-BDA1AF949810'},\n",
       "   {'modelName': 'test9500new',\n",
       "    'modelId': '_AAE94E4A-2465-6F5E-37B1-3E72183A4E44',\n",
       "    'stationName': 'ThreeSubs',\n",
       "    'stationId': '_40485321-9B2C-1B8C-EC33-39D2F7948163',\n",
       "    'subRegionName': 'Large',\n",
       "    'subRegionId': '_A1170111-942A-6ABD-D325-C64886DC4D7D',\n",
       "    'regionName': 'IEEE',\n",
       "    'regionId': '_73C512BD-7249-4F50-50DA-D93849B89C43'}]},\n",
       " 'responseComplete': True,\n",
       " 'id': '2002437661'}"
      ]
     },
     "execution_count": 9,
     "metadata": {},
     "output_type": "execute_result"
    }
   ],
   "source": [
    "gapps.get_response(topic, message)"
   ]
  },
  {
   "cell_type": "markdown",
   "metadata": {},
   "source": [
    "The same query can be passed through the STOMP client by specifying the `goss.gridappsd.process.request.data.powergridmodel` topic and the same message without the python wrapping:"
   ]
  },
  {
   "cell_type": "markdown",
   "metadata": {},
   "source": [
    "![query-model-info](images/3.3/QUERY_MODEL_INFO.png)"
   ]
  },
  {
   "cell_type": "markdown",
   "metadata": {
    "tags": [
     "remove_cell"
    ]
   },
   "source": [
    "[Return to Top](#Table-of-Contents)"
   ]
  },
  {
   "cell_type": "markdown",
   "metadata": {},
   "source": [
    "---"
   ]
  },
  {
   "cell_type": "markdown",
   "metadata": {
    "tags": [
     "remove_cell"
    ]
   },
   "source": [
    "## 4.2. Query for Object Dictionary"
   ]
  },
  {
   "cell_type": "markdown",
   "metadata": {},
   "source": [
    "### Query for Object Dictionary\n",
    "\n",
    "This query returns a python dictionary of all the equipment attributes and mRIDs. The query can be for 1) all objects of a particular `objectType` or 2) for those connected to a particular object based on the `objectId`. \n",
    "\n",
    "If neither `objectType` or `objectId` is provided, the query will provide all measurements belonging to the model.\n",
    "Query responseType is\n",
    "\n",
    "* `\"requestType\": \"QUERY_OBJECT_DICT\"`\n",
    "\n",
    "Allowed parameters are:\n",
    "\n",
    "* `\"modelId\":` \"model name mRID\" -- When specified it searches against that model, if empty it will search against all models\n",
    "\n",
    "* `\"objectId\":` \"object mRID\" -- Optional. Specifies the type of objects you wish to return details for.\n",
    "\n",
    "* `\"objectType\":` \"CIM Class\" -- Optional. Specifies the type of objects you wish to return details for.\n",
    "\n",
    "* `\"resultFormat\":` \"XML\" / \"JSON\" / \"CSV\" -- Will return results as a list in the format selected.\n",
    "\n",
    "Speciying the `objectID` will override any values specified for `objectType`."
   ]
  },
  {
   "cell_type": "markdown",
   "metadata": {},
   "source": [
    "__Example 1: Querying for model dictionary for an `\"objectID\":`__"
   ]
  },
  {
   "cell_type": "code",
   "execution_count": 10,
   "metadata": {},
   "outputs": [
    {
     "data": {
      "text/plain": [
       "{'data': [{'id': '_517413CB-6977-46FA-8911-C82332E42884',\n",
       "   'ConductingEquipment.BaseVoltage': '_2A158E0C-CD01-4A50-AEBA-59D761FCF15D',\n",
       "   'Equipment.EquipmentContainer': '_49AD8E07-3BF9-A4E2-CB8F-C3722F837B62',\n",
       "   'IdentifiedObject.mRID': '_517413CB-6977-46FA-8911-C82332E42884',\n",
       "   'IdentifiedObject.name': '671692',\n",
       "   'PowerSystemResource.Location': '_7522F97F-CF73-4B94-BD26-B5E4E7B3AC04',\n",
       "   'ProtectedSwitch.breakingCapacity': '400',\n",
       "   'Switch.normalOpen': 'false',\n",
       "   'Switch.open': 'false',\n",
       "   'Switch.ratedCurrent': '400',\n",
       "   'Switch.retained': 'true',\n",
       "   'type': 'LoadBreakSwitch'}],\n",
       " 'responseComplete': True,\n",
       " 'id': '378089820'}"
      ]
     },
     "execution_count": 10,
     "metadata": {},
     "output_type": "execute_result"
    }
   ],
   "source": [
    "message = {\n",
    "    \"requestType\": \"QUERY_OBJECT_DICT\",\n",
    "    \"modelId\": model_mrid,\n",
    "    \"objectId\": switch_mrids[1],\n",
    "    \"resultFormat\": \"JSON\"\n",
    "}\n",
    "\n",
    "gapps.get_response(topic, message)"
   ]
  },
  {
   "cell_type": "markdown",
   "metadata": {},
   "source": [
    "The same query can be passed through the STOMP client by specifying the `goss.gridappsd.process.request.data.powergridmodel` topic and the same message without the python wrapping:"
   ]
  },
  {
   "cell_type": "markdown",
   "metadata": {},
   "source": [
    "![query-object-dict](images/3.3/QUERY_OBJECT_DICT_2.png)"
   ]
  },
  {
   "cell_type": "markdown",
   "metadata": {},
   "source": [
    "__Example 2: Querying for model dictionary for an `\"objectType\":`__"
   ]
  },
  {
   "cell_type": "code",
   "execution_count": 11,
   "metadata": {},
   "outputs": [
    {
     "data": {
      "text/plain": [
       "{'data': [{'id': '_44FC5A86-A099-45B8-B847-F685C5027AFB',\n",
       "   'Equipment.EquipmentContainer': '_49AD8E07-3BF9-A4E2-CB8F-C3722F837B62',\n",
       "   'IdentifiedObject.mRID': '_44FC5A86-A099-45B8-B847-F685C5027AFB',\n",
       "   'IdentifiedObject.name': 'reg2',\n",
       "   'PowerSystemResource.Location': '_32D47459-6FDA-47C8-AE69-6F59CCCB0BE9',\n",
       "   'TransformerTank.PowerTransformer': '_67B57539-590B-4158-9CBB-9DBA2FE6C1F0',\n",
       "   'type': 'TransformerTank'},\n",
       "  {'id': '_B6363F07-B1BC-420B-AA4C-A34BB8F05827',\n",
       "   'Equipment.EquipmentContainer': '_49AD8E07-3BF9-A4E2-CB8F-C3722F837B62',\n",
       "   'IdentifiedObject.mRID': '_B6363F07-B1BC-420B-AA4C-A34BB8F05827',\n",
       "   'IdentifiedObject.name': 'reg1',\n",
       "   'PowerSystemResource.Location': '_E66D540C-0FB1-429C-942B-6AE5A7B86619',\n",
       "   'TransformerTank.PowerTransformer': '_67B57539-590B-4158-9CBB-9DBA2FE6C1F0',\n",
       "   'type': 'TransformerTank'},\n",
       "  {'id': '_17A934C7-1510-481F-BAD7-189058957FF1',\n",
       "   'Equipment.EquipmentContainer': '_49AD8E07-3BF9-A4E2-CB8F-C3722F837B62',\n",
       "   'IdentifiedObject.mRID': '_17A934C7-1510-481F-BAD7-189058957FF1',\n",
       "   'IdentifiedObject.name': 'tpoletop',\n",
       "   'PowerSystemResource.Location': '_AB09CC43-A30F-48C3-B55B-0558CE61C579',\n",
       "   'TransformerTank.PowerTransformer': '_7FF12CEF-1C4D-4CD2-8FCC-662530A7BA33',\n",
       "   'type': 'TransformerTank'},\n",
       "  {'id': '_E2E0FC64-8D45-4C55-BDB9-EAB827A46FBC',\n",
       "   'Equipment.EquipmentContainer': '_49AD8E07-3BF9-A4E2-CB8F-C3722F837B62',\n",
       "   'IdentifiedObject.mRID': '_E2E0FC64-8D45-4C55-BDB9-EAB827A46FBC',\n",
       "   'IdentifiedObject.name': 'reg3',\n",
       "   'PowerSystemResource.Location': '_16F0DA5A-A603-45D1-B14B-DA3EFF209FD3',\n",
       "   'TransformerTank.PowerTransformer': '_67B57539-590B-4158-9CBB-9DBA2FE6C1F0',\n",
       "   'type': 'TransformerTank'}],\n",
       " 'responseComplete': True,\n",
       " 'id': '2082158677'}"
      ]
     },
     "execution_count": 11,
     "metadata": {},
     "output_type": "execute_result"
    }
   ],
   "source": [
    "message = {\n",
    "    \"requestType\": \"QUERY_OBJECT_DICT\",\n",
    "    \"modelId\": model_mrid,\n",
    "    \"objectType\": \"TransformerTank\",\n",
    "    \"resultFormat\": \"JSON\"\n",
    "}\n",
    "\n",
    "gapps.get_response(topic, message)"
   ]
  },
  {
   "cell_type": "markdown",
   "metadata": {},
   "source": [
    "The same query can be passed through the STOMP client by specifying the `goss.gridappsd.process.request.data.powergridmodel` topic and the same message without the python wrapping:"
   ]
  },
  {
   "cell_type": "markdown",
   "metadata": {},
   "source": [
    "![query-object-dict](images/3.3/QUERY_OBJECT_DICT.png)"
   ]
  },
  {
   "cell_type": "markdown",
   "metadata": {
    "tags": [
     "remove_cell"
    ]
   },
   "source": [
    "[Return to Top](#Table-of-Contents)"
   ]
  },
  {
   "cell_type": "markdown",
   "metadata": {},
   "source": [
    "---"
   ]
  },
  {
   "cell_type": "markdown",
   "metadata": {},
   "source": [
    "# 5. Querying for CIM Attributes"
   ]
  },
  {
   "cell_type": "markdown",
   "metadata": {},
   "source": [
    "## Querying for CIM Attributes\n",
    "\n"
   ]
  },
  {
   "cell_type": "markdown",
   "metadata": {
    "tags": [
     "remove_cell"
    ]
   },
   "source": [
    "## 5.1. Query for CIM Classes of Objects in Model"
   ]
  },
  {
   "cell_type": "markdown",
   "metadata": {},
   "source": [
    "### Query for CIM Classes of Objects in Model\n",
    "\n",
    "This query is used to query for a list of all the CIM XML classes of objects present in the Blazegraph for a particular model or all models in the database.\n",
    "\n",
    "Query requestType is\n",
    "\n",
    "* `\"requestType\": \"QUERY_OBJECT_TYPES\"`\n",
    "\n",
    "Allowed parameters are\n",
    "\n",
    "* `\"modelId\":` \"model name mRID\" -- Optional. Searches only the particular model identified by the given unique mRID\n",
    "* `\"resultFormat\":` – \"XML\" / \"JSON\" / \"CSV\" -- Will return results as a list in the format selected. "
   ]
  },
  {
   "cell_type": "raw",
   "metadata": {},
   "source": [
    "__1) Query entire Blazegraph database__\n",
    "\n",
    "Omit the `\"modelId\"` parameter to search the entire blazegraph database. "
   ]
  },
  {
   "cell_type": "code",
   "execution_count": 12,
   "metadata": {},
   "outputs": [],
   "source": [
    "message = {\n",
    "    \"requestType\": \"QUERY_OBJECT_TYPES\",\n",
    "    \"resultFormat\": \"JSON\"\n",
    "}"
   ]
  },
  {
   "cell_type": "code",
   "execution_count": 13,
   "metadata": {},
   "outputs": [
    {
     "data": {
      "text/plain": [
       "{'data': {'objectTypes': ['http://iec.ch/TC57/CIM100#ACLineSegment',\n",
       "   'http://iec.ch/TC57/CIM100#BaseVoltage',\n",
       "   'http://iec.ch/TC57/CIM100#BatteryUnit',\n",
       "   'http://iec.ch/TC57/CIM100#ConnectivityNode',\n",
       "   'http://iec.ch/TC57/CIM100#CoordinateSystem',\n",
       "   'http://iec.ch/TC57/CIM100#CurrentLimit',\n",
       "   'http://iec.ch/TC57/CIM100#EnergyConsumer',\n",
       "   'http://iec.ch/TC57/CIM100#EnergySource',\n",
       "   'http://iec.ch/TC57/CIM100#Feeder',\n",
       "   'http://iec.ch/TC57/CIM100#GeographicalRegion',\n",
       "   'http://iec.ch/TC57/CIM100#IEC61970CIMVersion',\n",
       "   'http://iec.ch/TC57/CIM100#LoadResponseCharacteristic',\n",
       "   'http://iec.ch/TC57/CIM100#Location',\n",
       "   'http://iec.ch/TC57/CIM100#OperationalLimitSet',\n",
       "   'http://iec.ch/TC57/CIM100#OperationalLimitType',\n",
       "   'http://iec.ch/TC57/CIM100#PerLengthSequenceImpedance',\n",
       "   'http://iec.ch/TC57/CIM100#PhotovoltaicUnit',\n",
       "   'http://iec.ch/TC57/CIM100#PositionPoint',\n",
       "   'http://iec.ch/TC57/CIM100#PowerElectronicsConnection',\n",
       "   'http://iec.ch/TC57/CIM100#PowerTransformer',\n",
       "   'http://iec.ch/TC57/CIM100#PowerTransformerEnd',\n",
       "   'http://iec.ch/TC57/CIM100#SubGeographicalRegion',\n",
       "   'http://iec.ch/TC57/CIM100#Substation',\n",
       "   'http://iec.ch/TC57/CIM100#SynchronousMachine',\n",
       "   'http://iec.ch/TC57/CIM100#Terminal',\n",
       "   'http://iec.ch/TC57/CIM100#TopologicalIsland',\n",
       "   'http://iec.ch/TC57/CIM100#TopologicalNode',\n",
       "   'http://iec.ch/TC57/CIM100#TransformerCoreAdmittance',\n",
       "   'http://iec.ch/TC57/CIM100#TransformerMeshImpedance',\n",
       "   'http://iec.ch/TC57/CIM100#VoltageLimit',\n",
       "   'http://iec.ch/TC57/CIM100#Asset',\n",
       "   'http://iec.ch/TC57/CIM100#LinearShuntCompensator',\n",
       "   'http://iec.ch/TC57/CIM100#NoLoadTest',\n",
       "   'http://iec.ch/TC57/CIM100#PowerElectronicsConnectionPhase',\n",
       "   'http://iec.ch/TC57/CIM100#PowerTransformerInfo',\n",
       "   'http://iec.ch/TC57/CIM100#RegulatingControl',\n",
       "   'http://iec.ch/TC57/CIM100#ShortCircuitTest',\n",
       "   'http://iec.ch/TC57/CIM100#TransformerEndInfo',\n",
       "   'http://iec.ch/TC57/CIM100#TransformerTankInfo',\n",
       "   'http://iec.ch/TC57/CIM100#ACLineSegmentPhase',\n",
       "   'http://iec.ch/TC57/CIM100#LoadBreakSwitch',\n",
       "   'http://iec.ch/TC57/CIM100#RatioTapChanger',\n",
       "   'http://iec.ch/TC57/CIM100#TapChangerControl',\n",
       "   'http://iec.ch/TC57/CIM100#TapChangerInfo',\n",
       "   'http://iec.ch/TC57/CIM100#TransformerTank',\n",
       "   'http://iec.ch/TC57/CIM100#TransformerTankEnd',\n",
       "   'http://iec.ch/TC57/CIM100#EnergyConsumerPhase',\n",
       "   'http://iec.ch/TC57/CIM100#SwitchPhase',\n",
       "   'http://iec.ch/TC57/CIM100#PerLengthPhaseImpedance',\n",
       "   'http://iec.ch/TC57/CIM100#PhaseImpedanceData',\n",
       "   'http://iec.ch/TC57/CIM100#LinearShuntCompensatorPhase',\n",
       "   'http://iec.ch/TC57/CIM100#ConcentricNeutralCableInfo',\n",
       "   'http://iec.ch/TC57/CIM100#OverheadWireInfo',\n",
       "   'http://iec.ch/TC57/CIM100#TapeShieldCableInfo',\n",
       "   'http://iec.ch/TC57/CIM100#WirePosition',\n",
       "   'http://iec.ch/TC57/CIM100#WireSpacingInfo',\n",
       "   'http://iec.ch/TC57/CIM100#Breaker',\n",
       "   'http://iec.ch/TC57/CIM100#Fuse',\n",
       "   'http://iec.ch/TC57/CIM100#Recloser',\n",
       "   'http://iec.ch/TC57/CIM100#Analog',\n",
       "   'http://iec.ch/TC57/CIM100#Discrete',\n",
       "   'http://iec.ch/TC57/CIM100#House']},\n",
       " 'responseComplete': True,\n",
       " 'id': '547952795'}"
      ]
     },
     "execution_count": 13,
     "metadata": {},
     "output_type": "execute_result"
    }
   ],
   "source": [
    "gapps.get_response(topic, message)"
   ]
  },
  {
   "cell_type": "markdown",
   "metadata": {},
   "source": [
    "The same query can be passed through the STOMP client by specifying the `goss.gridappsd.process.request.data.powergridmodel` topic and the same message without the python wrapping:"
   ]
  },
  {
   "cell_type": "markdown",
   "metadata": {},
   "source": [
    "![query-object-types](images/3.3/QUERY_OBJECT_TYPES.png)"
   ]
  },
  {
   "cell_type": "markdown",
   "metadata": {},
   "source": [
    "__2) Query for only a particular model__\n",
    "\n",
    "Specify the model MRID as a python string and pass it as a parameter to the method to return only the CIM classes of objects in that particular model. \n",
    "\n",
    "Be aware of spelling and capitalization differences between JSON query spelling `\"modelId\"` and Python Library spelling `model_id`."
   ]
  },
  {
   "cell_type": "code",
   "execution_count": 14,
   "metadata": {},
   "outputs": [],
   "source": [
    "message = {\n",
    "    \"requestType\": \"QUERY_OBJECT_TYPES\",\n",
    "    \"modelId\": model_mrid,\n",
    "    \"resultFormat\": \"JSON\"\n",
    "}"
   ]
  },
  {
   "cell_type": "code",
   "execution_count": 15,
   "metadata": {},
   "outputs": [
    {
     "data": {
      "text/plain": [
       "{'data': {'objectTypes': ['http://iec.ch/TC57/CIM100#ConnectivityNode',\n",
       "   'http://iec.ch/TC57/CIM100#ACLineSegment',\n",
       "   'http://iec.ch/TC57/CIM100#EnergyConsumer',\n",
       "   'http://iec.ch/TC57/CIM100#TransformerTank',\n",
       "   'http://iec.ch/TC57/CIM100#PowerTransformer',\n",
       "   'http://iec.ch/TC57/CIM100#LoadBreakSwitch',\n",
       "   'http://iec.ch/TC57/CIM100#Fuse',\n",
       "   'http://iec.ch/TC57/CIM100#Breaker',\n",
       "   'http://iec.ch/TC57/CIM100#PowerElectronicsConnection',\n",
       "   'http://iec.ch/TC57/CIM100#EnergySource',\n",
       "   'http://iec.ch/TC57/CIM100#LinearShuntCompensator',\n",
       "   'http://iec.ch/TC57/CIM100#Recloser']},\n",
       " 'responseComplete': True,\n",
       " 'id': '2051474362'}"
      ]
     },
     "execution_count": 15,
     "metadata": {},
     "output_type": "execute_result"
    }
   ],
   "source": [
    "gapps.get_response(topic, message)"
   ]
  },
  {
   "cell_type": "markdown",
   "metadata": {},
   "source": [
    "The same query can be passed through the STOMP client by specifying the `goss.gridappsd.process.request.data.powergridmodel` topic and the same message without the python wrapping:"
   ]
  },
  {
   "cell_type": "markdown",
   "metadata": {},
   "source": [
    "![query-object-types-2](images/3.3/QUERY_OBJECT_TYPES_2.png)"
   ]
  },
  {
   "cell_type": "markdown",
   "metadata": {},
   "source": [
    "__Python Library Method_\n",
    "\n",
    "The GridAPPSD-Python library contains a pre-built method for obtaining all the CIM classes in the model, providing identical results to those obtained above.\n",
    "\n",
    "The `.query_object_types` method is associated with the GridAPPSD connection object and returns a list of all the CIM XML classes of objects present in the Blazegraph for a particular model or all models in the database.\n",
    "\n",
    "Allowed parameters are\n",
    "\n",
    "* model_id (optional) - when specified, it searches only the particular model identified by the given unique mRID"
   ]
  },
  {
   "cell_type": "markdown",
   "metadata": {},
   "source": [
    "__1) Query entire Blazegraph database__\n",
    "\n",
    "Leave the arguments blank to search all models in the Blazegraph database"
   ]
  },
  {
   "cell_type": "code",
   "execution_count": 16,
   "metadata": {},
   "outputs": [
    {
     "data": {
      "text/plain": [
       "{'data': {'objectTypes': ['http://iec.ch/TC57/CIM100#ACLineSegment',\n",
       "   'http://iec.ch/TC57/CIM100#BaseVoltage',\n",
       "   'http://iec.ch/TC57/CIM100#BatteryUnit',\n",
       "   'http://iec.ch/TC57/CIM100#ConnectivityNode',\n",
       "   'http://iec.ch/TC57/CIM100#CoordinateSystem',\n",
       "   'http://iec.ch/TC57/CIM100#CurrentLimit',\n",
       "   'http://iec.ch/TC57/CIM100#EnergyConsumer',\n",
       "   'http://iec.ch/TC57/CIM100#EnergySource',\n",
       "   'http://iec.ch/TC57/CIM100#Feeder',\n",
       "   'http://iec.ch/TC57/CIM100#GeographicalRegion',\n",
       "   'http://iec.ch/TC57/CIM100#IEC61970CIMVersion',\n",
       "   'http://iec.ch/TC57/CIM100#LoadResponseCharacteristic',\n",
       "   'http://iec.ch/TC57/CIM100#Location',\n",
       "   'http://iec.ch/TC57/CIM100#OperationalLimitSet',\n",
       "   'http://iec.ch/TC57/CIM100#OperationalLimitType',\n",
       "   'http://iec.ch/TC57/CIM100#PerLengthSequenceImpedance',\n",
       "   'http://iec.ch/TC57/CIM100#PhotovoltaicUnit',\n",
       "   'http://iec.ch/TC57/CIM100#PositionPoint',\n",
       "   'http://iec.ch/TC57/CIM100#PowerElectronicsConnection',\n",
       "   'http://iec.ch/TC57/CIM100#PowerTransformer',\n",
       "   'http://iec.ch/TC57/CIM100#PowerTransformerEnd',\n",
       "   'http://iec.ch/TC57/CIM100#SubGeographicalRegion',\n",
       "   'http://iec.ch/TC57/CIM100#Substation',\n",
       "   'http://iec.ch/TC57/CIM100#SynchronousMachine',\n",
       "   'http://iec.ch/TC57/CIM100#Terminal',\n",
       "   'http://iec.ch/TC57/CIM100#TopologicalIsland',\n",
       "   'http://iec.ch/TC57/CIM100#TopologicalNode',\n",
       "   'http://iec.ch/TC57/CIM100#TransformerCoreAdmittance',\n",
       "   'http://iec.ch/TC57/CIM100#TransformerMeshImpedance',\n",
       "   'http://iec.ch/TC57/CIM100#VoltageLimit',\n",
       "   'http://iec.ch/TC57/CIM100#Asset',\n",
       "   'http://iec.ch/TC57/CIM100#LinearShuntCompensator',\n",
       "   'http://iec.ch/TC57/CIM100#NoLoadTest',\n",
       "   'http://iec.ch/TC57/CIM100#PowerElectronicsConnectionPhase',\n",
       "   'http://iec.ch/TC57/CIM100#PowerTransformerInfo',\n",
       "   'http://iec.ch/TC57/CIM100#RegulatingControl',\n",
       "   'http://iec.ch/TC57/CIM100#ShortCircuitTest',\n",
       "   'http://iec.ch/TC57/CIM100#TransformerEndInfo',\n",
       "   'http://iec.ch/TC57/CIM100#TransformerTankInfo',\n",
       "   'http://iec.ch/TC57/CIM100#ACLineSegmentPhase',\n",
       "   'http://iec.ch/TC57/CIM100#LoadBreakSwitch',\n",
       "   'http://iec.ch/TC57/CIM100#RatioTapChanger',\n",
       "   'http://iec.ch/TC57/CIM100#TapChangerControl',\n",
       "   'http://iec.ch/TC57/CIM100#TapChangerInfo',\n",
       "   'http://iec.ch/TC57/CIM100#TransformerTank',\n",
       "   'http://iec.ch/TC57/CIM100#TransformerTankEnd',\n",
       "   'http://iec.ch/TC57/CIM100#EnergyConsumerPhase',\n",
       "   'http://iec.ch/TC57/CIM100#SwitchPhase',\n",
       "   'http://iec.ch/TC57/CIM100#PerLengthPhaseImpedance',\n",
       "   'http://iec.ch/TC57/CIM100#PhaseImpedanceData',\n",
       "   'http://iec.ch/TC57/CIM100#LinearShuntCompensatorPhase',\n",
       "   'http://iec.ch/TC57/CIM100#ConcentricNeutralCableInfo',\n",
       "   'http://iec.ch/TC57/CIM100#OverheadWireInfo',\n",
       "   'http://iec.ch/TC57/CIM100#TapeShieldCableInfo',\n",
       "   'http://iec.ch/TC57/CIM100#WirePosition',\n",
       "   'http://iec.ch/TC57/CIM100#WireSpacingInfo',\n",
       "   'http://iec.ch/TC57/CIM100#Breaker',\n",
       "   'http://iec.ch/TC57/CIM100#Fuse',\n",
       "   'http://iec.ch/TC57/CIM100#Recloser',\n",
       "   'http://iec.ch/TC57/CIM100#Analog',\n",
       "   'http://iec.ch/TC57/CIM100#Discrete',\n",
       "   'http://iec.ch/TC57/CIM100#House']},\n",
       " 'responseComplete': True,\n",
       " 'id': '949000679'}"
      ]
     },
     "execution_count": 16,
     "metadata": {},
     "output_type": "execute_result"
    }
   ],
   "source": [
    "gapps.query_object_types()"
   ]
  },
  {
   "cell_type": "markdown",
   "metadata": {},
   "source": [
    "__2) Query for only a particular model__\n",
    "\n",
    "Specify the model MRID as a python string and pass it as a parameter to the method to return only the CIM classes of objects in that particular model"
   ]
  },
  {
   "cell_type": "code",
   "execution_count": 17,
   "metadata": {},
   "outputs": [
    {
     "data": {
      "text/plain": [
       "{'data': {'objectTypes': ['http://iec.ch/TC57/CIM100#ConnectivityNode',\n",
       "   'http://iec.ch/TC57/CIM100#ACLineSegment',\n",
       "   'http://iec.ch/TC57/CIM100#EnergyConsumer',\n",
       "   'http://iec.ch/TC57/CIM100#TransformerTank',\n",
       "   'http://iec.ch/TC57/CIM100#PowerTransformer',\n",
       "   'http://iec.ch/TC57/CIM100#LoadBreakSwitch',\n",
       "   'http://iec.ch/TC57/CIM100#Fuse',\n",
       "   'http://iec.ch/TC57/CIM100#Breaker',\n",
       "   'http://iec.ch/TC57/CIM100#PowerElectronicsConnection',\n",
       "   'http://iec.ch/TC57/CIM100#EnergySource',\n",
       "   'http://iec.ch/TC57/CIM100#LinearShuntCompensator',\n",
       "   'http://iec.ch/TC57/CIM100#Recloser']},\n",
       " 'responseComplete': True,\n",
       " 'id': '1548662280'}"
      ]
     },
     "execution_count": 17,
     "metadata": {},
     "output_type": "execute_result"
    }
   ],
   "source": [
    "gapps.query_object_types(model_mrid)"
   ]
  },
  {
   "cell_type": "markdown",
   "metadata": {
    "tags": [
     "remove_cell"
    ]
   },
   "source": [
    "[Return to Top](#Table-of-Contents)"
   ]
  },
  {
   "cell_type": "markdown",
   "metadata": {},
   "source": [
    "---"
   ]
  },
  {
   "cell_type": "markdown",
   "metadata": {
    "tags": [
     "remove_cell"
    ]
   },
   "source": [
    "## 5.2. Query for CIM Attributes of an Object"
   ]
  },
  {
   "cell_type": "markdown",
   "metadata": {},
   "source": [
    "### Query for CIM Attributes of an Object\n",
    "\n",
    "This query is used to obtain all the attributes and mRIDs of those attributes for a particular object whose mRID is specified. \n",
    "\n",
    "Query responseType is\n",
    "\n",
    "* `\"requestType\": \"QUERY_OBJECT\"`\n",
    "\n",
    "Allowed parameters are:\n",
    "\n",
    "* `\"modelId\":` \"model name mRID\" -- When specified it searches against that model, if empty it will search against all models\n",
    "* `\"objectId\":` \"object mRID\" -- Optional. Specifies the type of objects you wish to return details for.\n",
    "* `\"resultFormat\":` – \"XML\" / \"JSON\" / \"CSV\" -- Will return results as a list in the format selected.\n"
   ]
  },
  {
   "cell_type": "code",
   "execution_count": 18,
   "metadata": {},
   "outputs": [
    {
     "data": {
      "text/plain": [
       "{'data': {'head': {'vars': ['property', 'value']},\n",
       "  'results': {'bindings': [{'property': {'type': 'uri',\n",
       "      'value': 'http://iec.ch/TC57/CIM100#ConductingEquipment.BaseVoltage'},\n",
       "     'value': {'type': 'uri',\n",
       "      'value': 'http://localhost:8889/bigdata/namespace/kb/sparql#_2A158E0C-CD01-4A50-AEBA-59D761FCF15D'}},\n",
       "    {'property': {'type': 'uri',\n",
       "      'value': 'http://iec.ch/TC57/CIM100#Equipment.EquipmentContainer'},\n",
       "     'value': {'type': 'uri',\n",
       "      'value': 'http://localhost:8889/bigdata/namespace/kb/sparql#_49AD8E07-3BF9-A4E2-CB8F-C3722F837B62'}},\n",
       "    {'property': {'type': 'uri',\n",
       "      'value': 'http://iec.ch/TC57/CIM100#IdentifiedObject.mRID'},\n",
       "     'value': {'type': 'literal',\n",
       "      'value': '_2858B6C2-0886-4269-884C-06FA8B887319'}},\n",
       "    {'property': {'type': 'uri',\n",
       "      'value': 'http://iec.ch/TC57/CIM100#IdentifiedObject.name'},\n",
       "     'value': {'type': 'literal', 'value': 'sect1'}},\n",
       "    {'property': {'type': 'uri',\n",
       "      'value': 'http://iec.ch/TC57/CIM100#PowerSystemResource.Location'},\n",
       "     'value': {'type': 'uri',\n",
       "      'value': 'http://localhost:8889/bigdata/namespace/kb/sparql#_DC47C3ED-EF6A-4D32-916E-36D33DD338FC'}},\n",
       "    {'property': {'type': 'uri',\n",
       "      'value': 'http://iec.ch/TC57/CIM100#ProtectedSwitch.breakingCapacity'},\n",
       "     'value': {'type': 'literal', 'value': '400'}},\n",
       "    {'property': {'type': 'uri',\n",
       "      'value': 'http://iec.ch/TC57/CIM100#Switch.normalOpen'},\n",
       "     'value': {'type': 'literal', 'value': 'false'}},\n",
       "    {'property': {'type': 'uri',\n",
       "      'value': 'http://iec.ch/TC57/CIM100#Switch.open'},\n",
       "     'value': {'type': 'literal', 'value': 'false'}},\n",
       "    {'property': {'type': 'uri',\n",
       "      'value': 'http://iec.ch/TC57/CIM100#Switch.ratedCurrent'},\n",
       "     'value': {'type': 'literal', 'value': '400'}},\n",
       "    {'property': {'type': 'uri',\n",
       "      'value': 'http://iec.ch/TC57/CIM100#Switch.retained'},\n",
       "     'value': {'type': 'literal', 'value': 'true'}},\n",
       "    {'property': {'type': 'uri',\n",
       "      'value': 'http://www.w3.org/1999/02/22-rdf-syntax-ns#type'},\n",
       "     'value': {'type': 'uri',\n",
       "      'value': 'http://iec.ch/TC57/CIM100#LoadBreakSwitch'}}]}},\n",
       " 'responseComplete': True,\n",
       " 'id': '745032001'}"
      ]
     },
     "execution_count": 18,
     "metadata": {},
     "output_type": "execute_result"
    }
   ],
   "source": [
    "object_mrid = \"_2858B6C2-0886-4269-884C-06FA8B887319\"\n",
    "\n",
    "message = {\n",
    "    \"requestType\": \"QUERY_OBJECT\",\n",
    "    \"resultFormat\": \"JSON\",\n",
    "    \"modelId\": model_mrid,\n",
    "    \"objectId\": object_mrid\n",
    "}\n",
    "\n",
    "gapps.get_response(topic, message)"
   ]
  },
  {
   "cell_type": "markdown",
   "metadata": {},
   "source": [
    "The same query can be passed through the STOMP client by specifying the `goss.gridappsd.process.request.data.powergridmodel` topic and the same message without the python wrapping:"
   ]
  },
  {
   "cell_type": "markdown",
   "metadata": {},
   "source": [
    "![query-object](images/3.3/QUERY_OBJECT.png)"
   ]
  },
  {
   "cell_type": "markdown",
   "metadata": {},
   "source": [
    "__Python Library Method__\n",
    "\n",
    "The GridAPPSD-Python library contains a pre-built method for obtaining the mRIDs of all models, providing identical results to those obtained above.\n",
    "\n",
    "The `.query_object` method is associated with the GridAPPSD connection object and returns a list of all the CIM XML classes of objects present in the Blazegraph for a particular model or all models in the database."
   ]
  },
  {
   "cell_type": "code",
   "execution_count": 19,
   "metadata": {},
   "outputs": [
    {
     "data": {
      "text/plain": [
       "{'data': {'head': {'vars': ['property', 'value']},\n",
       "  'results': {'bindings': [{'property': {'type': 'uri',\n",
       "      'value': 'http://iec.ch/TC57/CIM100#Feeder.NormalEnergizingSubstation'},\n",
       "     'value': {'type': 'uri',\n",
       "      'value': 'http://localhost:8889/bigdata/namespace/kb/sparql#_6C62C905-6FC7-653D-9F1E-1340F974A587'}},\n",
       "    {'property': {'type': 'uri',\n",
       "      'value': 'http://iec.ch/TC57/CIM100#IdentifiedObject.mRID'},\n",
       "     'value': {'type': 'literal',\n",
       "      'value': '_49AD8E07-3BF9-A4E2-CB8F-C3722F837B62'}},\n",
       "    {'property': {'type': 'uri',\n",
       "      'value': 'http://iec.ch/TC57/CIM100#IdentifiedObject.name'},\n",
       "     'value': {'type': 'literal', 'value': 'ieee13nodeckt'}},\n",
       "    {'property': {'type': 'uri',\n",
       "      'value': 'http://iec.ch/TC57/CIM100#PowerSystemResource.Location'},\n",
       "     'value': {'type': 'uri',\n",
       "      'value': 'http://localhost:8889/bigdata/namespace/kb/sparql#_8E4E3C92-0B7A-4F74-8FD2-CC10F74E452F'}},\n",
       "    {'property': {'type': 'uri',\n",
       "      'value': 'http://www.w3.org/1999/02/22-rdf-syntax-ns#type'},\n",
       "     'value': {'type': 'uri', 'value': 'http://iec.ch/TC57/CIM100#Feeder'}}]}},\n",
       " 'responseComplete': True,\n",
       " 'id': '1316088745'}"
      ]
     },
     "execution_count": 19,
     "metadata": {},
     "output_type": "execute_result"
    }
   ],
   "source": [
    "model_mrid = \"_49AD8E07-3BF9-A4E2-CB8F-C3722F837B62\" # IEEE 13 Node used for all example queries\n",
    "object_mrid = \"_2858B6C2-0886-4269-884C-06FA8B887319\"\n",
    "\n",
    "gapps.query_object(model_mrid, object_mrid)"
   ]
  },
  {
   "cell_type": "markdown",
   "metadata": {
    "tags": [
     "remove_cell"
    ]
   },
   "source": [
    "[Return to Top](#Table-of-Contents)"
   ]
  },
  {
   "cell_type": "markdown",
   "metadata": {},
   "source": [
    "---"
   ]
  },
  {
   "cell_type": "markdown",
   "metadata": {
    "tags": [
     "remove_cell"
    ]
   },
   "source": [
    "# 6. Querying for Object Measurements"
   ]
  },
  {
   "cell_type": "markdown",
   "metadata": {},
   "source": [
    "## Querying for Object Measurements"
   ]
  },
  {
   "cell_type": "markdown",
   "metadata": {
    "tags": [
     "remove_cell"
    ]
   },
   "source": [
    "## 6.1. Object mRIDs vs Measurement mRIDs"
   ]
  },
  {
   "cell_type": "markdown",
   "metadata": {},
   "source": [
    "### Object mRIDs vs Measurement mRIDs\n",
    "\n",
    "A key concept in GridAPPS-D and CIM XML power system models is the difference between the object mRID of a piece of equipment and multiple measurement mRIDs associated with its control settings and power flow values.\n",
    "\n",
    "Measurements differ from the state variables (e.g. those obtained from State Estimator or a power flow calculation) in that the values are measured here and not calculated or estimated. Each Measurement is associated to a _PowerSystemResource_, and in GridAPPS-D for now, also a Terminal that belongs to the same _PowerSystemResource_. (Non-electrical measurements, for example weather, would not have the Terminal). \n",
    "\n",
    "The _measurementType_ is a string code from IEC 61850, with the following currently suppported:\n",
    "\n",
    "* __PNV__ -- Phase to Neutral Voltage\n",
    "\n",
    "\n",
    "* __VA__  -- Volt-Amperes (apparent power)\n",
    "\n",
    "\n",
    "* __A__ -- Amperes (current)\n",
    "\n",
    "\n",
    "* __POS__ -- Position for switches and transformer taps\n",
    "\n",
    "Each measurement object has a __name__, __mRID__, and __phases__. In GridAPPS-D, each phase is measured individually so multi-phase codes like ABC should not be used. \n",
    "\n",
    "Pos measurements will be discrete, for such things as tap position, switch position, or capacitor bank position. \n",
    "\n",
    "The others will be Analog, with magnitude and optional angle in degrees. \n",
    "\n",
    "Each MeasurementValue will have a timeStamp and mRID inherited from IdentifiedObject, so the values can be traced.\n",
    "\n"
   ]
  },
  {
   "cell_type": "markdown",
   "metadata": {
    "tags": [
     "remove_cell"
    ]
   },
   "source": [
    "[Return to Top](#Table-of-Contents)"
   ]
  },
  {
   "cell_type": "markdown",
   "metadata": {
    "tags": [
     "remove_cell"
    ]
   },
   "source": [
    "## 6.2. Querying for Measurements"
   ]
  },
  {
   "cell_type": "markdown",
   "metadata": {},
   "source": [
    "### Querying for Measurements\n",
    "\n",
    "This query returns details for the measurements within a model. The query can be for 1) all objects of a particular `objectType` or 2) for those connected to a particular object based on the `objectId`. \n",
    "\n",
    "If neither `objectType` or `objectId` is provided, the query will provide all measurements belonging to the model.\n",
    "Query responseType is\n",
    "\n",
    "* `\"requestType\": \"QUERY_OBJECT_MEASUREMENTS\"`\n",
    "\n",
    "Allowed parameters are:\n",
    "\n",
    "* `\"modelId\":` \"model name mRID\" -- When specified it searches against that model, if empty it will search against all models\n",
    "\n",
    "* `\"objectId\":` \"object mRID\" -- Optional. Specifies the type of objects you wish to return details for.\n",
    "\n",
    "* `\"objectType\":` \"CIM Class\" -- Optional. Specifies the type of objects you wish to return details for.\n",
    "\n",
    "* `\"resultFormat\":` \"XML\" / \"JSON\" / \"CSV\" -- Will return results as a list in the format selected.\n",
    "\n",
    "Speciying the `objectID` will override any values specified for `objectType`."
   ]
  },
  {
   "cell_type": "markdown",
   "metadata": {},
   "source": [
    "__Example 1: Querying for all measurements for an `\"objectID\":`__"
   ]
  },
  {
   "cell_type": "code",
   "execution_count": 20,
   "metadata": {},
   "outputs": [
    {
     "data": {
      "text/plain": [
       "{'data': [{'measid': '_4812ecc5-53dd-4f8e-8375-74ee2c2b3edd',\n",
       "   'type': 'A',\n",
       "   'class': 'Analog',\n",
       "   'name': 'LoadBreakSwitch_671692_Current',\n",
       "   'bus': '671',\n",
       "   'phases': 'C',\n",
       "   'eqtype': 'LoadBreakSwitch',\n",
       "   'eqname': '671692',\n",
       "   'eqid': '_517413CB-6977-46FA-8911-C82332E42884',\n",
       "   'trmid': '_F1D6C919-22FA-4E94-81B1-36823F5A9FF5'},\n",
       "  {'measid': '_70cb7d70-edc3-4223-a9c1-d99be8bc8c52',\n",
       "   'type': 'A',\n",
       "   'class': 'Analog',\n",
       "   'name': 'LoadBreakSwitch_671692_Current',\n",
       "   'bus': '671',\n",
       "   'phases': 'B',\n",
       "   'eqtype': 'LoadBreakSwitch',\n",
       "   'eqname': '671692',\n",
       "   'eqid': '_517413CB-6977-46FA-8911-C82332E42884',\n",
       "   'trmid': '_F1D6C919-22FA-4E94-81B1-36823F5A9FF5'},\n",
       "  {'measid': '_e77eeaf8-7c47-49f7-b932-5fc89b8b628c',\n",
       "   'type': 'A',\n",
       "   'class': 'Analog',\n",
       "   'name': 'LoadBreakSwitch_671692_Current',\n",
       "   'bus': '671',\n",
       "   'phases': 'A',\n",
       "   'eqtype': 'LoadBreakSwitch',\n",
       "   'eqname': '671692',\n",
       "   'eqid': '_517413CB-6977-46FA-8911-C82332E42884',\n",
       "   'trmid': '_F1D6C919-22FA-4E94-81B1-36823F5A9FF5'},\n",
       "  {'measid': '_1f8096d5-8e7e-4292-bb96-98b5c2efefbc',\n",
       "   'type': 'PNV',\n",
       "   'class': 'Analog',\n",
       "   'name': 'LoadBreakSwitch_671692_Voltage',\n",
       "   'bus': '671',\n",
       "   'phases': 'C',\n",
       "   'eqtype': 'LoadBreakSwitch',\n",
       "   'eqname': '671692',\n",
       "   'eqid': '_517413CB-6977-46FA-8911-C82332E42884',\n",
       "   'trmid': '_F1D6C919-22FA-4E94-81B1-36823F5A9FF5'},\n",
       "  {'measid': '_5544e071-22c3-4c7f-b15c-98aac3edfa6f',\n",
       "   'type': 'PNV',\n",
       "   'class': 'Analog',\n",
       "   'name': 'LoadBreakSwitch_671692_Voltage',\n",
       "   'bus': '671',\n",
       "   'phases': 'A',\n",
       "   'eqtype': 'LoadBreakSwitch',\n",
       "   'eqname': '671692',\n",
       "   'eqid': '_517413CB-6977-46FA-8911-C82332E42884',\n",
       "   'trmid': '_F1D6C919-22FA-4E94-81B1-36823F5A9FF5'},\n",
       "  {'measid': '_59c9a186-c0a8-4f85-a524-d6ef0d27700a',\n",
       "   'type': 'PNV',\n",
       "   'class': 'Analog',\n",
       "   'name': 'LoadBreakSwitch_671692_Voltage',\n",
       "   'bus': '692',\n",
       "   'phases': 'C',\n",
       "   'eqtype': 'LoadBreakSwitch',\n",
       "   'eqname': '671692',\n",
       "   'eqid': '_517413CB-6977-46FA-8911-C82332E42884',\n",
       "   'trmid': '_169CB0D6-0002-457F-9594-7FEB09DA102D'},\n",
       "  {'measid': '_5c9a17db-6f03-4626-9464-41d3a5ddeb15',\n",
       "   'type': 'PNV',\n",
       "   'class': 'Analog',\n",
       "   'name': 'LoadBreakSwitch_671692_Voltage',\n",
       "   'bus': '692',\n",
       "   'phases': 'A',\n",
       "   'eqtype': 'LoadBreakSwitch',\n",
       "   'eqname': '671692',\n",
       "   'eqid': '_517413CB-6977-46FA-8911-C82332E42884',\n",
       "   'trmid': '_169CB0D6-0002-457F-9594-7FEB09DA102D'},\n",
       "  {'measid': '_7fcfa7bd-f93a-4f03-8111-43b8851cb078',\n",
       "   'type': 'PNV',\n",
       "   'class': 'Analog',\n",
       "   'name': 'LoadBreakSwitch_671692_Voltage',\n",
       "   'bus': '671',\n",
       "   'phases': 'B',\n",
       "   'eqtype': 'LoadBreakSwitch',\n",
       "   'eqname': '671692',\n",
       "   'eqid': '_517413CB-6977-46FA-8911-C82332E42884',\n",
       "   'trmid': '_F1D6C919-22FA-4E94-81B1-36823F5A9FF5'},\n",
       "  {'measid': '_d3a28545-dbfd-4cc4-9f3a-52e2ff130d93',\n",
       "   'type': 'PNV',\n",
       "   'class': 'Analog',\n",
       "   'name': 'LoadBreakSwitch_671692_Voltage',\n",
       "   'bus': '692',\n",
       "   'phases': 'B',\n",
       "   'eqtype': 'LoadBreakSwitch',\n",
       "   'eqname': '671692',\n",
       "   'eqid': '_517413CB-6977-46FA-8911-C82332E42884',\n",
       "   'trmid': '_169CB0D6-0002-457F-9594-7FEB09DA102D'},\n",
       "  {'measid': '_0f5150f9-f959-4f7b-a661-d80afe862e58',\n",
       "   'type': 'Pos',\n",
       "   'class': 'Discrete',\n",
       "   'name': 'LoadBreakSwitch_671692_State',\n",
       "   'bus': '671',\n",
       "   'phases': 'B',\n",
       "   'eqtype': 'LoadBreakSwitch',\n",
       "   'eqname': '671692',\n",
       "   'eqid': '_517413CB-6977-46FA-8911-C82332E42884',\n",
       "   'trmid': '_F1D6C919-22FA-4E94-81B1-36823F5A9FF5'},\n",
       "  {'measid': '_35a3ba96-f644-4144-b955-1bc959c2311b',\n",
       "   'type': 'Pos',\n",
       "   'class': 'Discrete',\n",
       "   'name': 'LoadBreakSwitch_671692_State',\n",
       "   'bus': '671',\n",
       "   'phases': 'C',\n",
       "   'eqtype': 'LoadBreakSwitch',\n",
       "   'eqname': '671692',\n",
       "   'eqid': '_517413CB-6977-46FA-8911-C82332E42884',\n",
       "   'trmid': '_F1D6C919-22FA-4E94-81B1-36823F5A9FF5'},\n",
       "  {'measid': '_c8a56420-f87b-4ce4-ac38-ba431ecfcdb2',\n",
       "   'type': 'Pos',\n",
       "   'class': 'Discrete',\n",
       "   'name': 'LoadBreakSwitch_671692_State',\n",
       "   'bus': '671',\n",
       "   'phases': 'A',\n",
       "   'eqtype': 'LoadBreakSwitch',\n",
       "   'eqname': '671692',\n",
       "   'eqid': '_517413CB-6977-46FA-8911-C82332E42884',\n",
       "   'trmid': '_F1D6C919-22FA-4E94-81B1-36823F5A9FF5'}],\n",
       " 'responseComplete': True,\n",
       " 'id': '223713711'}"
      ]
     },
     "execution_count": 20,
     "metadata": {},
     "output_type": "execute_result"
    }
   ],
   "source": [
    "message = {\n",
    "    \"requestType\": \"QUERY_OBJECT_MEASUREMENTS\",\n",
    "    \"modelId\": model_mrid,\n",
    "    \"objectId\": switch_mrids[1],\n",
    "    \"resultFormat\": \"JSON\"\n",
    "}\n",
    "\n",
    "gapps.get_response(topic, message)"
   ]
  },
  {
   "cell_type": "markdown",
   "metadata": {},
   "source": [
    "The same query can be passed through the STOMP client by specifying the `goss.gridappsd.process.request.data.powergridmodel` topic and the same message without the python wrapping:"
   ]
  },
  {
   "cell_type": "markdown",
   "metadata": {},
   "source": [
    "![query-object](images/3.3/QUERY_OBJECT_MEASUREMENTS.png)"
   ]
  },
  {
   "cell_type": "markdown",
   "metadata": {},
   "source": [
    "__Example 2: Querying for all measurements for an `\"objectType\":`__"
   ]
  },
  {
   "cell_type": "code",
   "execution_count": 25,
   "metadata": {},
   "outputs": [
    {
     "data": {
      "text/plain": [
       "{'data': [{'measid': '_8b6bd68f-c84d-45e1-91b9-b0406fbaa3b1',\n",
       "   'type': 'PNV',\n",
       "   'class': 'Analog',\n",
       "   'name': 'ACLineSegment_632633_Voltage',\n",
       "   'bus': '633',\n",
       "   'phases': 'C',\n",
       "   'eqtype': 'ACLineSegment',\n",
       "   'eqname': '632633',\n",
       "   'eqid': '_FBE26B35-13AB-457D-9795-DF58B28E309D',\n",
       "   'trmid': '_F0E10483-D8AD-46BE-AF5F-08228955796B'},\n",
       "  {'measid': '_d56a4982-0c80-45d0-8cb8-c24097138b63',\n",
       "   'type': 'PNV',\n",
       "   'class': 'Analog',\n",
       "   'name': 'ACLineSegment_632633_Voltage',\n",
       "   'bus': '633',\n",
       "   'phases': 'B',\n",
       "   'eqtype': 'ACLineSegment',\n",
       "   'eqname': '632633',\n",
       "   'eqid': '_FBE26B35-13AB-457D-9795-DF58B28E309D',\n",
       "   'trmid': '_F0E10483-D8AD-46BE-AF5F-08228955796B'},\n",
       "  {'measid': '_d638fbbc-9b85-416e-87b8-37c9785e1611',\n",
       "   'type': 'PNV',\n",
       "   'class': 'Analog',\n",
       "   'name': 'ACLineSegment_632633_Voltage',\n",
       "   'bus': '633',\n",
       "   'phases': 'A',\n",
       "   'eqtype': 'ACLineSegment',\n",
       "   'eqname': '632633',\n",
       "   'eqid': '_FBE26B35-13AB-457D-9795-DF58B28E309D',\n",
       "   'trmid': '_F0E10483-D8AD-46BE-AF5F-08228955796B'},\n",
       "  {'measid': '_98a81464-d7b6-4044-9b48-a92e179884dc',\n",
       "   'type': 'PNV',\n",
       "   'class': 'Analog',\n",
       "   'name': 'ACLineSegment_632645_Voltage',\n",
       "   'bus': '645',\n",
       "   'phases': 'C',\n",
       "   'eqtype': 'ACLineSegment',\n",
       "   'eqname': '632645',\n",
       "   'eqid': '_1C6781A2-5B9D-4525-8A9B-F9B32C4C4AC0',\n",
       "   'trmid': '_4891537F-4088-48F5-9B1A-8294D50901E4'},\n",
       "  {'measid': '_d8ea43c7-2107-4975-9ddb-4279628daf18',\n",
       "   'type': 'PNV',\n",
       "   'class': 'Analog',\n",
       "   'name': 'ACLineSegment_632645_Voltage',\n",
       "   'bus': '645',\n",
       "   'phases': 'B',\n",
       "   'eqtype': 'ACLineSegment',\n",
       "   'eqname': '632645',\n",
       "   'eqid': '_1C6781A2-5B9D-4525-8A9B-F9B32C4C4AC0',\n",
       "   'trmid': '_4891537F-4088-48F5-9B1A-8294D50901E4'},\n",
       "  {'measid': '_aeb839c8-9228-4fff-a538-d2699191aa2b',\n",
       "   'type': 'PNV',\n",
       "   'class': 'Analog',\n",
       "   'name': 'ACLineSegment_632670_Voltage',\n",
       "   'bus': '670',\n",
       "   'phases': 'B',\n",
       "   'eqtype': 'ACLineSegment',\n",
       "   'eqname': '632670',\n",
       "   'eqid': '_ABF53597-A808-422A-B7EE-552F24D83A5F',\n",
       "   'trmid': '_B554744A-F5B5-485C-B67E-2487A8740295'},\n",
       "  {'measid': '_bcdf5a28-bce3-46e6-91a2-8eb3781605eb',\n",
       "   'type': 'PNV',\n",
       "   'class': 'Analog',\n",
       "   'name': 'ACLineSegment_632670_Voltage',\n",
       "   'bus': '670',\n",
       "   'phases': 'A',\n",
       "   'eqtype': 'ACLineSegment',\n",
       "   'eqname': '632670',\n",
       "   'eqid': '_ABF53597-A808-422A-B7EE-552F24D83A5F',\n",
       "   'trmid': '_B554744A-F5B5-485C-B67E-2487A8740295'},\n",
       "  {'measid': '_d054a67b-8e35-4b2a-bd32-6cbfbde656a6',\n",
       "   'type': 'PNV',\n",
       "   'class': 'Analog',\n",
       "   'name': 'ACLineSegment_632670_Voltage',\n",
       "   'bus': '670',\n",
       "   'phases': 'C',\n",
       "   'eqtype': 'ACLineSegment',\n",
       "   'eqname': '632670',\n",
       "   'eqid': '_ABF53597-A808-422A-B7EE-552F24D83A5F',\n",
       "   'trmid': '_B554744A-F5B5-485C-B67E-2487A8740295'},\n",
       "  {'measid': '_5f1dfa9f-e754-471d-9c74-c1a9441e95a3',\n",
       "   'type': 'PNV',\n",
       "   'class': 'Analog',\n",
       "   'name': 'ACLineSegment_645646_Voltage',\n",
       "   'bus': '646',\n",
       "   'phases': 'B',\n",
       "   'eqtype': 'ACLineSegment',\n",
       "   'eqname': '645646',\n",
       "   'eqid': '_0BBD0EA3-F665-465B-86FD-FC8B8466AD53',\n",
       "   'trmid': '_D02B9E99-3557-48F5-B475-4871E47D08F6'},\n",
       "  {'measid': '_84f75532-a514-4355-bf0e-2f8d82c736ae',\n",
       "   'type': 'PNV',\n",
       "   'class': 'Analog',\n",
       "   'name': 'ACLineSegment_645646_Voltage',\n",
       "   'bus': '646',\n",
       "   'phases': 'C',\n",
       "   'eqtype': 'ACLineSegment',\n",
       "   'eqname': '645646',\n",
       "   'eqid': '_0BBD0EA3-F665-465B-86FD-FC8B8466AD53',\n",
       "   'trmid': '_D02B9E99-3557-48F5-B475-4871E47D08F6'},\n",
       "  {'measid': '_5ad9e784-5b6c-4f2c-bc4d-1ccc31cfd96b',\n",
       "   'type': 'PNV',\n",
       "   'class': 'Analog',\n",
       "   'name': 'ACLineSegment_650632_Voltage',\n",
       "   'bus': 'rg60',\n",
       "   'phases': 'B',\n",
       "   'eqtype': 'ACLineSegment',\n",
       "   'eqname': '650632',\n",
       "   'eqid': '_A04CDFB1-E951-4FC4-8882-0323CD70AE3C',\n",
       "   'trmid': '_000BA1F2-6879-47D7-826D-3CACD23EE20B'},\n",
       "  {'measid': '_8dc4079e-6bbb-491d-9f4c-0c240228b647',\n",
       "   'type': 'PNV',\n",
       "   'class': 'Analog',\n",
       "   'name': 'ACLineSegment_650632_Voltage',\n",
       "   'bus': 'rg60',\n",
       "   'phases': 'A',\n",
       "   'eqtype': 'ACLineSegment',\n",
       "   'eqname': '650632',\n",
       "   'eqid': '_A04CDFB1-E951-4FC4-8882-0323CD70AE3C',\n",
       "   'trmid': '_000BA1F2-6879-47D7-826D-3CACD23EE20B'},\n",
       "  {'measid': '_fc4adc62-5608-467f-aab7-75893b574998',\n",
       "   'type': 'PNV',\n",
       "   'class': 'Analog',\n",
       "   'name': 'ACLineSegment_650632_Voltage',\n",
       "   'bus': 'rg60',\n",
       "   'phases': 'C',\n",
       "   'eqtype': 'ACLineSegment',\n",
       "   'eqname': '650632',\n",
       "   'eqid': '_A04CDFB1-E951-4FC4-8882-0323CD70AE3C',\n",
       "   'trmid': '_000BA1F2-6879-47D7-826D-3CACD23EE20B'},\n",
       "  {'measid': '_881b2079-132d-42b6-a2e4-3d9a954199fc',\n",
       "   'type': 'PNV',\n",
       "   'class': 'Analog',\n",
       "   'name': 'ACLineSegment_671680_Voltage',\n",
       "   'bus': '680',\n",
       "   'phases': 'C',\n",
       "   'eqtype': 'ACLineSegment',\n",
       "   'eqname': '671680',\n",
       "   'eqid': '_4C04F838-62AA-475E-AEFA-A63B7C889C13',\n",
       "   'trmid': '_FF3DE145-0066-4C1F-867C-2A2BF3012EDF'},\n",
       "  {'measid': '_aaa5a1e5-ddd2-4324-b1d7-0b2d1b251f32',\n",
       "   'type': 'PNV',\n",
       "   'class': 'Analog',\n",
       "   'name': 'ACLineSegment_671680_Voltage',\n",
       "   'bus': '680',\n",
       "   'phases': 'B',\n",
       "   'eqtype': 'ACLineSegment',\n",
       "   'eqname': '671680',\n",
       "   'eqid': '_4C04F838-62AA-475E-AEFA-A63B7C889C13',\n",
       "   'trmid': '_FF3DE145-0066-4C1F-867C-2A2BF3012EDF'},\n",
       "  {'measid': '_c549a164-fcff-4b13-9c64-5173fb43994f',\n",
       "   'type': 'PNV',\n",
       "   'class': 'Analog',\n",
       "   'name': 'ACLineSegment_671680_Voltage',\n",
       "   'bus': '680',\n",
       "   'phases': 'A',\n",
       "   'eqtype': 'ACLineSegment',\n",
       "   'eqname': '671680',\n",
       "   'eqid': '_4C04F838-62AA-475E-AEFA-A63B7C889C13',\n",
       "   'trmid': '_FF3DE145-0066-4C1F-867C-2A2BF3012EDF'},\n",
       "  {'measid': '_c0b0b188-ad4a-4be3-90c1-2fbb1f507a15',\n",
       "   'type': 'PNV',\n",
       "   'class': 'Analog',\n",
       "   'name': 'ACLineSegment_671684_Voltage',\n",
       "   'bus': '684',\n",
       "   'phases': 'A',\n",
       "   'eqtype': 'ACLineSegment',\n",
       "   'eqname': '671684',\n",
       "   'eqid': '_D34B0D01-B082-4081-A3CC-B68B9B8313A4',\n",
       "   'trmid': '_BC623628-BD23-4A1A-A406-15CA63556149'},\n",
       "  {'measid': '_6f1c625b-7fe9-4020-9ba6-4e7293c01771',\n",
       "   'type': 'PNV',\n",
       "   'class': 'Analog',\n",
       "   'name': 'ACLineSegment_684652_Voltage',\n",
       "   'bus': '652',\n",
       "   'phases': 'A',\n",
       "   'eqtype': 'ACLineSegment',\n",
       "   'eqname': '684652',\n",
       "   'eqid': '_ABF877D7-DAC2-4BF0-AB58-9A8A02E92EB3',\n",
       "   'trmid': '_8692A804-428A-4637-BD47-69C76F873DAB'},\n",
       "  {'measid': '_0cbdf98b-b5e4-4bc3-93d6-08db08947794',\n",
       "   'type': 'VA',\n",
       "   'class': 'Analog',\n",
       "   'name': 'ACLineSegment_632633_Power',\n",
       "   'bus': '632',\n",
       "   'phases': 'C',\n",
       "   'eqtype': 'ACLineSegment',\n",
       "   'eqname': '632633',\n",
       "   'eqid': '_FBE26B35-13AB-457D-9795-DF58B28E309D',\n",
       "   'trmid': '_A6C57C2E-A084-4701-ADF5-FB6F3E36F45C'},\n",
       "  {'measid': '_0f4457a6-a3cb-42b0-a06c-b31d5c7a17ff',\n",
       "   'type': 'VA',\n",
       "   'class': 'Analog',\n",
       "   'name': 'ACLineSegment_632633_Power',\n",
       "   'bus': '632',\n",
       "   'phases': 'A',\n",
       "   'eqtype': 'ACLineSegment',\n",
       "   'eqname': '632633',\n",
       "   'eqid': '_FBE26B35-13AB-457D-9795-DF58B28E309D',\n",
       "   'trmid': '_A6C57C2E-A084-4701-ADF5-FB6F3E36F45C'},\n",
       "  {'measid': '_bc165aa6-347d-4551-8abf-016044675a6f',\n",
       "   'type': 'VA',\n",
       "   'class': 'Analog',\n",
       "   'name': 'ACLineSegment_632633_Power',\n",
       "   'bus': '632',\n",
       "   'phases': 'B',\n",
       "   'eqtype': 'ACLineSegment',\n",
       "   'eqname': '632633',\n",
       "   'eqid': '_FBE26B35-13AB-457D-9795-DF58B28E309D',\n",
       "   'trmid': '_A6C57C2E-A084-4701-ADF5-FB6F3E36F45C'},\n",
       "  {'measid': '_65599f7e-3e93-4456-a2b1-bba7a46337b6',\n",
       "   'type': 'VA',\n",
       "   'class': 'Analog',\n",
       "   'name': 'ACLineSegment_632645_Power',\n",
       "   'bus': '632',\n",
       "   'phases': 'B',\n",
       "   'eqtype': 'ACLineSegment',\n",
       "   'eqname': '632645',\n",
       "   'eqid': '_1C6781A2-5B9D-4525-8A9B-F9B32C4C4AC0',\n",
       "   'trmid': '_A563A3A5-EA39-4998-96B2-538227E2D2F6'},\n",
       "  {'measid': '_6bb8ef03-ec84-421f-8d28-cd1a3813e614',\n",
       "   'type': 'VA',\n",
       "   'class': 'Analog',\n",
       "   'name': 'ACLineSegment_632645_Power',\n",
       "   'bus': '632',\n",
       "   'phases': 'C',\n",
       "   'eqtype': 'ACLineSegment',\n",
       "   'eqname': '632645',\n",
       "   'eqid': '_1C6781A2-5B9D-4525-8A9B-F9B32C4C4AC0',\n",
       "   'trmid': '_A563A3A5-EA39-4998-96B2-538227E2D2F6'},\n",
       "  {'measid': '_def62366-746e-4fcb-b3ee-ebebb90d72d4',\n",
       "   'type': 'VA',\n",
       "   'class': 'Analog',\n",
       "   'name': 'ACLineSegment_632670_Power',\n",
       "   'bus': 'mid',\n",
       "   'phases': 'B',\n",
       "   'eqtype': 'ACLineSegment',\n",
       "   'eqname': '632670',\n",
       "   'eqid': '_ABF53597-A808-422A-B7EE-552F24D83A5F',\n",
       "   'trmid': '_5EDB2918-D669-457C-9F44-E08EBA5AC850'},\n",
       "  {'measid': '_df6e0f8d-1af3-49f2-803b-454c93b19773',\n",
       "   'type': 'VA',\n",
       "   'class': 'Analog',\n",
       "   'name': 'ACLineSegment_632670_Power',\n",
       "   'bus': 'mid',\n",
       "   'phases': 'C',\n",
       "   'eqtype': 'ACLineSegment',\n",
       "   'eqname': '632670',\n",
       "   'eqid': '_ABF53597-A808-422A-B7EE-552F24D83A5F',\n",
       "   'trmid': '_5EDB2918-D669-457C-9F44-E08EBA5AC850'},\n",
       "  {'measid': '_e87a1d11-7eaf-4535-9745-1e1a8e6b8e11',\n",
       "   'type': 'VA',\n",
       "   'class': 'Analog',\n",
       "   'name': 'ACLineSegment_632670_Power',\n",
       "   'bus': 'mid',\n",
       "   'phases': 'A',\n",
       "   'eqtype': 'ACLineSegment',\n",
       "   'eqname': '632670',\n",
       "   'eqid': '_ABF53597-A808-422A-B7EE-552F24D83A5F',\n",
       "   'trmid': '_5EDB2918-D669-457C-9F44-E08EBA5AC850'},\n",
       "  {'measid': '_2d9ed148-d492-4e7d-b9af-81a407e74a59',\n",
       "   'type': 'VA',\n",
       "   'class': 'Analog',\n",
       "   'name': 'ACLineSegment_645646_Power',\n",
       "   'bus': '645',\n",
       "   'phases': 'C',\n",
       "   'eqtype': 'ACLineSegment',\n",
       "   'eqname': '645646',\n",
       "   'eqid': '_0BBD0EA3-F665-465B-86FD-FC8B8466AD53',\n",
       "   'trmid': '_F3C0F2D0-4D28-49B5-A920-37409B99229D'},\n",
       "  {'measid': '_4e30ae83-418c-4cfb-99eb-5572e00b4ec4',\n",
       "   'type': 'VA',\n",
       "   'class': 'Analog',\n",
       "   'name': 'ACLineSegment_645646_Power',\n",
       "   'bus': '645',\n",
       "   'phases': 'B',\n",
       "   'eqtype': 'ACLineSegment',\n",
       "   'eqname': '645646',\n",
       "   'eqid': '_0BBD0EA3-F665-465B-86FD-FC8B8466AD53',\n",
       "   'trmid': '_F3C0F2D0-4D28-49B5-A920-37409B99229D'},\n",
       "  {'measid': '_0a2f7676-f619-405b-bb80-8f51f4d7a25f',\n",
       "   'type': 'VA',\n",
       "   'class': 'Analog',\n",
       "   'name': 'ACLineSegment_650632_Power',\n",
       "   'bus': 'rg60',\n",
       "   'phases': 'C',\n",
       "   'eqtype': 'ACLineSegment',\n",
       "   'eqname': '650632',\n",
       "   'eqid': '_A04CDFB1-E951-4FC4-8882-0323CD70AE3C',\n",
       "   'trmid': '_000BA1F2-6879-47D7-826D-3CACD23EE20B'},\n",
       "  {'measid': '_9f4bef6c-c68d-42a9-ade6-206a8b365ce9',\n",
       "   'type': 'VA',\n",
       "   'class': 'Analog',\n",
       "   'name': 'ACLineSegment_650632_Power',\n",
       "   'bus': 'rg60',\n",
       "   'phases': 'B',\n",
       "   'eqtype': 'ACLineSegment',\n",
       "   'eqname': '650632',\n",
       "   'eqid': '_A04CDFB1-E951-4FC4-8882-0323CD70AE3C',\n",
       "   'trmid': '_000BA1F2-6879-47D7-826D-3CACD23EE20B'},\n",
       "  {'measid': '_c16593db-3c64-4504-9387-17f19f558549',\n",
       "   'type': 'VA',\n",
       "   'class': 'Analog',\n",
       "   'name': 'ACLineSegment_650632_Power',\n",
       "   'bus': 'rg60',\n",
       "   'phases': 'A',\n",
       "   'eqtype': 'ACLineSegment',\n",
       "   'eqname': '650632',\n",
       "   'eqid': '_A04CDFB1-E951-4FC4-8882-0323CD70AE3C',\n",
       "   'trmid': '_000BA1F2-6879-47D7-826D-3CACD23EE20B'},\n",
       "  {'measid': '_67214379-2364-4d28-9025-10eb7a90cff4',\n",
       "   'type': 'VA',\n",
       "   'class': 'Analog',\n",
       "   'name': 'ACLineSegment_670671_Power',\n",
       "   'bus': '670',\n",
       "   'phases': 'A',\n",
       "   'eqtype': 'ACLineSegment',\n",
       "   'eqname': '670671',\n",
       "   'eqid': '_45395C84-F20A-4F5A-977F-B80348256421',\n",
       "   'trmid': '_EEF69C71-5A87-4378-8DF4-4578635C81B4'},\n",
       "  {'measid': '_b59a587c-fd11-41ad-9172-f83d78d54ac3',\n",
       "   'type': 'VA',\n",
       "   'class': 'Analog',\n",
       "   'name': 'ACLineSegment_670671_Power',\n",
       "   'bus': '670',\n",
       "   'phases': 'B',\n",
       "   'eqtype': 'ACLineSegment',\n",
       "   'eqname': '670671',\n",
       "   'eqid': '_45395C84-F20A-4F5A-977F-B80348256421',\n",
       "   'trmid': '_EEF69C71-5A87-4378-8DF4-4578635C81B4'},\n",
       "  {'measid': '_d11aff18-688e-45f0-82c2-a277fa1b97c0',\n",
       "   'type': 'VA',\n",
       "   'class': 'Analog',\n",
       "   'name': 'ACLineSegment_670671_Power',\n",
       "   'bus': '670',\n",
       "   'phases': 'C',\n",
       "   'eqtype': 'ACLineSegment',\n",
       "   'eqname': '670671',\n",
       "   'eqid': '_45395C84-F20A-4F5A-977F-B80348256421',\n",
       "   'trmid': '_EEF69C71-5A87-4378-8DF4-4578635C81B4'},\n",
       "  {'measid': '_0c27bd24-120f-40b2-b0dd-e7cc58e7ebc7',\n",
       "   'type': 'VA',\n",
       "   'class': 'Analog',\n",
       "   'name': 'ACLineSegment_671680_Power',\n",
       "   'bus': '671',\n",
       "   'phases': 'B',\n",
       "   'eqtype': 'ACLineSegment',\n",
       "   'eqname': '671680',\n",
       "   'eqid': '_4C04F838-62AA-475E-AEFA-A63B7C889C13',\n",
       "   'trmid': '_8BE8D3EA-EEE9-406C-B24C-B169C8EC799A'},\n",
       "  {'measid': '_142ea530-f364-4dd9-887d-390c4aca512e',\n",
       "   'type': 'VA',\n",
       "   'class': 'Analog',\n",
       "   'name': 'ACLineSegment_671680_Power',\n",
       "   'bus': '671',\n",
       "   'phases': 'C',\n",
       "   'eqtype': 'ACLineSegment',\n",
       "   'eqname': '671680',\n",
       "   'eqid': '_4C04F838-62AA-475E-AEFA-A63B7C889C13',\n",
       "   'trmid': '_8BE8D3EA-EEE9-406C-B24C-B169C8EC799A'},\n",
       "  {'measid': '_569f6c28-79d6-4192-a238-1294a899cee3',\n",
       "   'type': 'VA',\n",
       "   'class': 'Analog',\n",
       "   'name': 'ACLineSegment_671680_Power',\n",
       "   'bus': '671',\n",
       "   'phases': 'A',\n",
       "   'eqtype': 'ACLineSegment',\n",
       "   'eqname': '671680',\n",
       "   'eqid': '_4C04F838-62AA-475E-AEFA-A63B7C889C13',\n",
       "   'trmid': '_8BE8D3EA-EEE9-406C-B24C-B169C8EC799A'},\n",
       "  {'measid': '_63abd794-ccfc-467d-aa2a-b99c7a0b636a',\n",
       "   'type': 'VA',\n",
       "   'class': 'Analog',\n",
       "   'name': 'ACLineSegment_671684_Power',\n",
       "   'bus': '671',\n",
       "   'phases': 'A',\n",
       "   'eqtype': 'ACLineSegment',\n",
       "   'eqname': '671684',\n",
       "   'eqid': '_D34B0D01-B082-4081-A3CC-B68B9B8313A4',\n",
       "   'trmid': '_A4C58654-2972-4A3E-AE65-3868941DA037'},\n",
       "  {'measid': '_f3d3c954-605b-4a20-b1d9-18d69b5ca3fb',\n",
       "   'type': 'VA',\n",
       "   'class': 'Analog',\n",
       "   'name': 'ACLineSegment_671684_Power',\n",
       "   'bus': '671',\n",
       "   'phases': 'C',\n",
       "   'eqtype': 'ACLineSegment',\n",
       "   'eqname': '671684',\n",
       "   'eqid': '_D34B0D01-B082-4081-A3CC-B68B9B8313A4',\n",
       "   'trmid': '_A4C58654-2972-4A3E-AE65-3868941DA037'},\n",
       "  {'measid': '_2d31c620-a2f9-4f84-9102-9a8fe574ab6b',\n",
       "   'type': 'VA',\n",
       "   'class': 'Analog',\n",
       "   'name': 'ACLineSegment_684611_Power',\n",
       "   'bus': 'tap',\n",
       "   'phases': 'C',\n",
       "   'eqtype': 'ACLineSegment',\n",
       "   'eqname': '684611',\n",
       "   'eqid': '_8E180773-2A9B-4136-BC9A-132A52C8E276',\n",
       "   'trmid': '_EA5FF2C4-F7E1-436D-BDEC-1C48D4DBB50D'},\n",
       "  {'measid': '_488bdd39-7f23-4aff-bff0-66abe4c7e2a7',\n",
       "   'type': 'VA',\n",
       "   'class': 'Analog',\n",
       "   'name': 'ACLineSegment_684652_Power',\n",
       "   'bus': '684',\n",
       "   'phases': 'A',\n",
       "   'eqtype': 'ACLineSegment',\n",
       "   'eqname': '684652',\n",
       "   'eqid': '_ABF877D7-DAC2-4BF0-AB58-9A8A02E92EB3',\n",
       "   'trmid': '_3313C5A7-ED81-47D3-8114-AD654A5DE21B'},\n",
       "  {'measid': '_2abd660f-3dc2-4611-95a0-9adebae7fe3b',\n",
       "   'type': 'VA',\n",
       "   'class': 'Analog',\n",
       "   'name': 'ACLineSegment_692675_Power',\n",
       "   'bus': '692',\n",
       "   'phases': 'A',\n",
       "   'eqtype': 'ACLineSegment',\n",
       "   'eqname': '692675',\n",
       "   'eqid': '_7060D0BB-B30D-4932-8FA1-40820A0FC4D0',\n",
       "   'trmid': '_B4E1784C-5500-47AE-958B-A286CE8C17A5'},\n",
       "  {'measid': '_387c6bab-0a0a-4c90-9b19-73a902ab1e28',\n",
       "   'type': 'VA',\n",
       "   'class': 'Analog',\n",
       "   'name': 'ACLineSegment_692675_Power',\n",
       "   'bus': '692',\n",
       "   'phases': 'B',\n",
       "   'eqtype': 'ACLineSegment',\n",
       "   'eqname': '692675',\n",
       "   'eqid': '_7060D0BB-B30D-4932-8FA1-40820A0FC4D0',\n",
       "   'trmid': '_B4E1784C-5500-47AE-958B-A286CE8C17A5'},\n",
       "  {'measid': '_4da919f1-762f-4755-b674-5faccf3faec6',\n",
       "   'type': 'VA',\n",
       "   'class': 'Analog',\n",
       "   'name': 'ACLineSegment_692675_Power',\n",
       "   'bus': '692',\n",
       "   'phases': 'C',\n",
       "   'eqtype': 'ACLineSegment',\n",
       "   'eqname': '692675',\n",
       "   'eqid': '_7060D0BB-B30D-4932-8FA1-40820A0FC4D0',\n",
       "   'trmid': '_B4E1784C-5500-47AE-958B-A286CE8C17A5'}],\n",
       " 'responseComplete': True,\n",
       " 'id': '1040705008'}"
      ]
     },
     "execution_count": 25,
     "metadata": {},
     "output_type": "execute_result"
    }
   ],
   "source": [
    "message = {\n",
    "    \"requestType\": \"QUERY_OBJECT_MEASUREMENTS\",\n",
    "    \"modelId\": model_mrid,\n",
    "    \"objectType\": \"ACLineSegment\",\n",
    "    \"resultFormat\": \"JSON\"\n",
    "}\n",
    "\n",
    "gapps.get_response(topic, message)"
   ]
  },
  {
   "cell_type": "markdown",
   "metadata": {},
   "source": [
    "The same query can be passed through the STOMP client by specifying the `goss.gridappsd.process.request.data.powergridmodel` topic and the same message without the python wrapping:"
   ]
  },
  {
   "cell_type": "markdown",
   "metadata": {},
   "source": [
    "![query-object](images/3.3/QUERY_OBJECT_MEASUREMENTS_2.png)"
   ]
  },
  {
   "cell_type": "markdown",
   "metadata": {
    "tags": [
     "remove_cell"
    ]
   },
   "source": [
    "[Return to Top](#Table-of-Contents)"
   ]
  },
  {
   "cell_type": "markdown",
   "metadata": {
    "tags": [
     "remove_cell"
    ]
   },
   "source": [
    "## 6.3. Filtering Returned Data"
   ]
  },
  {
   "cell_type": "markdown",
   "metadata": {},
   "source": [
    "### Filtering Returned Data\n",
    "\n",
    "After receiving the python dictionary of measurements, it will be necessary to parse it to inlcude just the desired set of measurements. This is done using the method presented in [Parsing Returned Data](3.2-API-Message-Structure.ipynb#3.-Parsing-Returned-Data)"
   ]
  },
  {
   "cell_type": "code",
   "execution_count": 22,
   "metadata": {},
   "outputs": [
    {
     "data": {
      "text/plain": [
       "[{'measid': '_0f5150f9-f959-4f7b-a661-d80afe862e58',\n",
       "  'type': 'Pos',\n",
       "  'class': 'Discrete',\n",
       "  'name': 'LoadBreakSwitch_671692_State',\n",
       "  'bus': '671',\n",
       "  'phases': 'B',\n",
       "  'eqtype': 'LoadBreakSwitch',\n",
       "  'eqname': '671692',\n",
       "  'eqid': '_517413CB-6977-46FA-8911-C82332E42884',\n",
       "  'trmid': '_F1D6C919-22FA-4E94-81B1-36823F5A9FF5'},\n",
       " {'measid': '_35a3ba96-f644-4144-b955-1bc959c2311b',\n",
       "  'type': 'Pos',\n",
       "  'class': 'Discrete',\n",
       "  'name': 'LoadBreakSwitch_671692_State',\n",
       "  'bus': '671',\n",
       "  'phases': 'C',\n",
       "  'eqtype': 'LoadBreakSwitch',\n",
       "  'eqname': '671692',\n",
       "  'eqid': '_517413CB-6977-46FA-8911-C82332E42884',\n",
       "  'trmid': '_F1D6C919-22FA-4E94-81B1-36823F5A9FF5'},\n",
       " {'measid': '_c8a56420-f87b-4ce4-ac38-ba431ecfcdb2',\n",
       "  'type': 'Pos',\n",
       "  'class': 'Discrete',\n",
       "  'name': 'LoadBreakSwitch_671692_State',\n",
       "  'bus': '671',\n",
       "  'phases': 'A',\n",
       "  'eqtype': 'LoadBreakSwitch',\n",
       "  'eqname': '671692',\n",
       "  'eqid': '_517413CB-6977-46FA-8911-C82332E42884',\n",
       "  'trmid': '_F1D6C919-22FA-4E94-81B1-36823F5A9FF5'},\n",
       " {'measid': '_2f50b72c-d10f-4197-b2b9-e7268bc7c6d9',\n",
       "  'type': 'Pos',\n",
       "  'class': 'Discrete',\n",
       "  'name': 'LoadBreakSwitch_sect1_State',\n",
       "  'bus': '684',\n",
       "  'phases': 'C',\n",
       "  'eqtype': 'LoadBreakSwitch',\n",
       "  'eqname': 'sect1',\n",
       "  'eqid': '_2858B6C2-0886-4269-884C-06FA8B887319',\n",
       "  'trmid': '_8F517DFE-D985-4D24-8339-96FA2A789E88'}]"
      ]
     },
     "execution_count": 22,
     "metadata": {},
     "output_type": "execute_result"
    }
   ],
   "source": [
    "message = {\n",
    "    \"modelId\": model_mrid,\n",
    "    \"requestType\": \"QUERY_OBJECT_MEASUREMENTS\",\n",
    "    \"resultFormat\": \"JSON\",\n",
    "    \"objectType\": \"LoadBreakSwitch\"\n",
    "}\n",
    "\n",
    "obj_msr_ACline = gapps.get_response(topic, message, timeout=10)\n",
    "\n",
    "# Filter to just values for 'data' key\n",
    "obj_msr_ACline = obj_msr_ACline['data'] \n",
    "\n",
    "# Chose specific measurement mrid. Screen out those whose type is not PNV. For example,\n",
    "obj_msr_ACline = [k for k in obj_msr_ACline if k['type'] == 'Pos']\n",
    "\n",
    "obj_msr_ACline"
   ]
  },
  {
   "cell_type": "markdown",
   "metadata": {
    "tags": [
     "remove_cell"
    ]
   },
   "source": [
    "[Return to Top](#Table-of-Contents)"
   ]
  },
  {
   "cell_type": "markdown",
   "metadata": {},
   "source": [
    "---"
   ]
  },
  {
   "cell_type": "markdown",
   "metadata": {
    "tags": [
     "remove_cell"
    ]
   },
   "source": [
    "# 7. Querying with a Custom SPARQL String"
   ]
  },
  {
   "cell_type": "markdown",
   "metadata": {},
   "source": [
    "## Querying with a Custom SPARQL String\n",
    "\n",
    "This section outlines how the PowerGrid Models API can be used to pass custom SPARQL queries for CIM objects and properties that do not have pre-built JSON string queries."
   ]
  },
  {
   "cell_type": "markdown",
   "metadata": {
    "tags": [
     "removew_cell"
    ]
   },
   "source": [
    "## 7.1. Query using a SPARQL filter"
   ]
  },
  {
   "cell_type": "markdown",
   "metadata": {},
   "source": [
    "### Query using a SPARQL filter\n",
    "\n",
    "This query returns a dictionary of all objects matching the particular filter. The query can be for 1) all objects of a particular `objectType` or 2) those with attributes corresponding to a particular SPARQL filter, or both. \n",
    "\n",
    "If neither `objectType` or `filter` is specified, the query will provide all objects belonging to the model.\n",
    "Query responseType is\n",
    "\n",
    "* `\"requestType\": \"QUERY_MODEL\"`\n",
    "\n",
    "Allowed parameters are:\n",
    "\n",
    "* `\"modelId\":` \"model name mRID\" -- When specified it searches against that model, if empty it will search against all models\n",
    "\n",
    "* `\"objectType\":` \"CIM Class\" -- Optional. Specifies the type of objects you wish to return details for.\n",
    "\n",
    "* `\"filter\":` \"SPARQL triple\" -- Optional. Applies the SPARQL triple filter to the query results\n",
    "\n",
    "* `\"resultFormat\":` \"XML\" / \"JSON\" / \"CSV\" -- Will return results as a list in the format selected.\n"
   ]
  },
  {
   "cell_type": "code",
   "execution_count": 23,
   "metadata": {},
   "outputs": [
    {
     "data": {
      "text/plain": [
       "{'data': [{'id': '_8E4E3C92-0B7A-4F74-8FD2-CC10F74E452F',\n",
       "   'IdentifiedObject.mRID': '_8E4E3C92-0B7A-4F74-8FD2-CC10F74E452F',\n",
       "   'IdentifiedObject.name': 'ieee13nodeckt_Location',\n",
       "   'Location.CoordinateSystem': '_1AF2A953-B244-4D6D-9E95-002C1E1D084D',\n",
       "   'type': 'Location'},\n",
       "  {'id': '_73C512BD-7249-4F50-50DA-D93849B89C43',\n",
       "   'IdentifiedObject.mRID': '_73C512BD-7249-4F50-50DA-D93849B89C43',\n",
       "   'IdentifiedObject.name': 'IEEE',\n",
       "   'type': 'GeographicalRegion'},\n",
       "  {'id': '_6C62C905-6FC7-653D-9F1E-1340F974A587',\n",
       "   'IdentifiedObject.mRID': '_6C62C905-6FC7-653D-9F1E-1340F974A587',\n",
       "   'IdentifiedObject.name': 'IEEE13',\n",
       "   'Substation.Region': '_ABEB635F-729D-24BF-B8A4-E2EF268D8B9E',\n",
       "   'type': 'Substation'},\n",
       "  {'id': '_04984C4D-CC29-477A-9AF4-61AC7D74F16F',\n",
       "   'IdentifiedObject.mRID': '_04984C4D-CC29-477A-9AF4-61AC7D74F16F',\n",
       "   'IdentifiedObject.name': '650z',\n",
       "   'type': 'ConnectivityNode',\n",
       "   'ConnectivityNode.ConnectivityNodeContainer': '_49AD8E07-3BF9-A4E2-CB8F-C3722F837B62',\n",
       "   'ConnectivityNode.TopologicalNode': '_667E5780-43BD-4B6E-A10F-7DD6BD093AD7',\n",
       "   'ConnectivityNode.OperationalLimitSet': '_CE1E7B0E-AC41-4ED5-8F9B-9A569DF3D6D8'},\n",
       "  {'id': '_CE1E7B0E-AC41-4ED5-8F9B-9A569DF3D6D8',\n",
       "   'IdentifiedObject.mRID': '_CE1E7B0E-AC41-4ED5-8F9B-9A569DF3D6D8',\n",
       "   'IdentifiedObject.name': 'OpLimV_13.2000',\n",
       "   'type': 'OperationalLimitSet'},\n",
       "  {'id': '_1AF2A953-B244-4D6D-9E95-002C1E1D084D',\n",
       "   'CoordinateSystem.crsUrn': 'OpenDSSLocalBusCoordinates',\n",
       "   'IdentifiedObject.mRID': '_1AF2A953-B244-4D6D-9E95-002C1E1D084D',\n",
       "   'IdentifiedObject.name': 'ieee13nodeckt_CrsUrn',\n",
       "   'type': 'CoordinateSystem'},\n",
       "  {'id': '_ABEB635F-729D-24BF-B8A4-E2EF268D8B9E',\n",
       "   'IdentifiedObject.mRID': '_ABEB635F-729D-24BF-B8A4-E2EF268D8B9E',\n",
       "   'IdentifiedObject.name': 'Small',\n",
       "   'SubGeographicalRegion.Region': '_73C512BD-7249-4F50-50DA-D93849B89C43',\n",
       "   'type': 'SubGeographicalRegion'},\n",
       "  {'id': '_49AD8E07-3BF9-A4E2-CB8F-C3722F837B62',\n",
       "   'Feeder.NormalEnergizingSubstation': '_6C62C905-6FC7-653D-9F1E-1340F974A587',\n",
       "   'IdentifiedObject.mRID': '_49AD8E07-3BF9-A4E2-CB8F-C3722F837B62',\n",
       "   'IdentifiedObject.name': 'ieee13nodeckt',\n",
       "   'PowerSystemResource.Location': '_8E4E3C92-0B7A-4F74-8FD2-CC10F74E452F',\n",
       "   'type': 'Feeder'},\n",
       "  {'id': '_667E5780-43BD-4B6E-A10F-7DD6BD093AD7',\n",
       "   'IdentifiedObject.mRID': '_667E5780-43BD-4B6E-A10F-7DD6BD093AD7',\n",
       "   'IdentifiedObject.name': '650z',\n",
       "   'TopologicalNode.TopologicalIsland': '_DD87C83F-2A07-49AB-AA0A-BB1E36C3BAED',\n",
       "   'type': 'TopologicalNode'},\n",
       "  {'id': '_A7CAAC2F-EC2B-4DF3-BD28-C8CCA20D7B7A',\n",
       "   'IdentifiedObject.mRID': '_A7CAAC2F-EC2B-4DF3-BD28-C8CCA20D7B7A',\n",
       "   'IdentifiedObject.name': 'sourcebus',\n",
       "   'TopologicalNode.TopologicalIsland': '_DD87C83F-2A07-49AB-AA0A-BB1E36C3BAED',\n",
       "   'type': 'TopologicalNode'},\n",
       "  {'id': '_DD87C83F-2A07-49AB-AA0A-BB1E36C3BAED',\n",
       "   'IdentifiedObject.mRID': '_DD87C83F-2A07-49AB-AA0A-BB1E36C3BAED',\n",
       "   'IdentifiedObject.name': 'ieee13nodeckt_Island',\n",
       "   'TopologicalIsland.AngleRefTopologicalNode': '_A7CAAC2F-EC2B-4DF3-BD28-C8CCA20D7B7A',\n",
       "   'type': 'TopologicalIsland'}],\n",
       " 'responseComplete': True,\n",
       " 'id': '1071883142'}"
      ]
     },
     "execution_count": 23,
     "metadata": {},
     "output_type": "execute_result"
    }
   ],
   "source": [
    "message = {\n",
    "        \"requestType\": \"QUERY_MODEL\",\n",
    "        \"modelId\": model_mrid,\n",
    "        \"resultFormat\": \"JSON\",\n",
    "        \"filter\": \"?s cim:IdentifiedObject.name '650z'\",\n",
    "        \"objectType\": \"http://iec.ch/TC57/CIM100#ConnectivityNode\"\n",
    "}\n",
    "\n",
    "gapps.get_response(topic, message)"
   ]
  },
  {
   "cell_type": "markdown",
   "metadata": {},
   "source": [
    "The same query can be passed through the STOMP client by specifying the `goss.gridappsd.process.request.data.powergridmodel` topic and the same message without the python wrapping:"
   ]
  },
  {
   "cell_type": "markdown",
   "metadata": {},
   "source": [
    "![query-model](images/3.3/QUERY_MODEL.png)"
   ]
  },
  {
   "cell_type": "markdown",
   "metadata": {},
   "source": [
    "## 7.2. Query using a Generic SPARQL Query"
   ]
  },
  {
   "cell_type": "markdown",
   "metadata": {},
   "source": [
    "This query is used to pass a generic SPARQL query to the Blazegraph database. "
   ]
  },
  {
   "cell_type": "code",
   "execution_count": 24,
   "metadata": {},
   "outputs": [
    {
     "data": {
      "text/plain": [
       "{'data': {'head': {'vars': ['feeder_name', 'subregion_name', 'region_name']},\n",
       "  'results': {'bindings': [{'feeder_name': {'type': 'literal',\n",
       "      'value': 'acep_psil'},\n",
       "     'subregion_name': {'type': 'literal', 'value': 'Fairbanks'},\n",
       "     'region_name': {'type': 'literal', 'value': 'Alaska'}},\n",
       "    {'feeder_name': {'type': 'literal', 'value': 'j1'},\n",
       "     'subregion_name': {'type': 'literal', 'value': 'DPV'},\n",
       "     'region_name': {'type': 'literal', 'value': 'EPRI'}},\n",
       "    {'feeder_name': {'type': 'literal', 'value': 'ieee123pv'},\n",
       "     'subregion_name': {'type': 'literal', 'value': 'Medium'},\n",
       "     'region_name': {'type': 'literal', 'value': 'IEEE'}},\n",
       "    {'feeder_name': {'type': 'literal', 'value': 'ieee123'},\n",
       "     'subregion_name': {'type': 'literal', 'value': 'Medium'},\n",
       "     'region_name': {'type': 'literal', 'value': 'IEEE'}},\n",
       "    {'feeder_name': {'type': 'literal', 'value': 'ieee13nodecktassets'},\n",
       "     'subregion_name': {'type': 'literal', 'value': 'Small'},\n",
       "     'region_name': {'type': 'literal', 'value': 'IEEE'}},\n",
       "    {'feeder_name': {'type': 'literal', 'value': 'ieee13nodeckt'},\n",
       "     'subregion_name': {'type': 'literal', 'value': 'Small'},\n",
       "     'region_name': {'type': 'literal', 'value': 'IEEE'}},\n",
       "    {'feeder_name': {'type': 'literal', 'value': 'ieee13ochre'},\n",
       "     'subregion_name': {'type': 'literal', 'value': 'Small'},\n",
       "     'region_name': {'type': 'literal', 'value': 'IEEE'}},\n",
       "    {'feeder_name': {'type': 'literal', 'value': 'test9500new'},\n",
       "     'subregion_name': {'type': 'literal', 'value': 'Large'},\n",
       "     'region_name': {'type': 'literal', 'value': 'IEEE'}},\n",
       "    {'feeder_name': {'type': 'literal', 'value': 'ieee8500'},\n",
       "     'subregion_name': {'type': 'literal', 'value': 'Large'},\n",
       "     'region_name': {'type': 'literal', 'value': 'IEEE'}},\n",
       "    {'feeder_name': {'type': 'literal', 'value': 'final9500node'},\n",
       "     'subregion_name': {'type': 'literal', 'value': 'Large'},\n",
       "     'region_name': {'type': 'literal', 'value': 'IEEE'}},\n",
       "    {'feeder_name': {'type': 'literal', 'value': 'sourceckt'},\n",
       "     'subregion_name': {'type': 'literal', 'value': 'Taxonomy'},\n",
       "     'region_name': {'type': 'literal', 'value': 'PNNL'}},\n",
       "    {'feeder_name': {'type': 'literal', 'value': 'ieee123transactive'},\n",
       "     'subregion_name': {'type': 'literal', 'value': 'Medium'},\n",
       "     'region_name': {'type': 'literal', 'value': 'IEEE'}}]}},\n",
       " 'responseComplete': True,\n",
       " 'id': '700305297'}"
      ]
     },
     "execution_count": 24,
     "metadata": {},
     "output_type": "execute_result"
    }
   ],
   "source": [
    "message = {\n",
    "    \"requestType\": \"QUERY\",\n",
    "    \"queryString\": \"select ?feeder_name ?subregion_name ?region_name WHERE {?line r:type c:Feeder.?line c:IdentifiedObject.name  ?feeder_name.?line c:Feeder.NormalEnergizingSubstation ?substation.?substation r:type c:Substation.?substation c:Substation.Region ?subregion.?subregion  c:IdentifiedObject.name  ?subregion_name .?subregion c:SubGeographicalRegion.Region  ?region . ?region   c:IdentifiedObject.name  ?region_name}\",\n",
    "    \"resultFormat\": \"JSON\"\n",
    "}\n",
    "\n",
    "gapps.get_response(topic, message)"
   ]
  },
  {
   "cell_type": "markdown",
   "metadata": {},
   "source": [
    "Although it is possible to check these queries using the STOMP client, it is recommended to validate generic SPARQL queries using the Blazegraph Workbench hosted on [localhost:8889/bigdata/#query](localhost:8889/bigdata/#query). The STOMP client contains a JSON validator which may struggle with the line breaks included in SPARQL queries."
   ]
  },
  {
   "cell_type": "markdown",
   "metadata": {
    "tags": [
     "remove_cell"
    ]
   },
   "source": [
    "[Return to Top](#Table-of-Contents)"
   ]
  },
  {
   "cell_type": "markdown",
   "metadata": {},
   "source": [
    "---"
   ]
  },
  {
   "cell_type": "markdown",
   "metadata": {},
   "source": [
    "## 8. Available Models in Default Installation\n",
    "\n",
    "The GridAPPS-D Platform comes by default loaded with several distribution feeders ranging in size from 13 to 9500 nodes. Each feeder and recommended usage cases are summarized below."
   ]
  },
  {
   "cell_type": "markdown",
   "metadata": {},
   "source": [
    "### IEEE 13 Node Model\n",
    "\n",
    "This is a very small distribution test feeder operating at 4.16 kV voltage level. It consists of a single voltage regulator at the substation, overhead and underground lines, shunt capacitor, and an in-line transformer.  This feeder is relatively highly loaded and provides a good test of the convergence of the problem for a very unbalanced system.\n",
    "\n",
    "This model is recommended for debugging as the model is small enough that issues can be traced by hand.\n",
    "\n"
   ]
  },
  {
   "cell_type": "markdown",
   "metadata": {},
   "source": [
    "### IEEE 123 Node Model\n",
    "\n",
    "This models a medium-sized unbalanced distribution system operating at the nominal voltage of 4.16 kV. It consists of overhead and underground lines with single, two and three-phase laterals, along with step regulators and shunt capacitors for voltage regulation. The feeder model is characterized by the unbalanced loading having all combinations of load types (constant current, impedance, and power). It also includes a few switches to allow for the alternate paths for the power flow via feeder reconfiguration.\n",
    "\n",
    "This model is recommended for initial app testing and debugging thorugh the first stages of development.\n",
    "\n"
   ]
  },
  {
   "cell_type": "markdown",
   "metadata": {},
   "source": [
    "### IEEE 123 Node Model with PV\n",
    "\n",
    "This model is a derivative of the IEEE 123 Node model and includes rooftop solar throughout the system."
   ]
  },
  {
   "cell_type": "markdown",
   "metadata": {},
   "source": [
    "### IEEE 8500 Node Model\n",
    "\n",
    "This is a relatively large and realistic radial distribution feeder consisting of MV and LV (secondary) circuits [21]. Unlike other test systems, this feeder also includes 120/240V center-tapped transformers that are commonly deployed in North American power distribution systems. Thus, it allows for users to interchange between the two versions of loading conditions: balanced (208 V) and unbalanced (120 V) in the secondary transformers. Voltage control is possible using a substation LTC transformer, as well as multiple poletop regulators and capacitor banks. The feeder was created to test scalability and convergence of power flow algorithms on a large unbalanced power distribution system.\n",
    "\n",
    "* Length: 170 km\n",
    "* Nominal voltage: 12.47 kV, 120/240V\n",
    "* Topology: radial\n",
    "* Service transformers: yes\n",
    "* Customers: 1177\n",
    "* Peak load: 11.1 MW\n",
    "* Normally-open switches: no"
   ]
  },
  {
   "cell_type": "markdown",
   "metadata": {},
   "source": [
    "### 9500 Node Test System\n",
    "\n",
    "The 9500 Node Test System includes three radial distribution feeders with just over 12 MW of load, consisting of both medium voltage and low voltage equipment each supplied by a different distribution substation. The three distribution feeders are connected to each other through Normally-Open switches, which is representative of the way many utilities operate in North America. One feeder represents today’s grid with low penetration of customer-side renewables. The second represents a potential future grid with microgrids and 100% renewable penetration. The third has no customer resources, a district steam plant, and a utility-scale PV farm. All three feeders have customers connected by low-voltage secondary triplex lines. \n",
    "\n",
    "This is the recommended target feeder for development of all new applications"
   ]
  },
  {
   "cell_type": "markdown",
   "metadata": {},
   "source": [
    "![9500-Node-overlay](images/3.3/9500_Node_Test_Feeder_Overlay.png)"
   ]
  },
  {
   "cell_type": "markdown",
   "metadata": {},
   "source": []
  },
  {
   "cell_type": "markdown",
   "metadata": {},
   "source": [
    "![9500-node-DGs](images/3.3/9500-node-DGs.png)"
   ]
  },
  {
   "cell_type": "markdown",
   "metadata": {},
   "source": [
    "### PNNL Taxonomy Feeder"
   ]
  },
  {
   "cell_type": "markdown",
   "metadata": {},
   "source": [
    "### EPRI J1 Feeder"
   ]
  },
  {
   "cell_type": "markdown",
   "metadata": {},
   "source": [
    "### UAF Microgrid"
   ]
  },
  {
   "cell_type": "markdown",
   "metadata": {},
   "source": []
  },
  {
   "cell_type": "markdown",
   "metadata": {
    "tags": [
     "remove_cell"
    ]
   },
   "source": [
    "# 9. Adding New Models to GridAPPS-D"
   ]
  },
  {
   "cell_type": "markdown",
   "metadata": {},
   "source": [
    "## Adding New Models to GridAPPS-D\n",
    "\n"
   ]
  },
  {
   "cell_type": "markdown",
   "metadata": {},
   "source": [
    "\n",
    "\n",
    "* `git clone https://github.com/GRIDAPPSD/CIMHub.git`\n",
    "\n",
    "* `pip install SPARQLWrapper numpy pandas`\n",
    "\n",
    "Copy CIM XML file and UUID file into CIMHub directory. \n",
    "\n",
    "Open CIMHub directory in terminal:\n",
    "\n",
    "* `cd CIMHub`\n",
    "\n",
    "View the list of feeder models currently in the Blazegraph Database:\n",
    "\n",
    "* `python3 ../CIMHub/utils/ListFeeders.py` \n",
    "\n",
    "Upload your new model using `curl` to Blazegraph, specifying the name and MRID of your new feeder:\n",
    "\n",
    "* `curl -s -D- -H 'Content-Type: application/xml' --upload-file 'yournewmodel.xml' -X POST 'http://localhost:8889/bigdata/namespace/kb/sparql'`\n",
    "\n",
    "Create the set of txt files containing the measurable objects in your new model using the `ListMeasurables` script:\n",
    "\n",
    "* `python3 ../CIMHub/utils/ListMeasureables.py cimhubconfig.json yournewmodel _YOUR-NEW-MODEL-FEEDER-MRID-123ABC456`\n",
    "\n",
    "Insert the measurements into Blazegraph using the `InsertMeasurements` script. The measurement MRIDs will be saved into the file `uuidfile.json`:\n",
    "\n",
    "* ```for f in `ls -1 *txt`; do python3 ../CIMHub/utils/InsertMeasurements.py cimhubconfig.json $f uuidfile.json; done```\n",
    "\n",
    "Insert houses into Blazegraph using the `InsertHouses` script. The measurement MRIDs for the houses will be saved into the file `uuidfile2.json`:\n",
    "* `python3 ../CIMHub/utils/InsertHouses.py cimhubconfig.json _YOUR-NEW-MODEL-FEEDER-MRID-123ABC456 1 1 uuidfile2.json`\n"
   ]
  },
  {
   "cell_type": "markdown",
   "metadata": {},
   "source": [
    "Open the GridAPPS-D Viz in a new window and you should be able to start a simulation using your new model\n"
   ]
  },
  {
   "cell_type": "markdown",
   "metadata": {},
   "source": [
    "## Adding New Models to the PowerGrid Models GitHub Repo\n",
    "\n",
    "All models included by default in GridAPPS-D are stored in the [PowerGrid Models GitHub repository](https://github.com/GRIDAPPSD/Powergrid-Models/)\n",
    "\n"
   ]
  },
  {
   "cell_type": "markdown",
   "metadata": {
    "tags": [
     "remove_cell"
    ]
   },
   "source": [
    "[Return to Top](#Table-of-Contents)"
   ]
  },
  {
   "cell_type": "markdown",
   "metadata": {
    "tags": [
     "remove_cell"
    ]
   },
   "source": [
    "---"
   ]
  },
  {
   "cell_type": "markdown",
   "metadata": {
    "tags": [
     "remove_cell"
    ]
   },
   "source": [
    "[![Previous.png](../images/Previous.png)](3.2-API-Message-Structure.ipynb)"
   ]
  },
  {
   "cell_type": "markdown",
   "metadata": {
    "tags": [
     "remove_cell"
    ]
   },
   "source": [
    "[![Quiz.png](../images/Quiz.png)](3.3Q--Quiz-for-Lesson-3.3.ipynb)"
   ]
  },
  {
   "cell_type": "markdown",
   "metadata": {
    "tags": [
     "remove_cell"
    ]
   },
   "source": [
    "[![Next.png](../images/Next.png)](3.4-Using-the-Configuration-File-API.ipynb)"
   ]
  },
  {
   "cell_type": "markdown",
   "metadata": {
    "tags": [
     "remove_cell"
    ]
   },
   "source": [
    "[![Home.png](../images/Home.png)](3.0--Module-3--GridAPPS-D-API-Usage.ipynb)"
   ]
  },
  {
   "cell_type": "markdown",
   "metadata": {},
   "source": [
    "---"
   ]
  },
  {
   "cell_type": "markdown",
   "metadata": {},
   "source": [
    "![GridAPPS-D_narrow.png](../images/GridAPPS-D_narrow.png)"
   ]
  }
 ],
 "metadata": {
  "celltoolbar": "Tags",
  "kernelspec": {
   "display_name": "Python 3 (ipykernel)",
   "language": "python",
   "name": "python3"
  },
  "language_info": {
   "codemirror_mode": {
    "name": "ipython",
    "version": 3
   },
   "file_extension": ".py",
   "mimetype": "text/x-python",
   "name": "python",
   "nbconvert_exporter": "python",
   "pygments_lexer": "ipython3",
   "version": "3.8.5"
  }
 },
 "nbformat": 4,
 "nbformat_minor": 4
}
