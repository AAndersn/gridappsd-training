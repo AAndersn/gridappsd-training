{
 "cells": [
  {
   "cell_type": "markdown",
   "metadata": {},
   "source": [
    "# Module 3: GridAPPS-D Application Programming Interface\n",
    "\n",
    "This module provide an in-depth dive into the GridAPPS-D Application Programming Interface and GridAPPS-D Python Library. Each lessons includes step-by-step methods with interactive code blocks for handling database queries, running simulations, and connecting applications through the API."
   ]
  },
  {
   "cell_type": "markdown",
   "metadata": {},
   "source": [
    "---"
   ]
  },
  {
   "cell_type": "markdown",
   "metadata": {},
   "source": [
    "## Select a lesson module to get started\n",
    "\n",
    "Each lesson opens in a new browser tab\n",
    "\n",
    "![module_3.png](../images/module_3.png)\n",
    "\n",
    "* [Lesson 3.1](3.1-API-Communication-Channels.ipynb): Introduces the Communication Channel APIs for interacting with the correct GridAPPS-D Core Service Manager\n",
    "* [Lesson 3.2](3.2-API-Message-Structure.ipynb): Introduces the typical message structure used by API calls to interact with the GridAPPS-D Platform\n",
    "* [Lesson 3.3](3.3-Using-the-PowerGrid-Models-API.ipynb): Introduces the PowerGrid Models API to query for power system model data and measurement MRIDs\n",
    "* [Lesson 3.4](3.4-Using-the-Configuration-File-API.ipynb): Introduces the Configuration File API to generate and export custom power system models stored in the Blazegraph database.\n",
    "* [Lesson 3.5](3.5-Creating-Running-Simulation-API.ipynb): Introduces the Simulation API for running power system simulations.\n",
    "* [Lesson 3.6](3.6-Controlling-Simulation-API.ipynb): Introduces the Simulation API for subscribing to measurement data and publishing equipment control commands.\n",
    "* [Lesson 3.7](3.7-Using-the-Timeseries-API.ipynb): Introduces the Timeseries API for querying simulation data, weather data, and output for the GridAPPS-D Sensor Service.."
   ]
  },
  {
   "cell_type": "markdown",
   "metadata": {},
   "source": []
  },
  {
   "cell_type": "markdown",
   "metadata": {},
   "source": [
    "[](3.1%20--%20Lesson%203.1%20--%20API%20Communication%20Channels.ipynb)"
   ]
  }
 ],
 "metadata": {
  "kernelspec": {
   "display_name": "Python 3 (ipykernel)",
   "language": "python",
   "name": "python3"
  },
  "language_info": {
   "codemirror_mode": {
    "name": "ipython",
    "version": 3
   },
   "file_extension": ".py",
   "mimetype": "text/x-python",
   "name": "python",
   "nbconvert_exporter": "python",
   "pygments_lexer": "ipython3",
   "version": "3.8.5"
  }
 },
 "nbformat": 4,
 "nbformat_minor": 4
}
