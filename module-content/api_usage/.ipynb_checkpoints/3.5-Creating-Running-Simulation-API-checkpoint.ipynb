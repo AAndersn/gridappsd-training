{
 "cells": [
  {
   "cell_type": "markdown",
   "metadata": {},
   "source": [
    "# Running Simulations with the Simulation API\n",
    "\n"
   ]
  },
  {
   "cell_type": "markdown",
   "metadata": {
    "tags": [
     "remove_cell"
    ]
   },
   "source": [
    "This tutorial introduces the Simulation API and how it can be used to run power system simulations, subscribe to measurement data, and publish equipment control commands.\n",
    "\n",
    "__Learning Objectives:__\n",
    "\n",
    "At the end of the tutorial, the user should be able to use the Simulation API to\n",
    "\n",
    "* Create a simulation configuration dictionary\n",
    "* Start a simulation using the GridAPPSD-Python library\n",
    "* Pause, resume, and stop simulations using the GridAPPSD-Python library\n",
    "\n"
   ]
  },
  {
   "cell_type": "markdown",
   "metadata": {
    "tags": [
     "remove_cell"
    ]
   },
   "source": [
    "## Getting Started\n",
    "\n",
    "Before running any of the sample routines in this tutorial, it is first necessary to start the GridAPPS-D Platform and establish a connection to this notebook so that we can start passing calls to the API.\n",
    "_Open the Ubuntu terminal and start the GridAPPS-D Platform if it is not running already:_\n",
    "\n",
    "`cd gridappsd-docker`\n",
    "\n",
    "~/gridappsd-docker$ `./run.sh -t develop`\n",
    "\n",
    "_Once containers are running,_\n",
    "\n",
    "gridappsd@[container]:/gridappsd$ `./run-gridappsd.sh`"
   ]
  },
  {
   "cell_type": "code",
   "execution_count": null,
   "metadata": {
    "tags": [
     "remove_cell"
    ]
   },
   "outputs": [],
   "source": [
    "# Establish connection to GridAPPS-D Platform:\n",
    "from gridappsd import GridAPPSD\n",
    "gapps = GridAPPSD(\"('localhost', 61613)\", username='system', password='manager')\n",
    "model_mrid = \"_49AD8E07-3BF9-A4E2-CB8F-C3722F837B62\" # IEEE 13 Node used for all example queries"
   ]
  },
  {
   "cell_type": "markdown",
   "metadata": {
    "tags": [
     "remove_cell"
    ]
   },
   "source": [
    "---\n",
    "# Table of Contents\n",
    "\n"
   ]
  },
  {
   "cell_type": "markdown",
   "metadata": {},
   "source": [
    "---\n",
    "## 1. Introduction to the Simulation API\n",
    "\n",
    "\n",
    "The Simulation API is used for all actions related to a power system simulation. It is used to start, pause, restart, and stop a simulation from the command line or inside an application. It is all used to subscribe to measurements of equipment (such as line flows, loads, and DG setpoints) and the statuses of switches, capacitors, transformer taps, etc. It is also used to publish equipment control and other simulation input commands."
   ]
  },
  {
   "cell_type": "markdown",
   "metadata": {},
   "source": [
    "---\n",
    "## 2. Using the Simulation API"
   ]
  },
  {
   "cell_type": "markdown",
   "metadata": {},
   "source": [
    "### 2.1. Specifying the Topic\n",
    "\n",
    "In the previous lessons all the queries passed to other APIs all used static `/queue/` channels to pass API calls to the GOSS message bus and the GridAPPS-D Platform. \n",
    "\n",
    "However, the Simulation API is used to communicate with a broad range of subscribers. The list of topics covered by the Simulation API cover both static `/queue/` and dynamic `/topic/` communication channel names. \n",
    "\n",
    "Extreme care is needed to use the correct topic. For a review of GridAPPS-D topics, see [API Communication Channels](../api_usage/3.1--Lesson-3.1--API-Communication-Channels.ipynb)\n",
    "\n",
    "The correct topic for each Simulation API call will be provided in the corresponding section for each API task below."
   ]
  },
  {
   "cell_type": "markdown",
   "metadata": {},
   "source": [
    "[Return to Top](#Table-of-Contents)"
   ]
  },
  {
   "cell_type": "markdown",
   "metadata": {},
   "source": [
    "### 2.2. Structure of a Simulation Message\n",
    "\n",
    "\n",
    "Due to the wide range of tasks accomplished by the Simualtion API, there is no single message format that is used across all API Calls. \n",
    "\n",
    "Each message takes the form of a python dictionary or equivalent JSON script wrapped as a python string. \n",
    "\n",
    "The structure of each Simulation API call message will be provided in the corresponding section for each API task below."
   ]
  },
  {
   "cell_type": "markdown",
   "metadata": {
    "tags": [
     "remove_cell"
    ]
   },
   "source": [
    "[Return to Top](#Table-of-Contents)"
   ]
  },
  {
   "cell_type": "markdown",
   "metadata": {},
   "source": [
    "---\n",
    "## 3. Starting a Simulation\n",
    "\n",
    "### 3.1. Specify the GridAPPS-D Topic \n",
    "\n",
    "This is a static `/queue/` communication channel\n",
    "\n",
    "__1) Specifying the topic as a string:__"
   ]
  },
  {
   "cell_type": "code",
   "execution_count": null,
   "metadata": {},
   "outputs": [],
   "source": [
    "topic = \"goss.gridappsd.process.request.simulation\""
   ]
  },
  {
   "cell_type": "markdown",
   "metadata": {},
   "source": [
    "__2) Using the topics library to specify the topic:__"
   ]
  },
  {
   "cell_type": "code",
   "execution_count": null,
   "metadata": {},
   "outputs": [],
   "source": [
    "from gridappsd import topics as t\n",
    "topic = t.REQUEST_SIMULATION"
   ]
  },
  {
   "cell_type": "markdown",
   "metadata": {
    "tags": [
     "remove_cell"
    ]
   },
   "source": [
    "[Return to Top](#Table-of-Contents)"
   ]
  },
  {
   "cell_type": "markdown",
   "metadata": {},
   "source": [
    "### 3.2. API Message Structure\n",
    "\n",
    "To start a simulation from the command line or from inside an application, it is necessary to pass a message with a structure similar to that used by the [Configuration File API](../api_usage/3.4--Lesson-3.4--Using-the-Configuration-File-API.ipynb)) so that the GridAPPS-D platform can create a custom GridLab-D file from the CIM XML model stored in the Blazegraph Database.\n",
    "\n",
    "The accepted set of key-value pairs for the Simulation API call to start a new simulation is\n",
    "\n",
    "```\n",
    "message = {\n",
    "    \"power_system_config\": {\n",
    "        \"key1\": \"value1\",\n",
    "        \"key2\": \"value2\"},\n",
    "    \"simulation_config\": {\n",
    "        \"key1\": \"value1\",\n",
    "        \"key2\": \"value2\",\n",
    "        \"model_creation_config\": {\n",
    "            \"key1\": \"value1\",\n",
    "            \"key2\": \"value2\",\n",
    "            \"model_state\": {\n",
    "                \"key1\": \"value1\",\n",
    "                \"key2\": \"value2\"} \n",
    "            }\n",
    "         },\n",
    "    \"simulation_output\": {\n",
    "        \"key1\": \"value1\",\n",
    "        \"key2\": \"value2\"},\n",
    "    \"application_config\": [{\n",
    "        \"key1\": \"value1\",\n",
    "        \"key2\": \"value2\"}],\n",
    "    \"test_config\": {\n",
    "        \"events\": [{,\n",
    "            \"message\": {\n",
    "                \"forward_differences\": [{\n",
    "                    \"key1\": \"value1\",\n",
    "                    \"key2\": \"value2\"}]\n",
    "                \"reverse_differences\": [{\n",
    "                    \"key1\": \"value1\",\n",
    "                    \"key2\": \"value2\"}],\n",
    "            \"key1\": \"value1\",\n",
    "            \"key2\": \"value2\"}\n",
    "            }]       \n",
    "    },\n",
    "    \"service_configs\": {\n",
    "        \"key1\": \"value1\",\n",
    "        \"key2\": \"value2\"} \n",
    "}\n",
    "```\n",
    "\n",
    "The components of the message are identical to the options in the tabs in the GridAPPS-D. Each key-value pair is explained in detail below."
   ]
  },
  {
   "cell_type": "markdown",
   "metadata": {},
   "source": [
    "The components of the message are as follows:\n",
    "\n",
    "#### 3.2.1. `\"power_system_config\":` \n",
    "\n",
    "This key is __required__ and specifies the CIM XML model to be imported and used for the simulation. Required key-value pairs are\n",
    "\n",
    "```\n",
    "\"power_system_config\": {   REQUIRED KEY                      REQUIRED VALUE\n",
    "                     \"GeographicalRegion_name\":           mRID as string ,\n",
    "                     \"SubGeographicalRegion_name\":        mRID as string ,\n",
    "                     \"Line_name\":                         mRID as string }\n",
    "                \n",
    "```"
   ]
  },
  {
   "attachments": {},
   "cell_type": "markdown",
   "metadata": {},
   "source": [
    "As can be seen, the required key-value pairs are identical to those that are selected graphically using the GridAPPS-D Viz:\n",
    "\n"
   ]
  },
  {
   "cell_type": "markdown",
   "metadata": {},
   "source": [
    "![model-config](images/3.5/config_system_config.png)"
   ]
  },
  {
   "cell_type": "markdown",
   "metadata": {},
   "source": [
    "---"
   ]
  },
  {
   "cell_type": "markdown",
   "metadata": {
    "tags": [
     "remove_cell"
    ]
   },
   "source": [
    "### 3.2.2. `\"simulation_config\":`"
   ]
  },
  {
   "cell_type": "markdown",
   "metadata": {},
   "source": [
    "#### simulation_config\n",
    "\n",
    "This key is __required__ and specifies the runtime parameters, such as simulation duration and time step. Required key-value pairs are\n",
    "\n",
    "```\n",
    "\"simulation_config\": {   REQUIRED KEY                      REQUIRED VALUE\n",
    "                    \"start_time\":                    epoch time string ,\n",
    "                    \"duration\":                      number (seconds) ,\n",
    "                    \"simulator\":                     \"GridLAB-D\" ,\n",
    "                    \"timestep_frequency\":            number (milliseconds) ,\n",
    "                    \"timestep_increment\":            number (milliseconds) ,\n",
    "                    \"run_realtime\":                  true OR false ,\n",
    "                    \"simulation_name\":               string ,\n",
    "                    \"power_flow_solver_method\":      \"NR\" ,\n",
    "                    \"model_creation_config\":         key-value pairs }\n",
    "```\n",
    "\n",
    "The key `\"model_creation_config\":` is one of the __optional__ key-value pairs that can specified. This specifies the load profile and changes to the base case used for the simulation. Key-value pairs are\n",
    "\n",
    "```\n",
    "    \"model_creation_config\": { KEY                       VALUE\n",
    "                        \"load_scaling_factor\":             number ,\n",
    "                        \"schedule_name\":                   string ,\n",
    "                        \"z_fraction\":                      number ,\n",
    "                        \"i_fraction\":                      number ,\n",
    "                        \"p_fraction\":                      number ,\n",
    "                        \"randomize_zipload_fractions\":     true OR false ,\n",
    "                        \"use_houses\":                      true OR false , \n",
    "                        \"model_state\":                     key-value pairs }\n",
    "                        \n",
    "```\n",
    "\n",
    "The key `\"model_state:\"` is one of the __optional__ key-value pairs used to specify changes to switch positions and DER setpoints from the base case stored in the Blazegraph database. Key-value pairs are\n",
    "\n",
    "```\n",
    "        \"model_state\": {  \n",
    "                        \"synchronousmachines\":[\n",
    "                                {\"name\": \"GLM/DSS name\",\"p\": number,\"q\": number},\n",
    "                                {\"name\": \"GLM/DSS name\",\"p\": number,\"q\": number}],\n",
    "                        \"switches\":[\n",
    "                                {\"name\":\"GLM/DSS name\", \"open\": true},\n",
    "                                {\"name\":\"GLM/DSS name\", \"open\": false}]\n",
    "            }\n",
    "```"
   ]
  },
  {
   "attachments": {},
   "cell_type": "markdown",
   "metadata": {},
   "source": [
    "As can be seen, the required key-value pairs are identical to those that are selected graphically using the GridAPPS-D Viz. By default, only the required key-value pairs are listed in the viz. The simulation launched in the Viz can be configured using any of the `\"model_creation_config\"` and `\"model_state\"` key-value pairs."
   ]
  },
  {
   "cell_type": "markdown",
   "metadata": {},
   "source": [
    "![model-state-config](images/3.5/config_sim_config.png)"
   ]
  },
  {
   "cell_type": "markdown",
   "metadata": {},
   "source": [
    "---"
   ]
  },
  {
   "cell_type": "markdown",
   "metadata": {
    "tags": [
     "remove_cell"
    ]
   },
   "source": [
    "### 3.2.3. `\"application_config\":` "
   ]
  },
  {
   "cell_type": "markdown",
   "metadata": {},
   "source": [
    "#### application_config\n",
    "\n",
    "This key is __optional__ and specifies which applications will run during the simulation. The associated value is a list that specifies the name and application-specific configuration parameters. \n",
    "\n",
    "```\n",
    "\"application_config\": {\n",
    "        \"applications\": [\n",
    "                {\n",
    "                \"name\": \"application1\",\n",
    "                \"config_string\": \"application-specific config string\"\n",
    "                }, \n",
    "                {\n",
    "                \"name\": \"application2\",\n",
    "                \"config_string\": \"application-specific config string\"\n",
    "                }]\n",
    "}              \n",
    "```"
   ]
  },
  {
   "attachments": {},
   "cell_type": "markdown",
   "metadata": {},
   "source": [
    "As can be seen, the required key-value pairs are identical to those that are selected graphically using the GridAPPS-D Viz. Note: simulations started using the GridAPPS-D Viz can only run one app at a time. This is due to the GUI design and not a limitation of the Simulation API.\n"
   ]
  },
  {
   "cell_type": "markdown",
   "metadata": {},
   "source": [
    "![app-config](images/3.5/config_app_config.png)"
   ]
  },
  {
   "cell_type": "markdown",
   "metadata": {},
   "source": [
    "---"
   ]
  },
  {
   "cell_type": "markdown",
   "metadata": {},
   "source": [
    "### 3.2.4. `\"test_config\":`"
   ]
  },
  {
   "cell_type": "markdown",
   "metadata": {},
   "source": [
    "#### test_config\n",
    "\n",
    "This key is __optional__ and specifies whether any pre-scripted events should be scheduled to occur during the simulation, such as faults, communication outages, and equipment malfunctions. The events use the format of a __Difference Message__, which will be covered in Lesson 3.XX (to be released soon). The key-value pairs are\n",
    "\n",
    "```\n",
    "\"test_config\": {\n",
    "        \"events\": [{\n",
    "            \"message\": {\n",
    "                \"forward_differences\": [\n",
    "                    {\n",
    "                        \"object\": \"control object mRID\",\n",
    "                        \"attribute\": \"CIM Class Attribute\",\n",
    "                        \"value\": number\n",
    "                    }\n",
    "                ],\n",
    "                \"reverse_differences\": [\n",
    "                    {\n",
    "                        \"object\": \"control object mRID\",\n",
    "                        \"attribute\": \"CIM Class Attribute\",\n",
    "                        \"value\": number\n",
    "                    }\n",
    "                ]\n",
    "            },\n",
    "            \"event_type\": \"ScheduledCommandEvent\",\n",
    "            \"occuredDateTime\": epoch time number,\n",
    "            \"stopDateTime\": epoch time number\n",
    "        }]\n",
    "}    \n",
    "```"
   ]
  },
  {
   "attachments": {},
   "cell_type": "markdown",
   "metadata": {},
   "source": [
    "As can be seen, the required key-value pairs are identical to those that are selected graphically using the GridAPPS-D Viz. The Viz offers the equivalent options to create line faults, communications outages, or upload a custom difference message JSON file."
   ]
  },
  {
   "cell_type": "markdown",
   "metadata": {},
   "source": [
    "![test-config](images/3.5/config_test_config.png)"
   ]
  },
  {
   "cell_type": "markdown",
   "metadata": {},
   "source": [
    "#### 3.2.5. `service_configs`\n",
    "\n",
    "This key is used to start a GridAPPS-D service, such as the Sensor Service, State Estimator, or DNP3 Service. The key-value pairs for starting the service depend on the particular service and will be covered in the lessons for each GridAPPS-D service. "
   ]
  },
  {
   "cell_type": "markdown",
   "metadata": {},
   "source": [
    "#### 3.2.6. Complete Simulation Message"
   ]
  },
  {
   "cell_type": "code",
   "execution_count": null,
   "metadata": {},
   "outputs": [],
   "source": [
    " run_config_123 = {\n",
    "    \"power_system_config\": {\n",
    "        \"GeographicalRegion_name\": \"_73C512BD-7249-4F50-50DA-D93849B89C43\",\n",
    "        \"SubGeographicalRegion_name\": \"_1CD7D2EE-3C91-3248-5662-A43EFEFAC224\",\n",
    "        \"Line_name\": \"_C1C3E687-6FFD-C753-582B-632A27E28507\"\n",
    "    },\n",
    "    \"application_config\": {\n",
    "        \"applications\": []\n",
    "    },\n",
    "    \"simulation_config\": {\n",
    "        \"start_time\": \"1570041113\",\n",
    "        \"duration\": \"120\",\n",
    "        \"simulator\": \"GridLAB-D\",\n",
    "        \"timestep_frequency\": \"1000\",\n",
    "        \"timestep_increment\": \"1000\",\n",
    "        \"run_realtime\": True,\n",
    "        \"simulation_name\": \"ieee123\",\n",
    "        \"power_flow_solver_method\": \"NR\",\n",
    "        \"model_creation_config\": {\n",
    "            \"load_scaling_factor\": \"1\",\n",
    "            \"schedule_name\": \"ieeezipload\",\n",
    "            \"z_fraction\": \"0\",\n",
    "            \"i_fraction\": \"1\",\n",
    "            \"p_fraction\": \"0\",\n",
    "            \"randomize_zipload_fractions\": False,\n",
    "            \"use_houses\": False\n",
    "        }\n",
    "    },\n",
    "    \"test_config\": {\n",
    "        \"events\": [{\n",
    "            \"message\": {\n",
    "                \"forward_differences\": [\n",
    "                    {\n",
    "                        \"object\": \"_6C1FDA90-1F4E-4716-BC90-1CCB59A6D5A9\",\n",
    "                        \"attribute\": \"Switch.open\",\n",
    "                        \"value\": 1\n",
    "                    }\n",
    "                ],\n",
    "                \"reverse_differences\": [\n",
    "                    {\n",
    "                        \"object\": \"_6C1FDA90-1F4E-4716-BC90-1CCB59A6D5A9\",\n",
    "                        \"attribute\": \"Switch.open\",\n",
    "                        \"value\": 0\n",
    "                    }\n",
    "                ]\n",
    "            },\n",
    "            \"event_type\": \"ScheduledCommandEvent\",\n",
    "            \"occuredDateTime\": 1570041140,\n",
    "            \"stopDateTime\": 1570041200\n",
    "        }]\n",
    "    },\n",
    "     \"service_configs\": [{\n",
    "        \"id\": \"gridappsd-sensor-simulator\",\n",
    "        \"user_options\": {\n",
    "            \"sensors-config\": {\n",
    "                \"_99db0dc7-ccda-4ed5-a772-a7db362e9818\": {\n",
    "                    \"nominal-value\": 100,\n",
    "                    \"perunit-confidence-band\": 0.02,\n",
    "                    \"aggregation-interval\": 5,\n",
    "                    \"perunit-drop-rate\": 0.01\n",
    "                },\n",
    "                \"_ee65ee31-a900-4f98-bf57-e752be924c4d\": {},\n",
    "                \"_f2673c22-654b-452a-8297-45dae11b1e14\": {}\n",
    "            },\n",
    "            \"random-seed\": 0,\n",
    "            \"default-aggregation-interval\": 30,\n",
    "            \"passthrough-if-not-specified\": False,\n",
    "            \"default-perunit-confidence-band\": 0.01,\n",
    "            \"default-perunit-drop-rate\": 0.05\n",
    "        }\n",
    "    }]\n",
    "}"
   ]
  },
  {
   "cell_type": "markdown",
   "metadata": {
    "tags": [
     "remove_cell"
    ]
   },
   "source": [
    "[Return to Top](#Table-of-Contents)"
   ]
  },
  {
   "cell_type": "markdown",
   "metadata": {},
   "source": [
    "### 3.3. Starting the Simulation\n",
    "\n",
    "To start the simulation, we import the `gridappsd.simulation` library, which provides multiple shortcut functions for running and controlling a simulation. \n",
    "\n",
    "The python dictionary created in the previous section is then passed as an argument to Simulation object. The `.start_simulation()` method is then used to pass the Simulation API call to the GOSS Message Bus and the GridAPPS-D Platform.\n",
    "\n",
    "The simulation id can be obtained by invoking the `.simulation_id` method."
   ]
  },
  {
   "cell_type": "code",
   "execution_count": null,
   "metadata": {},
   "outputs": [],
   "source": [
    "from gridappsd import GridAPPSD\n",
    "from gridappsd.simulation import Simulation\n",
    "\n",
    "gapps_sim = GridAPPSD()\n",
    "simulation = Simulation(gapps_sim, run_config_123)\n",
    "simulation.start_simulation()\n",
    "\n",
    "simulation_id = simulation.simulation_id\n",
    "print(simulation_id)"
   ]
  },
  {
   "cell_type": "markdown",
   "metadata": {
    "tags": [
     "remove_cell"
    ]
   },
   "source": [
    "[Return to Top](#Table-of-Contents)"
   ]
  },
  {
   "cell_type": "markdown",
   "metadata": {},
   "source": [
    "---\n",
    "## 4. Pausing, Resuming, or Stopping a Simulation"
   ]
  },
  {
   "cell_type": "markdown",
   "metadata": {},
   "source": [
    "### 4.1. Using the `gridappsd.simulation` Python Library\n",
    "\n",
    "For simulations that are started using the `.start_simulation()` method of the `gridappsd.simulation` python library, it is possible to use the associated methods to pause, resume, and stop simulations. \n",
    "\n",
    "The library provides the following methods:\n",
    "\n",
    "* `.pause()` -- Pause the simulation\n",
    "\n",
    "\n",
    "* `.resume()` -- Resume the simulation\n",
    "\n",
    "\n",
    "* `.resume_pause_at(pause_in)` -- Resume the simulation, and then pause it in so many seconds\n",
    "\n",
    "\n",
    "* `.stop()` -- Stop the simulation\n",
    "\n",
    "\n",
    "* `.run_loop()` -- Loop the entire simulation until interrupted"
   ]
  },
  {
   "cell_type": "markdown",
   "metadata": {},
   "source": [
    "The `gridappsd.simulation` library also provides four types of events that can be registered: ontimestep, onmeasurement, oncomplete, and onstart.  To register one of the events call the method `.add_ontimestep_callback`, `.add_onmesurement_callback`, `.add_oncomplete_callback`, or `.add_onstart_callback` method respectively.\n",
    "\n",
    "__Use of these methods will be covered in a later release of this training notebook.__"
   ]
  },
  {
   "cell_type": "markdown",
   "metadata": {},
   "source": [
    "[Return to Top](#Table-of-Contents)"
   ]
  },
  {
   "cell_type": "markdown",
   "metadata": {},
   "source": [
    "### 4.2. Using a Topic and Message \n",
    "\n",
    "If the simulation was started using the GridAPPS-D Viz, then pause, resume, and stop commands need to be issued using a topic and message. "
   ]
  },
  {
   "cell_type": "markdown",
   "metadata": {},
   "source": [
    "#### 4.2.1. Specifying the Topic\n",
    "\n",
    "This is a dynamic `/topic/` communication channel that is best implemented by importing the GriAPPSD-Python library function for generating the correct topic. \n"
   ]
  },
  {
   "cell_type": "code",
   "execution_count": null,
   "metadata": {},
   "outputs": [],
   "source": [
    "viz_simulation_id = \"459298943\""
   ]
  },
  {
   "cell_type": "code",
   "execution_count": null,
   "metadata": {},
   "outputs": [],
   "source": [
    "from gridappsd.topics import simulation_input_topic\n",
    "topic = simulation_input_topic(viz_simulation_id)"
   ]
  },
  {
   "cell_type": "markdown",
   "metadata": {},
   "source": [
    "#### 4.2.2. Pause Message\n",
    "\n",
    "The simulation can be paused using a very simple pause message. Since no response is expected from the Simulation API, we used the `.send(topic, message)` method for the GridAPPS-D connection object.\n"
   ]
  },
  {
   "cell_type": "code",
   "execution_count": null,
   "metadata": {},
   "outputs": [],
   "source": [
    "message = {\"command\": \"pause\"}\n",
    "gapps.send(topic, message)"
   ]
  },
  {
   "cell_type": "markdown",
   "metadata": {},
   "source": [
    "#### 4.2.3. Resume Message\n",
    "\n",
    "The simulation can be resumed using a very simple message. Since no response is expected from the Simulation API, we used the `.send(topic, message)` method for the GridAPPS-D connection object.\n"
   ]
  },
  {
   "cell_type": "code",
   "execution_count": null,
   "metadata": {},
   "outputs": [],
   "source": [
    "message = {\"command\": \"resume\"}\n",
    "gapps.send(topic, message)"
   ]
  },
  {
   "cell_type": "markdown",
   "metadata": {},
   "source": [
    "#### 4.2.4. Resume then Pause Message\n",
    "\n",
    "The simulation can be resumed and then paused using a very simple message. Since no response is expected from the Simulation API, we used the `.send(topic, message)` method for the GridAPPS-D connection object.\n"
   ]
  },
  {
   "cell_type": "code",
   "execution_count": null,
   "metadata": {},
   "outputs": [],
   "source": [
    "message = {\n",
    "    \"command\": \"resumePauseAt\",\n",
    "    \"input\": {\"pauseIn\": 10}\n",
    "}\n",
    "gapps.send(topic, message)"
   ]
  },
  {
   "cell_type": "markdown",
   "metadata": {
    "tags": [
     "remove_cell"
    ]
   },
   "source": [
    "[Return to Top](#Table-of-Contents)"
   ]
  },
  {
   "cell_type": "code",
   "execution_count": null,
   "metadata": {},
   "outputs": [],
   "source": []
  }
 ],
 "metadata": {
  "celltoolbar": "Tags",
  "kernelspec": {
   "display_name": "Python 3 (ipykernel)",
   "language": "python",
   "name": "python3"
  },
  "language_info": {
   "codemirror_mode": {
    "name": "ipython",
    "version": 3
   },
   "file_extension": ".py",
   "mimetype": "text/x-python",
   "name": "python",
   "nbconvert_exporter": "python",
   "pygments_lexer": "ipython3",
   "version": "3.8.5"
  }
 },
 "nbformat": 4,
 "nbformat_minor": 4
}
