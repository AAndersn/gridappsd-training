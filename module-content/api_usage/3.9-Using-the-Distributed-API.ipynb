{
 "cells": [
  {
   "cell_type": "markdown",
   "id": "c770cc26",
   "metadata": {},
   "source": [
    "# Using the Distributed Apps API"
   ]
  },
  {
   "cell_type": "markdown",
   "id": "13ee1bca",
   "metadata": {},
   "source": [
    "---"
   ]
  },
  {
   "cell_type": "markdown",
   "id": "45268d59",
   "metadata": {},
   "source": [
    "![GridAPPS-D-narrow.png](../images/GridAPPS-D_narrow.png)"
   ]
  }
 ],
 "metadata": {
  "kernelspec": {
   "display_name": "Python 3 (ipykernel)",
   "language": "python",
   "name": "python3"
  },
  "language_info": {
   "codemirror_mode": {
    "name": "ipython",
    "version": 3
   },
   "file_extension": ".py",
   "mimetype": "text/x-python",
   "name": "python",
   "nbconvert_exporter": "python",
   "pygments_lexer": "ipython3",
   "version": "3.8.5"
  }
 },
 "nbformat": 4,
 "nbformat_minor": 5
}
