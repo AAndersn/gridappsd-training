{
 "cells": [
  {
   "cell_type": "markdown",
   "id": "f6c0f008",
   "metadata": {},
   "source": [
    "# Cloud Server Configuration"
   ]
  },
  {
   "cell_type": "markdown",
   "id": "ab6bd529",
   "metadata": {},
   "source": [
    "The GridAPPS-D Platform is easily configured to run remotely on a remote linux ubuntu server. No changes need to be made to the platform. However, it is necessary to specify the IP address for the VIZ user interface."
   ]
  },
  {
   "cell_type": "markdown",
   "id": "1757aa3b",
   "metadata": {},
   "source": [
    "## Configuring Remote GridAPPS-D VIZ\n",
    "\n",
    "To access the GridAPPS-D VIZ from a local client, it is necessary to specify the IP address of the remote server. \n",
    "\n",
    "In the `~/gridappsd-docker/conf/` directory, create a new file named `viz.config`.\n",
    "\n",
    "The configuration file is formatted as a JSON string specifying the version of the VIZ used and the IP address and port to be used:\n",
    "\n",
    "```\n",
    "{\n",
    "    \"version\": \"remote:develop\",\n",
    "    \"host\": \"my.server.ip.address:61614\"\n",
    "}\n",
    "```"
   ]
  },
  {
   "cell_type": "markdown",
   "id": "75f1ee3e",
   "metadata": {},
   "source": [
    "---"
   ]
  },
  {
   "cell_type": "markdown",
   "id": "7c024d80",
   "metadata": {},
   "source": [
    "## Running GridAPPS-D Remotely\n",
    "\n",
    "To run the GridAPPS-D Platform with Viz remotely, specify the `-r` option when starting the platform:\n",
    "\n",
    "* Running with default release: `./run.sh -r`\n",
    "\n",
    "* Running with develop release: `./run.sh -r -t develop`\n",
    "\n",
    "* Running with a specific tag:  `./run.sh -r -t releases_2022.01.0`"
   ]
  },
  {
   "cell_type": "markdown",
   "id": "61d3a3cc",
   "metadata": {},
   "source": [
    "---"
   ]
  },
  {
   "cell_type": "markdown",
   "id": "ce8139df",
   "metadata": {},
   "source": [
    "![GridAPPS-D-narrow.png](../images/GridAPPS-D_narrow.png)"
   ]
  }
 ],
 "metadata": {
  "kernelspec": {
   "display_name": "Python 3 (ipykernel)",
   "language": "python",
   "name": "python3"
  },
  "language_info": {
   "codemirror_mode": {
    "name": "ipython",
    "version": 3
   },
   "file_extension": ".py",
   "mimetype": "text/x-python",
   "name": "python",
   "nbconvert_exporter": "python",
   "pygments_lexer": "ipython3",
   "version": "3.8.5"
  }
 },
 "nbformat": 4,
 "nbformat_minor": 5
}
