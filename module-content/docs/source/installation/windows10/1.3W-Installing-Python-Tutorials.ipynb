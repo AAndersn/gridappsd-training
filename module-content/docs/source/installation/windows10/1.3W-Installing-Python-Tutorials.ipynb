{
 "cells": [
  {
   "cell_type": "markdown",
   "metadata": {},
   "source": [
    "# Installing Python Tutorials"
   ]
  },
  {
   "cell_type": "markdown",
   "metadata": {},
   "source": [
    "## 1. Install Git for Windows\n",
    "\n",
    "Install git for windows. This package is required to download and run the python notebooks.\n",
    "\n",
    "Open [gitforwindows.org](https://gitforwindows.org/) and download the latest version. \n",
    "\n",
    "Use the installation wizard with the recommended settings to complete installation. "
   ]
  },
  {
   "attachments": {},
   "cell_type": "markdown",
   "metadata": {},
   "source": [
    "![install-git](../images/1.4/win_setup_install_git.png)"
   ]
  },
  {
   "cell_type": "markdown",
   "metadata": {},
   "source": [
    "## 2. Install Anaconda or Miniconda\n",
    "\n",
    "Download the latest version of the Miniconda from the [Conda.io website](https://docs.conda.io/en/latest/miniconda.html):\n",
    "\n",
    "* [Python 3.8 for 64-bit Windows](https://repo.anaconda.com/miniconda/Miniconda3-latest-Windows-x86_64.exe)\n",
    "* [Python 3.8 for 32-bit Windows](https://repo.anaconda.com/miniconda/Miniconda3-latest-Windows-x86.exe)\n",
    "\n",
    "Use the installation wizard with the recommended settings to complete installation.\n"
   ]
  },
  {
   "attachments": {},
   "cell_type": "markdown",
   "metadata": {},
   "source": [
    "![miniconda](../images/1.4/win_setup_miniconda.png)"
   ]
  },
  {
   "cell_type": "markdown",
   "metadata": {},
   "source": [
    "After installation is complete, launch the __Anaconda Prompt (Miniconda3)__ from the Start Menu or by typing `anaconda` in the Cortana toolbar"
   ]
  },
  {
   "attachments": {},
   "cell_type": "markdown",
   "metadata": {},
   "source": [
    "![launch-miniconda](../images/1.4/win_setup_launch_miniconda.png)"
   ]
  },
  {
   "cell_type": "markdown",
   "metadata": {},
   "source": [
    "The miniconda terminal window will open"
   ]
  },
  {
   "attachments": {},
   "cell_type": "markdown",
   "metadata": {},
   "source": [
    "![miniconda-terminal](../images/1.4/win_setup_miniconda_terminal.png)"
   ]
  },
  {
   "cell_type": "markdown",
   "metadata": {},
   "source": [
    "## 3. Install Jupyter Lab\n",
    "\n",
    "In the miniconda terminal window, run \n",
    "\n",
    "`pip install jupyterlab`\n",
    "\n",
    "to install the Jupyter environment for executing the python notebooks. It may take a couple minutes to collect and install all the required packages."
   ]
  },
  {
   "attachments": {},
   "cell_type": "markdown",
   "metadata": {},
   "source": [
    "![install-jupyter](../images/1.4/win_setup_install_jupyter.png)"
   ]
  },
  {
   "cell_type": "markdown",
   "metadata": {},
   "source": [
    "## 4. Install GridAPPSD-Python\n",
    "\n",
    "In the Miniconda terminal window, download and install GridAPPSD-Python by running \n",
    "\n",
    "`pip install gridappsd-python` \n",
    "\n",
    "to download the GridAPPSD-Python library and required packages.\n",
    "\n"
   ]
  },
  {
   "attachments": {
    "win_setup_install_gapps_python.png": {
     "image/png": "[encoded data removed]"
    }
   },
   "cell_type": "markdown",
   "metadata": {},
   "source": [
    "![win_setup_install_gapps_python.png](attachment:win_setup_install_gapps_python.png)\n",
    "\n",
    "\n",
    "\n",
    "GridAPPSD-Python and all dependencies should have been automatically added to your anaconda path after completion."
   ]
  },
  {
   "cell_type": "markdown",
   "metadata": {},
   "source": [
    "[[Return to Top](#Table-of-Contents)]"
   ]
  },
  {
   "cell_type": "markdown",
   "metadata": {},
   "source": [
    "## 5. Download Python Training Notebooks\n",
    "\n",
    "In the miniconda terminal window, clone the python notebooks by running `git clone https://github.com/GRIDAPPSD/gridappsd-training` to download the python training notebooks. \n"
   ]
  },
  {
   "attachments": {
    "win_setup_install_notebooks.png": {
     "image/png": "[encoded data removed]"
    }
   },
   "cell_type": "markdown",
   "metadata": {},
   "source": [
    "![win_setup_install_notebooks.png](attachment:win_setup_install_notebooks.png)\n",
    "\n",
    "By default, the notebooks will be saved in the directory `C:\\Users\\username\\gridappsd-hackathon`\n",
    "\n",
    "Close the miniconda terminal"
   ]
  },
  {
   "cell_type": "code",
   "execution_count": null,
   "metadata": {},
   "outputs": [],
   "source": []
  },
  {
   "cell_type": "markdown",
   "metadata": {},
   "source": []
  },
  {
   "cell_type": "markdown",
   "metadata": {},
   "source": []
  },
  {
   "cell_type": "markdown",
   "metadata": {},
   "source": []
  },
  {
   "cell_type": "markdown",
   "metadata": {},
   "source": []
  },
  {
   "cell_type": "markdown",
   "metadata": {},
   "source": []
  },
  {
   "cell_type": "markdown",
   "metadata": {},
   "source": [
    "\n",
    "\n",
    "If running on a remote server (e.g. AWS cloud or university / laboratory server farm), start the notebooks by running\n",
    "\n",
    "`jupyter notebook --port 8890 --no-browser --ip='0.0.0.0'`"
   ]
  },
  {
   "cell_type": "code",
   "execution_count": null,
   "metadata": {},
   "outputs": [],
   "source": []
  }
 ],
 "metadata": {
  "celltoolbar": "Tags",
  "kernelspec": {
   "display_name": "Python 3 (ipykernel)",
   "language": "python",
   "name": "python3"
  },
  "language_info": {
   "codemirror_mode": {
    "name": "ipython",
    "version": 3
   },
   "file_extension": ".py",
   "mimetype": "text/x-python",
   "name": "python",
   "nbconvert_exporter": "python",
   "pygments_lexer": "ipython3",
   "version": "3.8.5"
  }
 },
 "nbformat": 4,
 "nbformat_minor": 4
}
