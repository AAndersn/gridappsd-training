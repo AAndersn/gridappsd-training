{
 "cells": [
  {
   "cell_type": "markdown",
   "metadata": {},
   "source": [
    "# Installing GridAPPS-D"
   ]
  },
  {
   "cell_type": "markdown",
   "metadata": {},
   "source": [
    "## 1. Clone the GridAPPS-D Docker repository\n",
    "\n",
    "Disconnect from your corporate/laboratory VPN (if applicable) and open the Ubuntu terminal:\n"
   ]
  },
  {
   "attachments": {},
   "cell_type": "markdown",
   "metadata": {},
   "source": [
    "![win-setup-open-ubuntu](../images/1.2/win_setup_open_ubuntu.png)\n",
    "\n",
    "Clone the GridAPPS-D repository:\n",
    "\n",
    "`git clone https://github.com/GRIDAPPSD/gridappsd-docker`\n"
   ]
  },
  {
   "attachments": {},
   "cell_type": "markdown",
   "metadata": {},
   "source": [
    "![clone-gapps](../images/1.2/win_setup_clone_gapps.png)\n",
    "\n"
   ]
  },
  {
   "cell_type": "markdown",
   "metadata": {},
   "source": [
    "---"
   ]
  },
  {
   "cell_type": "markdown",
   "metadata": {},
   "source": [
    "## 2. Install the GridAPPS-D Docker Containers\n",
    "\n",
    "Change directories into the __gridappsd-docker__ folder and start the latest stable release of the GridAPPS-D platform.\n",
    "\n",
    "* `cd gridappsd-docker`\n",
    "\n",
    "* `./run.sh`"
   ]
  },
  {
   "cell_type": "markdown",
   "metadata": {},
   "source": [
    "![run-sh](../images/1.2/win_setup_run_sh.png)"
   ]
  },
  {
   "cell_type": "markdown",
   "metadata": {},
   "source": [
    "It is possible to specify a particular release tag using the -t option and the release tag\n",
    "\n",
    "* `./run.sh -t develop` - use the `develop` branch with latest beta features\n",
    "\n",
    "* `./run.sh -t releases_2021.03.0` - use the March 2021 release\n",
    "* `./run.sh -t releases_2020.09.0` - use the September 2020 release\n",
    "\n",
    "A complete set of release is available in the [associated readthedocs page](https://gridappsd.readthedocs.io/en/latest/overview/index.html#release-history)"
   ]
  },
  {
   "attachments": {},
   "cell_type": "markdown",
   "metadata": {},
   "source": [
    "![gapps-run-develop](../images/1.2/win_setup_run_sh_develop.png)\n",
    "\n",
    "Wait for the platform to download the required docker containers. This is a very large package and will take several minutes."
   ]
  },
  {
   "attachments": {},
   "cell_type": "markdown",
   "metadata": {},
   "source": [
    "![pulling-containers](../images/1.2/win_setup_pull_containers.png)"
   ]
  },
  {
   "cell_type": "markdown",
   "metadata": {},
   "source": [
    "After the containers have finished downloading, they will automatically be created and then launched:\n"
   ]
  },
  {
   "attachments": {},
   "cell_type": "markdown",
   "metadata": {},
   "source": [
    "![containters-pulled](../images/1.2/win_setup_containters_pulled.png)\n",
    "\n",
    "\n"
   ]
  },
  {
   "cell_type": "markdown",
   "metadata": {},
   "source": [
    "---"
   ]
  },
  {
   "cell_type": "markdown",
   "metadata": {},
   "source": [
    "## 3. Launch the GridAPPS-D Platform\n",
    "\n",
    "When all the containers are running, the terminal will move inside the docker enviroment, which has its own internal directories and path.\n",
    "\n",
    "Start the GridAPPS-D platform inside the docker container by running\n",
    "\n",
    "`./run-gridappsd.sh`"
   ]
  },
  {
   "attachments": {},
   "cell_type": "markdown",
   "metadata": {},
   "source": [
    "![start-platform](../images/1.2/win_setup_start_platform.png)\n",
    "\n",
    "The GridAPPS-D platform is now installed and running.\n",
    "\n",
    "To confirm, open [localhost:8080](http://localhost:8080/) to access the GridAPPS-D Visualization App:"
   ]
  },
  {
   "attachments": {},
   "cell_type": "markdown",
   "metadata": {},
   "source": [
    "![localhost8080](../images/1.2/localhost8080.png)\n",
    "\n"
   ]
  },
  {
   "cell_type": "markdown",
   "metadata": {},
   "source": [
    "___Congratulations! You have successfully installed the GridAPPS-D Platform, and the GridAPPSD-Python development environment!___"
   ]
  },
  {
   "cell_type": "markdown",
   "metadata": {},
   "source": [
    "---"
   ]
  }
 ],
 "metadata": {
  "celltoolbar": "Tags",
  "kernelspec": {
   "display_name": "Python 3 (ipykernel)",
   "language": "python",
   "name": "python3"
  },
  "language_info": {
   "codemirror_mode": {
    "name": "ipython",
    "version": 3
   },
   "file_extension": ".py",
   "mimetype": "text/x-python",
   "name": "python",
   "nbconvert_exporter": "python",
   "pygments_lexer": "ipython3",
   "version": "3.8.5"
  }
 },
 "nbformat": 4,
 "nbformat_minor": 4
}
