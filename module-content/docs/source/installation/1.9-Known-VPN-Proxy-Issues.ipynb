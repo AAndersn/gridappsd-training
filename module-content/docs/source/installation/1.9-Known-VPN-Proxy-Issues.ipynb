{
 "cells": [
  {
   "cell_type": "markdown",
   "id": "78078ad1",
   "metadata": {},
   "source": []
  },
  {
   "cell_type": "markdown",
   "id": "91231749",
   "metadata": {},
   "source": [
    "# Known VPN and Proxy Issues"
   ]
  },
  {
   "cell_type": "markdown",
   "id": "63f5977a",
   "metadata": {},
   "source": [
    "There are a few known issues around WSL2 and Virtualbox VM compatibility with corporate VPNs and proxies."
   ]
  },
  {
   "cell_type": "markdown",
   "id": "3461f806",
   "metadata": {},
   "source": [
    "## DNS Configuration"
   ]
  },
  {
   "cell_type": "markdown",
   "id": "401c6a26",
   "metadata": {},
   "source": [
    "This issue affects the ability of the VM to reach GitHub, clone repositories, run `pip install` or open any websites from the browser.\n",
    "\n",
    "If your machine was connected to a corporate VPN during setup, the Doman Name Server (DNS) lookup address is set to that of your corporate intranet. To reset it, open an ubuntu session and edit the `resolv.conf` file\n",
    "\n",
    "* `sudo nano /etc/resolv.conf`\n",
    "* comment out existing nameserver address\n",
    "* add new line with `nameserver 8.8.8.8`\n",
    "* save file and restart terminal"
   ]
  },
  {
   "cell_type": "markdown",
   "id": "03968838",
   "metadata": {},
   "source": [
    "---"
   ]
  },
  {
   "cell_type": "markdown",
   "id": "33ccd581",
   "metadata": {},
   "source": [
    "## Proxy Server Configuration"
   ]
  },
  {
   "cell_type": "markdown",
   "id": "f5cc4d93",
   "metadata": {},
   "source": [
    "This issue affects the ability of the server to run `curl` and other commands addressing various `localhost` ports\n",
    "\n",
    "To fix this, add the NO_PROXY option by running in the Ubuntu command line\n",
    "\n",
    "`export NO_PROXY=\"localhost,127.0.0.1,local.home,*.yourcompany.org,*.yourintranet.org\"`\n",
    "\n",
    "Note: Be sure to change the proxy URLs to those of your organization."
   ]
  },
  {
   "cell_type": "markdown",
   "id": "8c06c71d",
   "metadata": {},
   "source": [
    "---"
   ]
  },
  {
   "cell_type": "markdown",
   "id": "86b0df40",
   "metadata": {},
   "source": [
    "![gridappsd-logo](../images/GridAPPS-D_narrow.png)"
   ]
  }
 ],
 "metadata": {
  "celltoolbar": "Tags",
  "kernelspec": {
   "display_name": "Python 3 (ipykernel)",
   "language": "python",
   "name": "python3"
  },
  "language_info": {
   "codemirror_mode": {
    "name": "ipython",
    "version": 3
   },
   "file_extension": ".py",
   "mimetype": "text/x-python",
   "name": "python",
   "nbconvert_exporter": "python",
   "pygments_lexer": "ipython3",
   "version": "3.8.5"
  }
 },
 "nbformat": 4,
 "nbformat_minor": 5
}
