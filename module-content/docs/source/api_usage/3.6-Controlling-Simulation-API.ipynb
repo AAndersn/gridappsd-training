{
 "cells": [
  {
   "cell_type": "markdown",
   "id": "2bc6eaf3",
   "metadata": {},
   "source": []
  },
  {
   "cell_type": "markdown",
   "id": "a8f99310",
   "metadata": {},
   "source": [
    "# Publishing and Subscribing with the Simulation API"
   ]
  },
  {
   "cell_type": "code",
   "execution_count": null,
   "id": "9acb4190",
   "metadata": {},
   "outputs": [],
   "source": [
    "# Establish connection to GridAPPS-D Platform:\n",
    "from gridappsd import GridAPPSD\n",
    "\n",
    "viz_simulation_id = \"paste id here\"\n",
    "\n",
    "model_mrid = \"_C1C3E687-6FFD-C753-582B-632A27E28507\"\n",
    "\n",
    "gapps = GridAPPSD(viz_simulation_id, \"('localhost', 61613)\", username='system', password='manager')"
   ]
  },
  {
   "cell_type": "markdown",
   "id": "f905069f",
   "metadata": {},
   "source": [
    "---"
   ]
  },
  {
   "cell_type": "markdown",
   "id": "9e601d65",
   "metadata": {},
   "source": [
    "## Introduction to the Simulation API\n",
    "\n",
    "The Simulation API is used for all actions related to a power system simulation. It is used to start, pause, restart, and stop a simulation from the command line or inside an application. It is all used to subscribe to measurements of equipment (such as line flows, loads, and DG setpoints) and the statuses of switches, capacitors, transformer taps, etc. It is also used to publish equipment control and other simulation input commands."
   ]
  },
  {
   "cell_type": "markdown",
   "id": "679451bc",
   "metadata": {},
   "source": [
    "---"
   ]
  },
  {
   "cell_type": "markdown",
   "id": "868ce411",
   "metadata": {},
   "source": [
    "## Using the Simulation API"
   ]
  },
  {
   "cell_type": "markdown",
   "id": "ba21794d",
   "metadata": {},
   "source": [
    "### 2.1. Specifying the Topic\n",
    "\n",
    "In the previous lessons all the queries passed to other APIs all used static `/queue/` channels to pass API calls to the GOSS message bus and the GridAPPS-D Platform. \n",
    "\n",
    "However, the Simulation API is used to communicate with a broad range of subscribers. The list of topics covered by the Simulation API cover both static `/queue/` and dynamic `/topic/` communication channel names. \n",
    "\n",
    "Extreme care is needed to use the correct topic. For a review of GridAPPS-D topics, see [Lesson 1.4.](Lesson%201.4.%20GridAPPS-D%20Topics.ipynb)\n",
    "\n",
    "The correct topic for each Simulation API call will be provided in the corresponding section for each API task below."
   ]
  },
  {
   "cell_type": "markdown",
   "id": "26280c56",
   "metadata": {},
   "source": [
    "### 2.2. Structure of a Simulation Message\n",
    "\n",
    "\n",
    "Due to the wide range of tasks accomplished by the Simualtion API, there is no single message format that is used across all API Calls. \n",
    "\n",
    "Each message takes the form of a python dictionary or equivalent JSON script wrapped as a python string. \n",
    "\n",
    "The structure of each Simulation API call message will be provided in the corresponding section for each API task below."
   ]
  },
  {
   "cell_type": "markdown",
   "id": "4849669b",
   "metadata": {},
   "source": [
    "[Return to Top](#Table-of-Contents)"
   ]
  },
  {
   "cell_type": "markdown",
   "id": "52883ec1",
   "metadata": {},
   "source": [
    "---\n",
    "## 3. Publishing to Simulation Input\n"
   ]
  },
  {
   "cell_type": "markdown",
   "id": "e790e18d",
   "metadata": {},
   "source": [
    "### 3.1. Topic to Publish to Simulation Input\n",
    "\n",
    "This is a dynamic `/topic/` communication channel that is best implemented by importing the GriAPPSD-Python library function for generating the correct topic. \n",
    "\n",
    "* `from gridappsd.topics import simulation_input_topic`\n",
    "* `input_topic = simulation_input_topic(simulation_id)`"
   ]
  },
  {
   "cell_type": "code",
   "execution_count": null,
   "id": "cb75b3e9",
   "metadata": {},
   "outputs": [],
   "source": [
    "from gridappsd.topics import simulation_input_topic\n",
    "\n",
    "input_topic = simulation_input_topic(viz_simulation_id)"
   ]
  },
  {
   "cell_type": "markdown",
   "id": "0d9342ee",
   "metadata": {},
   "source": [
    "### 3.2. Obtain Equipment Control mRIDs\n",
    "\n",
    "The mRIDs for controlling equipment are generally the same as those obtained using the `QUERY_OBJECT_TYPES` key with the PowerGrid Models API, which was covered in [Lesson 2.2, Section 4.4](Lesson%202.2.%20PowerGrid%20Models%20API%20-%20Using%20JSON%20Queries.ipynb#4.4.-Query-for-Object-Dictionary).\n",
    "\n",
    "However, the control attributes for each class of equipment in CIM use a different naming convention than those for the object types. Below is a list of `\"objectType\"` used to query for mRIDs and the associated control attribute used in a difference message for each category of power system equipment:\n",
    "\n",
    "* __Switches__\n",
    "    * CIM Class Key: `\"objectType\": \"LoadBreakSwitch\"`\n",
    "    * Control Attribute: `\"attribute\": \"Switch.open\"`\n",
    "    * Values: `1` is open, `0` is closed\n",
    "\n",
    "* __Capacitor Banks:__\n",
    "    * CIM Class Key: `\"objectType\": \"LinearShuntCompensator\"`\n",
    "    * Control Attribute: `\"attribute\": \"ShuntCompensator.sections\"`\n",
    "    * Values: `0` is off/open, `1` is on/closed\n",
    "    \n",
    "* __Inverter-based DERs:__\n",
    "    * CIM Class Key: `\"objectType\": \"PowerElectronicsConnection\"`\n",
    "    * Control Attribute: `\"attribute\": \"PowerElectronicsConnection.p\"`\n",
    "    * Control Attribute: `\"attribute\": \"PowerElectronicsConnection.q\"`\n",
    "    * Values: number in Watts or VArs (not kW)\n",
    "    \n",
    "* __Synchronous Rotating (diesel) DGs:__\n",
    "    * CIM Class Key: `\"objectType\": \"SynchronousMachine\"`\n",
    "    * Control Attribute: `\"attribute\": \"RotatingMachine.p\"`\n",
    "    * Control Attribute: `\"attribute\": \"RotatingMachine.q\"`\n",
    "    * Values: number in Watts or VArs (not kW)\n",
    "    \n",
    "* __Regulating Transformer Tap:__\n",
    "    * CIM Class Key: `\"objectType\": \"RatioTapChanger\"`\n",
    "    * Control Attribute: `\"attribute\": \"TapChanger.step\"`\n",
    "    * Values: integer value for tap step\n",
    "    \n",
    "Note on releases_2020.09.0: The query for RatioTapChanger is not supported in the PowerGrid Models API at the current time. A custom SPARQL query needs to be done, as illustrated in Lesson 2.3, Section X.XX\n",
    "\n",
    "The example below shows a query to obtain the correct mRID for switch SW2 in the IEEE 123 node model:"
   ]
  },
  {
   "cell_type": "code",
   "execution_count": null,
   "id": "0234e408",
   "metadata": {},
   "outputs": [],
   "source": [
    "from gridappsd import topics as t\n",
    "\n",
    "message = {\n",
    "    \"modelId\": model_mrid,\n",
    "    \"requestType\": \"QUERY_OBJECT_DICT\",\n",
    "    \"resultFormat\": \"JSON\",\n",
    "    \"objectType\": \"LoadBreakSwitch\"\n",
    "}\n",
    "\n",
    "response_obj = gapps.get_response(t.REQUEST_POWERGRID_DATA, message)\n",
    "switch_dict = response_obj[\"data\"]\n",
    "\n",
    "# Filter to get mRID for switch SW2:\n",
    "for index in switch_dict:\n",
    "    if index[\"IdentifiedObject.name\"] == 'sw2':\n",
    "        sw_mrid = index[\"IdentifiedObject.mRID\"]\n",
    "        "
   ]
  },
  {
   "cell_type": "markdown",
   "id": "e66f6162",
   "metadata": {},
   "source": [
    "[Return to Top](#Table-of-Contents)"
   ]
  },
  {
   "cell_type": "markdown",
   "id": "d19de1d6",
   "metadata": {},
   "source": [
    "### 3.3. Format of a Difference Message\n",
    "\n",
    "The general format for a difference message is a python dictionary or equivalent JSON string that specifies the reverse difference and the forward difference, in compliance with the CIM standard:\n",
    "\n",
    "The __reverse difference__ is the current status / value associated with the control attribute. It is a formatted as a list of dictionary constructs, with each dictionary specifying the equipment mRID associated with the CIM class keys above, the control attribute, and the current value of that control attribute. The list can contain reverse differences for multiple pieces of equipment.\n",
    "\n",
    "The __forward difference__ is the desired new status / value associated with the control attribute. It is a formatted as a list of dictionary constructs, with each dictionary specifying the equipment mRID associated with the CIM class keys above, the control attribute, and the current value of that control attribute. The list can contain foward differences for multiple pieces of equipment.\n",
    "\n",
    "```\n",
    "message = {\n",
    "  \"command\": \"update\",\n",
    "  \"input\": {\n",
    "      \"simulation_id\": \"simulation id as string\",\n",
    "      \"message\": {\n",
    "          \"timestamp\": epoch time number,\n",
    "          \"difference_mrid\": \"optional unique mRID for command logs\",\n",
    "          \"reverse_differences\": [{\n",
    "\n",
    "                  \"object\": \"first equipment mRID\",\n",
    "                  \"attribute\": \"control attribute\",\n",
    "                  \"value\": current value\n",
    "              },\n",
    "              {\n",
    "\n",
    "                  \"object\": \"second equipment mRID\",\n",
    "                  \"attribute\": \"control attribute\",\n",
    "                  \"value\": current value\n",
    "              }\n",
    "          ],\n",
    "          \"forward_differences\": [{\n",
    "\n",
    "                  \"object\": \"first equipment mRID\",\n",
    "                  \"attribute\": \"control attribute\",\n",
    "                  \"value\": new value\n",
    "              },\n",
    "              {\n",
    "\n",
    "                  \"object\": \"second equipment mRID\",\n",
    "                  \"attribute\": \"control attribute\",\n",
    "                  \"value\": new value\n",
    "              }\n",
    "              ]\n",
    "              }\n",
    "      }\n",
    "}\n",
    "\n",
    "```\n",
    "\n",
    "Note: The GridAPPS-D platform does not validate whether `\"reverse_differences\":` has the correct equipment control values for the current time. It is used just for compliance with the CIM standard."
   ]
  },
  {
   "cell_type": "markdown",
   "id": "f333bb65",
   "metadata": {},
   "source": [
    "[Return to Top](#Table-of-Contents)"
   ]
  },
  {
   "cell_type": "markdown",
   "id": "2f05a790",
   "metadata": {},
   "source": [
    "### 3.4. Using GridAPPSD-Python `DifferenceBuilder`\n",
    "\n"
   ]
  },
  {
   "cell_type": "markdown",
   "id": "73a579b5",
   "metadata": {},
   "source": [
    "The `DifferenceBuilder` class is a GridAPPSD-Python tool that can be used to automatically build the difference message with correct formatting. \n",
    "\n",
    "First import DifferenceBuilder from the GridAPPSD-Python Library and create an object that will be used to create the desired difference messages. "
   ]
  },
  {
   "cell_type": "code",
   "execution_count": null,
   "id": "4b0a74d6",
   "metadata": {},
   "outputs": [],
   "source": [
    "from gridappsd import DifferenceBuilder\n",
    "\n",
    "my_diff_build = DifferenceBuilder(viz_simulation_id)"
   ]
  },
  {
   "cell_type": "markdown",
   "id": "f51efcc4",
   "metadata": {},
   "source": [
    "We then use two methods associated with the DifferenceBuilder object:\n",
    "* `.add_difference(self, object_mrid, control_attribute, new_value, old_value)` -- Generates a correctly formatted difference message.\n",
    "* `.get_message()` -- Saves the message as a python dictionary that can be published using gapps.send()"
   ]
  },
  {
   "cell_type": "code",
   "execution_count": null,
   "id": "212896b9",
   "metadata": {},
   "outputs": [],
   "source": [
    "my_diff_build.add_difference(sw_mrid, \"Switch.open\", 1, 0) # Open switch given by sw_mrid\n",
    "\n",
    "message = my_diff_build.get_message()"
   ]
  },
  {
   "cell_type": "markdown",
   "id": "b855b5b5",
   "metadata": {},
   "source": [
    "The difference message is then published to the GOSS Message Bus and the Simulation API using the `.send()` method associated with the GridAPPS-D connection object."
   ]
  },
  {
   "cell_type": "code",
   "execution_count": null,
   "id": "ed016a2d",
   "metadata": {},
   "outputs": [],
   "source": [
    "gapps.send(input_topic, message)"
   ]
  },
  {
   "cell_type": "markdown",
   "id": "5c205ce7",
   "metadata": {},
   "source": [
    "[Return to Top](#Table-of-Contents)"
   ]
  },
  {
   "cell_type": "markdown",
   "id": "d92c5b9f",
   "metadata": {},
   "source": [
    "---"
   ]
  },
  {
   "cell_type": "markdown",
   "id": "f494b303",
   "metadata": {},
   "source": [
    "## Subscribing to Simulation Output\n",
    "\n"
   ]
  },
  {
   "cell_type": "markdown",
   "id": "cd3e62ad",
   "metadata": {},
   "source": []
  },
  {
   "cell_type": "markdown",
   "id": "0779ee65",
   "metadata": {},
   "source": [
    "## 4.1. Specify the Topic\n",
    "\n",
    "This is a dynamic `/topic/` communication channel that is best implemented by importing the GriAPPSD-Python library function for generating the correct topic. "
   ]
  },
  {
   "cell_type": "code",
   "execution_count": null,
   "id": "2ae760f2",
   "metadata": {},
   "outputs": [],
   "source": [
    "from gridappsd.topics import simulation_output_topic\n",
    "\n",
    "output_topic = simulation_output_topic(viz_simulation_id)"
   ]
  },
  {
   "cell_type": "markdown",
   "id": "efe927ed",
   "metadata": {},
   "source": [
    "[Return to Top](#Table-of-Contents)"
   ]
  },
  {
   "cell_type": "markdown",
   "id": "2a4c916e",
   "metadata": {},
   "source": [
    "## 4.2. Obtain Measurement mRIDs\n",
    "\n",
    "The second step is to obtain the correct measurement mRIDs using the PowerGrid Models API, which was covered in [Lesson 2.2, Section 5.2](Lesson%202.2.%20PowerGrid%20Models%20API%20-%20Using%20JSON%20Queries.ipynb#5.2.-Querying-for-Measurements). \n",
    "\n",
    "These mRIDs will be needed to parse the simulation output message and filter it to just the desired set of measurements.\n",
    "\n",
    "For the example below, we will be interested in only the measurement associated with switches, so we will use the PowerGrid Models API to query for the set of measurements associated with the CIM Class `LoadBreakSwitch`. We then will filter those values to just the mRIDs associated with each type of measurement."
   ]
  },
  {
   "cell_type": "code",
   "execution_count": null,
   "id": "b66e3b51",
   "metadata": {},
   "outputs": [],
   "source": [
    "from gridappsd import topics as t\n",
    "\n",
    "message = {\n",
    "    \"modelId\": model_mrid,\n",
    "    \"requestType\": \"QUERY_OBJECT_MEASUREMENTS\",\n",
    "    \"resultFormat\": \"JSON\",\n",
    "    \"objectType\": \"LoadBreakSwitch\"\n",
    "}\n",
    "\n",
    "response_obj = gapps.get_response(t.REQUEST_POWERGRID_DATA, message)\n",
    "\n",
    "measurements_obj = response_obj[\"data\"]\n",
    "\n",
    "Pos_obj = [k for k in measurements_obj if k['type'] == 'Pos']\n",
    "PNV_obj = [k for k in measurements_obj if k['type'] == 'PNV']\n",
    "VA_obj = [k for k in measurements_obj if k['type'] == 'VA']\n",
    "A_obj = [k for k in measurements_obj if k['type'] == 'Pos']\n"
   ]
  },
  {
   "cell_type": "markdown",
   "id": "6a406fb2",
   "metadata": {},
   "source": [
    "[Return to Top](#Table-of-Contents)"
   ]
  },
  {
   "cell_type": "markdown",
   "id": "0adf8abf",
   "metadata": {},
   "source": [
    "## 4.3. Structure of Simulation Output Message\n",
    "\n",
    "The general format of the messages received by the Simulation API is a python dictionary with the following key-value pairs:\n",
    "\n",
    "```\n",
    "{         KEY                    VALUE\n",
    "    \"simulation_id\" :           string,\n",
    "    \"message\" : {\n",
    "        \"timestamp\" :           epoch time number,\n",
    "        \"measurements\" : {\n",
    "            \"meas mrid 1\":{\n",
    "                                \"measurement_mrid\": \"meas mrid 1\"\n",
    "                                \"magnitude\": number,\n",
    "                                \"angle\": number },\n",
    "            \"meas mrid 2\":{\n",
    "                                \"measurement_mrid\": \"meas mrid 2\"\n",
    "                                \"magnitude\": number,\n",
    "                                \"angle\": number },\n",
    "                           .     \n",
    "                           .\n",
    "                           .\n",
    "            \"meas mrid n\":{\n",
    "                                \"measurement_mrid\": \"meas mrid n\"\n",
    "                                \"magnitude\": number,\n",
    "                                \"angle\": number },\n",
    "    }\n",
    "}\n",
    "```\n",
    "\n",
    "It is the responsibility of the application to parse and filter the message to obtain the desired measurements. "
   ]
  },
  {
   "cell_type": "markdown",
   "id": "1eb04df3",
   "metadata": {},
   "source": [
    "[Return to Top](#Table-of-Contents)"
   ]
  },
  {
   "cell_type": "markdown",
   "id": "4dd6d4b3",
   "metadata": {},
   "source": [
    "## 4.4. Subscribe using a Function Definition\n",
    "\n",
    "The first approach used to subscribe to measurements is to define a function with the correct set of arguments that is then passed to the `.subscribe()` method associated with the `GridAPPPSD()` object.\n",
    "\n",
    "The function does not require a specific name, and is somewhat easier to define and use. However, the arguments of the function need to be named correctly for the GridAPPSD-Python library to process the simulation output correctly.\n",
    "\n",
    "The format for the function definition is \n",
    "\n",
    "```\n",
    "def mySubscribeFunction(header, message):\n",
    "    # do something when receive a message\n",
    "    # parse to get measurments\n",
    "    # do something else\n",
    "```\n",
    "\n",
    "That function handle is then passed as an argument to the `.subscribe(topic, function_handle)` method:"
   ]
  },
  {
   "cell_type": "markdown",
   "id": "29191b71",
   "metadata": {},
   "source": [
    "__Note on Jupyter Notebook environment:__ In the examples below, the Jupyter Notebook environment does not update definitions of the subscription object or function definitions. As a result, it is necessary to restart the notebook kernel. The gapps connection object definition is included again for convenience in executing the notebook code blocks"
   ]
  },
  {
   "cell_type": "code",
   "execution_count": null,
   "id": "07d66446",
   "metadata": {},
   "outputs": [],
   "source": [
    "# Re-establish connection to GridAPPS-D Platform if Notebook Kernel was restarted:\n",
    "from gridappsd import GridAPPSD, topics as t\n",
    "\n",
    "viz_simulation_id = \"paste id here\"\n",
    "model_mrid = \"_C1C3E687-6FFD-C753-582B-632A27E28507\"\n",
    "\n",
    "gapps = GridAPPSD(viz_simulation_id, \"('localhost', 61613)\", username='system', password='manager')\n",
    "\n",
    "# Re-run query for switch measurement mRIDs if Notebook Kernel was restarted\n",
    "message = {\n",
    "    \"modelId\": model_mrid,\n",
    "    \"requestType\": \"QUERY_OBJECT_MEASUREMENTS\",\n",
    "    \"resultFormat\": \"JSON\",\n",
    "    \"objectType\": \"LoadBreakSwitch\"\n",
    "}\n",
    "response_obj = gapps.get_response(t.REQUEST_POWERGRID_DATA, message)\n",
    "measurements_obj = response_obj[\"data\"]"
   ]
  },
  {
   "cell_type": "markdown",
   "id": "176c6e40",
   "metadata": {},
   "source": [
    "Note that the subscription function definition does not allow any additional parameters to be passed. The only allowed arguments are `header` and `message`. Any other parameters, such as measurement mRIDs will need to be defined as global variables:"
   ]
  },
  {
   "cell_type": "code",
   "execution_count": null,
   "id": "b5ec4ef7",
   "metadata": {},
   "outputs": [],
   "source": [
    "global Pos_obj # Define global python dictionary of position measurements\n",
    "Pos_obj = [k for k in measurements_obj if k['type'] == 'Pos']"
   ]
  },
  {
   "cell_type": "code",
   "execution_count": null,
   "id": "d4f16111",
   "metadata": {},
   "outputs": [],
   "source": [
    "def demoSubscription1(header, message):\n",
    "    # Extract time and measurement values from message          \n",
    "    timestamp = message[\"message\"][\"timestamp\"]\n",
    "    meas_value = message[\"message\"][\"measurements\"]\n",
    "    \n",
    "    meas_mrid = list(meas_value.keys()) #obtain list of all mrid from message\n",
    "    \n",
    "    # Filter to measurements with value of zero\n",
    "    open_switches = []\n",
    "    for index in Pos_obj:\n",
    "        if index[\"measid\"] in meas_value:\n",
    "            mrid = index[\"measid\"]\n",
    "            power = meas_value[mrid]\n",
    "            if power[\"value\"] == 0:\n",
    "                open_switches.append(index[\"eqname\"])\n",
    "    \n",
    "    # Print message to command line\n",
    "    print(\"............\")\n",
    "    print(\"Number of open switches at time\", timestamp, ' is ', len(set(open_switches)))"
   ]
  },
  {
   "cell_type": "code",
   "execution_count": null,
   "id": "4b08eb84",
   "metadata": {},
   "outputs": [],
   "source": [
    "gapps.subscribe(output_topic, demoSubscription1)"
   ]
  },
  {
   "cell_type": "markdown",
   "id": "f83ee3d7",
   "metadata": {},
   "source": [
    "[Return to Top](#Table-of-Contents)"
   ]
  },
  {
   "cell_type": "markdown",
   "id": "8bb507f4",
   "metadata": {},
   "source": [
    "## 4.5. Subscribe using a Class Definition\n",
    "\n",
    "The second approach used to subscribe to measurements is to define a class with `__init__` and `on_message` methods.\n",
    "\n",
    "These methods specify 1) how your app would initialize variables and attributes at the start of the simulation and 2) how your app behaves when it receives various messages. \n",
    "\n",
    "__IMPORTANT!__ The GridAPPS-D Platform use the exact names and syntax for the methods:\n",
    "\n",
    "* `__init__(self, simulation_id, gapps_object, optional_objects)` -- This method requires the simulation_id and GridAPPS-D connection object. It is also possible add other user-defined arguments, such as measurement mRIDs or other information required by your application.\n",
    "\n",
    "\n",
    "* `on_message(self, headers, message)` -- This method allows the class to subscribe to simulation measurements. It also contains the core behavior of your application and how it responds to each type of message.\n",
    "\n",
    "It is also possible to use the same class definition to subscribe to other topics, such as Simulation Logs. This is done by creating additional user-defined methods and then passing those methods to the `.subcribe()` method associated with the GridAPPS-D connection object. An example of how this is done is provided for subcribing to simulation logs in [Lesson 2.8, Section 4.3](Lesson%202.8.%20Logging%20API.ipynb#4.3.-Create-Subscription-Method)\n"
   ]
  },
  {
   "cell_type": "markdown",
   "id": "c646c910",
   "metadata": {},
   "source": [
    "### _This class definition is also the core code block of your application!_"
   ]
  },
  {
   "cell_type": "markdown",
   "id": "e7386ca5",
   "metadata": {},
   "source": [
    "The structure of the class is\n",
    "\n",
    "```\n",
    "class YourSimulationClassName(object):\n",
    "    # Your documentation text here on what app does\n",
    "    \n",
    "    def __init__(self, simulation_id, gapps_obj, meas_obj, your_obj):\n",
    "        # Instantiate class with specific initial state\n",
    "        \n",
    "        # Attributes required by Simulation API\n",
    "        self._gapps = gapps_obj\n",
    "        self._simulation_id = simulation_id\n",
    "        \n",
    "        # Attributes to publish difference measurements\n",
    "        self.diff = DifferenceBuilder(simulation_id)\n",
    "        \n",
    "        # Custom attributes for measurements, custom info\n",
    "        self.meas_mrid = meas_obj\n",
    "        self.your_attribute1 = your_obj[\"key1\"]\n",
    "        self.your_attribute2 = your_obj[\"key2\"]\n",
    "        \n",
    "    def on_message(self, headers, message):\n",
    "        # What app should do when it receives a subscription message\n",
    "        \n",
    "        variable1 = message[\"message\"][\"key1\"]\n",
    "        variable2 = message[\"message\"][\"key2\"]\n",
    "\n",
    "        # Insert your custom app behavior here\n",
    "        if variable1 == foo:\n",
    "            bar = my_optimization_result\n",
    "            \n",
    "        # Insert your custom equipment commands here\n",
    "        if variable2 == bar:\n",
    "            self.diff.add_difference(object_mrid, control_attribute, new_value, old_value)\n",
    "            \n",
    "    def my_custom_method_1(self, headers, message):\n",
    "        # Use extra methods to subscribe to other topics, such as simulation logs\n",
    "        variable1 = message[\"key1\"]\n",
    "        variable2 = message[\"key2\"]\n",
    "        \n",
    "    def my_custom_method_2(self, param1, param2):\n",
    "        # Use extra methods as desired\n",
    "        variable1 = foo\n",
    "        variable2 = bar\n",
    "        \n",
    "        \n",
    "```"
   ]
  },
  {
   "cell_type": "markdown",
   "id": "85df183c",
   "metadata": {},
   "source": [
    "__Note on Jupyter Notebook environment:__ In the examples below, the Jupyter Notebook environment does not update definitions of the subscription object or function definitions. As a result, it is necessary to restart the notebook kernel. The gapps connection object definition and query for measurement mRIDs is included again for convenience in executing the notebook code blocks"
   ]
  },
  {
   "cell_type": "code",
   "execution_count": null,
   "id": "5bcd97e8",
   "metadata": {},
   "outputs": [],
   "source": [
    "# Re-establish connection to GridAPPS-D Platform if Notebook Kernel was restarted:\n",
    "from gridappsd import GridAPPSD, topics as t\n",
    "\n",
    "viz_simulation_id = \"paste id here\"\n",
    "model_mrid = \"_C1C3E687-6FFD-C753-582B-632A27E28507\"\n",
    "\n",
    "gapps = GridAPPSD(viz_simulation_id, \"('localhost', 61613)\", username='system', password='manager')\n",
    "\n",
    "# Re-run query for switch measurement mRIDs if Notebook Kernel was restarted:\n",
    "message = {\n",
    "    \"modelId\": model_mrid,\n",
    "    \"requestType\": \"QUERY_OBJECT_MEASUREMENTS\",\n",
    "    \"resultFormat\": \"JSON\",\n",
    "    \"objectType\": \"LoadBreakSwitch\"\n",
    "}\n",
    "response_obj = gapps.get_response(t.REQUEST_POWERGRID_DATA, message)\n",
    "measurements_obj = response_obj[\"data\"]"
   ]
  },
  {
   "cell_type": "code",
   "execution_count": null,
   "id": "b517f6f8",
   "metadata": {},
   "outputs": [],
   "source": [
    "class ApplicationDemo(object):\n",
    "    # A simple class for interacting with simulation\n",
    "    \n",
    "    def __init__(self, simulation_id, gapps_obj, meas_obj):\n",
    "        # Subscription callback from GridAPPSD object\n",
    "        self._gapps = gapps_obj\n",
    "        self._simulation_id = simulation_id\n",
    "        self.meas_mrid = meas_obj\n",
    "    \n",
    "    def on_message(self, headers, message):\n",
    "        \n",
    "        # Extract time and measurement values from message          \n",
    "        timestamp = message[\"message\"][\"timestamp\"]\n",
    "        meas_value = message[\"message\"][\"measurements\"]\n",
    "        \n",
    "        # Filter measurement mRIDs to just position\n",
    "        Pos_obj = [k for k in self.meas_mrid if k['type'] == 'Pos']\n",
    "        \n",
    "        # Filter to measurements with value of zero\n",
    "        open_switches = []\n",
    "        for index in Pos_obj:\n",
    "            if index[\"measid\"] in meas_value:\n",
    "                mrid = index[\"measid\"]\n",
    "                power = meas_value[mrid]\n",
    "                if power[\"value\"] == 0:\n",
    "                    open_switches.append(index[\"eqname\"])\n",
    "                    \n",
    "        print(\"............\")\n",
    "        print(\"Number of open switches at time\", timestamp, ' is ', len(set(open_switches)))\n",
    "        "
   ]
  },
  {
   "cell_type": "markdown",
   "id": "c8657774",
   "metadata": {},
   "source": [
    "After defining the class, we create an object that will be passed to the `.subscribe(topic, object)` method associated with the GridAPPS-D connection object:"
   ]
  },
  {
   "cell_type": "code",
   "execution_count": null,
   "id": "51b9bda7",
   "metadata": {},
   "outputs": [],
   "source": [
    "demo_obj = ApplicationDemo(viz_simulation_id, gapps, measurements_obj)\n",
    "\n",
    "gapps.subscribe(subscribe_topic, demo_obj) # only measurements simulation_output_topic"
   ]
  },
  {
   "cell_type": "markdown",
   "id": "06b73aea",
   "metadata": {},
   "source": [
    "If we wish to subscribe to an additional topic (such as the Simulation Logs, a side communication channel between two different applications, or a communication with a particular service), we can define an additional method in the class (such as my_custom_method_1 in the pseudo-code above) and then pass it to to the `.subscribe(topic, object.method)` method associated with the GridAPPS-D connection object:\n",
    "\n",
    "`gapps.subscribe(other_topic, demo_obj.my_custom_method_1)`"
   ]
  },
  {
   "cell_type": "markdown",
   "id": "895227ac",
   "metadata": {},
   "source": [
    "[Return to Top](#Table-of-Contents)"
   ]
  },
  {
   "cell_type": "markdown",
   "id": "36ac0b9d",
   "metadata": {},
   "source": [
    "## 4.6. Using the GridAPPSD-Python Simulation Library Shortcuts"
   ]
  },
  {
   "cell_type": "markdown",
   "id": "64d97d6d",
   "metadata": {},
   "source": [
    "__Release_2020.09.0 Note:__ If the simulation was started from within the application by importing and using the `Simulation` library in GridAPPSD-Python (as shown in [Lesson 2.5, Section 3.3](Lesson%202.5.%20Simulation%20API%20-%20Running%20Simulations.ipynb#3.3.-Starting-the-Simulation)), then several shortcut functions can be used. These methods currently cannot interact with a simulation started from the Viz. This functionality will be added in a future release.\n"
   ]
  },
  {
   "cell_type": "markdown",
   "id": "97229aeb",
   "metadata": {},
   "source": [
    "The GridAPPSD-Python library provides several shortcut methods can be used by importing the Simulation library for GridAPPS-D:"
   ]
  },
  {
   "cell_type": "code",
   "execution_count": null,
   "id": "b76f6643",
   "metadata": {},
   "outputs": [],
   "source": [
    "import json\n",
    "from gridappsd import GridAPPSD\n",
    "from gridappsd.simulation import Simulation\n",
    "\n",
    "gapps = GridAPPSD() # Create GridAPPS-D connection object\n",
    "\n",
    "run123_config = json.load(open(\"Run123NodeFileSimAPI.json\")) # Pull simulation config from saved file\n",
    "    \n",
    "simulation_obj = Simulation(gapps, run123_config) # Create Simulation object\n",
    "\n",
    "simulation_obj.start_simulation() # Start Simulation\n",
    "\n",
    "print(\"Successfully started simulation with simulation_id: \", simulation_obj.simulation_id)"
   ]
  },
  {
   "cell_type": "markdown",
   "id": "d1231814",
   "metadata": {},
   "source": [
    "The Simulation library provides four methods that can be used to define how the platform interacts with the simulation:\n",
    "\n",
    "* `.add_ontimestep_callback(myfunction1)` -- Run the desired function on each timestep\n",
    "\n",
    "\n",
    "* `.add_onmesurement_callback(myfunction2)` -- Run the desired function when a measurement is received. __Note on releases_2020.09.0: method name is misspelled in the library definition!!__\n",
    "\n",
    "\n",
    "* `.add_oncomplete_callback(myfunction3)` -- Run the desired function when simulation is \n",
    "\n",
    "\n",
    "* `.add_onstart_callback(myfunction4)` -- Run desired function when simulation is started\n",
    "\n"
   ]
  },
  {
   "cell_type": "markdown",
   "id": "52251e79",
   "metadata": {},
   "source": [
    "Note that the measurement callback method returns just the measurements and timestamps without any of the message formatting used in the messages received by using the `gapps.subscribe(output_topic, object)` approach."
   ]
  },
  {
   "cell_type": "markdown",
   "id": "8ef81bd3",
   "metadata": {},
   "source": [
    "To use use these methods, we define a set of functions that determine the behavior of the application for each of the four types of callbacks listed above:\n",
    "\n",
    "```\n",
    "def onmeasurement(sim, timestamp, measurements):\n",
    "    # Do something when app receives a measurement\n",
    "    # Insert your custom app behavior here\n",
    "    if measurements[object_mrid] == foo:\n",
    "        bar = my_optimization_result\n",
    "    \n",
    "def oncomplete(sim):\n",
    "    # Do something when simulation is complete\n",
    "    # example: delete all variables, close files\n",
    "```\n"
   ]
  },
  {
   "cell_type": "markdown",
   "id": "46362793",
   "metadata": {},
   "source": [
    "__Note on Jupyter Notebook environment:__ In the examples below, the Jupyter Notebook environment does not update definitions of the subscription object or function definitions. As a result, it is necessary to restart the notebook kernel. The query to get measurement mRIDS is included again for convenience in executing the notebook code blocks"
   ]
  },
  {
   "cell_type": "code",
   "execution_count": null,
   "id": "64ec8d85",
   "metadata": {},
   "outputs": [],
   "source": [
    "# Re-run PowerGrid Models API query to get measurement mRIDS if Notebook Kernel was cleared between simulations\n",
    "from gridappsd import topics as t\n",
    "\n",
    "model_mrid = \"_C1C3E687-6FFD-C753-582B-632A27E28507\"\n",
    "message = {\n",
    "    \"modelId\": model_mrid,\n",
    "    \"requestType\": \"QUERY_OBJECT_MEASUREMENTS\",\n",
    "    \"resultFormat\": \"JSON\",\n",
    "    \"objectType\": \"LoadBreakSwitch\"\n",
    "}\n",
    "response_obj = gapps.get_response(t.REQUEST_POWERGRID_DATA, message)\n",
    "measurements_obj = response_obj[\"data\"]\n",
    "global Pos_obj\n",
    "Pos_obj = [k for k in measurements_obj if k['type'] == 'Pos']\n"
   ]
  },
  {
   "cell_type": "code",
   "execution_count": null,
   "id": "e40fab5c",
   "metadata": {},
   "outputs": [],
   "source": [
    "def onmeasurement(sim, timestamp, measurements):\n",
    "    # Filter to measurements with value of zero\n",
    "    open_switches = []\n",
    "    for index in Pos_obj:\n",
    "        if index[\"measid\"] in measurements:\n",
    "            mrid = index[\"measid\"]\n",
    "            power = measurements[mrid]\n",
    "            if power[\"value\"] == 0:\n",
    "                open_switches.append(index[\"eqname\"])\n",
    "\n",
    "    print(\"............\")\n",
    "    print(\"Number of open switches at time\", timestamp, ' is ', len(set(open_switches)))"
   ]
  },
  {
   "cell_type": "code",
   "execution_count": null,
   "id": "484155a7",
   "metadata": {},
   "outputs": [],
   "source": [
    "simulation_obj.add_onmesurement_callback(onmeasurement)"
   ]
  },
  {
   "cell_type": "markdown",
   "id": "8d48eeb1",
   "metadata": {},
   "source": [
    "[Return to Top](#Table-of-Contents)"
   ]
  },
  {
   "cell_type": "markdown",
   "id": "7207c434",
   "metadata": {},
   "source": [
    "## 4.7. Comparison of Approaches\n",
    "\n",
    "Each approach has its advantages and disadvantages. \n",
    "\n",
    "* The function-based approach is simpler and easier to implement. However, any parameters obtained from other APIs or methods to be used inside the function currently need to be defined as global variables. \n",
    "\n",
    "* The class-based approach is more complex, but also more powerful. It provides greater flexibility in creating additional methods, arguments, etc.\n",
    "\n",
    "* The Simulation Library-based approach is easiest, but only works currently for simulations started using the simulation_obj.start_simulation() method.\n",
    "\n",
    "The choice of which approach is used depends on the personal preferences of the application developer."
   ]
  },
  {
   "cell_type": "markdown",
   "id": "b6aa2e36",
   "metadata": {},
   "source": [
    "[Return to Top](#Table-of-Contents)"
   ]
  },
  {
   "cell_type": "code",
   "execution_count": null,
   "id": "cc2d706f",
   "metadata": {},
   "outputs": [],
   "source": []
  }
 ],
 "metadata": {
  "celltoolbar": "Tags",
  "kernelspec": {
   "display_name": "Python 3 (ipykernel)",
   "language": "python",
   "name": "python3"
  },
  "language_info": {
   "codemirror_mode": {
    "name": "ipython",
    "version": 3
   },
   "file_extension": ".py",
   "mimetype": "text/x-python",
   "name": "python",
   "nbconvert_exporter": "python",
   "pygments_lexer": "ipython3",
   "version": "3.8.5"
  }
 },
 "nbformat": 4,
 "nbformat_minor": 5
}
