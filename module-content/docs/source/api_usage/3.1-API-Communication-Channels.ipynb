{
 "cells": [
  {
   "cell_type": "markdown",
   "metadata": {},
   "source": []
  },
  {
   "cell_type": "markdown",
   "metadata": {},
   "source": [
    "# API Communication Channels"
   ]
  },
  {
   "cell_type": "markdown",
   "metadata": {},
   "source": [
    "---"
   ]
  },
  {
   "cell_type": "markdown",
   "metadata": {},
   "source": [
    "When communicating with the GridAPPS-D Platform through API, it is necessary to specify a communication channel, which tells the GridAPPS-D platform on which channel to communicate with the application and through which API the message should be directed."
   ]
  },
  {
   "cell_type": "markdown",
   "metadata": {},
   "source": [
    "---"
   ]
  },
  {
   "cell_type": "markdown",
   "metadata": {},
   "source": [
    "## `/queue/` vs `/topic/` Channels\n",
    "\n",
    "GridAPPS-D uses two types of communication channels to determine the visibility of the API call to other applications and services.\n",
    "\n",
    "### Queue Channels\n",
    "\n",
    "`/queue/` is used for communication channels where only the GridAPPS-D Platform is listening to the API call. These API calls are processed on a first-in, first-out basis. There is only one subscriber to the communication channel.\n",
    "\n",
    "API calls to the Blazegraph database, Logs, Timeseries database, Config files, and Platform status are all queue channels. All the GridAPPS-D Topics for queue channels typically do not change over the course of an application or simulation run.\n",
    "\n",
    "In the GridAPPSD-Python library, it is assumed that a topic is a queue channel if not otherwise specified. These two GridAPPS-D Topic definitions are equivalent:\n",
    "\n",
    "`topic = '/queue/goss.gridappsd.process.request.data.powergridmodel'`\n",
    "\n",
    "`topic = 'goss.gridappsd.process.request.data.powergridmodel'`\n",
    "\n",
    "\n",
    "### Topic Channels\n",
    "\n",
    "`/topic/` is used for communication channels where the API call is to broadcast to all subscribers through the GOSS Message Bus, inlcuding other applications, services, FNCS Bridge, etc. \n",
    "\n",
    "API calls to the Simulation, services, and active applications use topic channels to communicate and typically need to the specify the Simulation IDs, Service IDs, and Application IDs. The particular topic for such an API call will change between simulations and instances, and so shortcut functions are provided in GridAPPSD-Python library to assist in generating the correct Topic.\n",
    "\n",
    "In GridAPPSD-Python, it is necessary to specify if a GridAPPS-D Topic is a `/topic/` channel broadcasting to all subscribers:\n",
    "\n",
    "`topic = \"/topic/goss.gridappsd.simulation.input.\"+simulation_id`"
   ]
  },
  {
   "cell_type": "markdown",
   "metadata": {},
   "source": [
    "---"
   ]
  },
  {
   "cell_type": "markdown",
   "metadata": {},
   "source": [
    "## Static GridAPPS-D Topics\n",
    "\n",
    "Below are a list of the most common topics and where they are used. The appropriate topic for each API call will also be listed again in the subsequent sections on each GridAPPS-D API. The list below can serve as an additional convenient reference.\n",
    "\n",
    "These topics remain the remain the same between platform, application, and simulation instances. The GridAPPSD-Python Library shortcuts use all uppercase naming to indicate that these are static topic names.\n",
    "\n",
    "### Importing the Topics Library\n",
    "\n",
    "When using topics in GridAPPSD-Python, it is recommended to import the `topics` library from `gridappsd`. This enables you to rapidly call the correct topic without needing to search for the correct topic string. This also protects your code from any changes inside the GridAPPS-D Platform if particular topic strings are deprecated or replaced -- the python library names will stay persistent between all Platform releases.\n",
    "\n",
    "For static GridAPPS-D topics, import the library by running"
   ]
  },
  {
   "cell_type": "code",
   "execution_count": null,
   "metadata": {},
   "outputs": [],
   "source": [
    "from gridappsd import topics as t"
   ]
  },
  {
   "cell_type": "markdown",
   "metadata": {},
   "source": [
    "### Request PowerGrid Model Data\n",
    "\n",
    "This `/queue/` channel is used to communicate with PowerGrid Models API to pull power system model info from the the Blazegraph Database. The PowerGrid Model API is covered in detail in [Using the PowerGrid Models API](../api_usage/3.3-Using-the-PowerGrid-Models-API.ipynb).\n",
    "\n",
    "The base static string used is `goss.gridappsd.process.request.data.powergridmodel`, which can be called using the `.REQUEST_POWERGRID_DATA` or `.BLAZEGRAPH` methods from the topics library\n",
    "\n",
    "A sample message that would be passed with this topic is "
   ]
  },
  {
   "cell_type": "code",
   "execution_count": null,
   "metadata": {},
   "outputs": [],
   "source": [
    "from gridappsd import topics as t\n",
    "\n",
    "# Sample PowerGrid Model message\n",
    "message = '{\"requestType\": \"QUERY_MODEL_NAMES\", \"resultFormat\": \"JSON\"}'\n",
    "\n",
    "gapps.get_response(t.REQUEST_POWERGRID_DATA, message)"
   ]
  },
  {
   "cell_type": "code",
   "execution_count": null,
   "metadata": {},
   "outputs": [],
   "source": [
    "from gridappsd import topics as t\n",
    "\n",
    "# Sample PowerGrid Model message\n",
    "message = '{\"requestType\": \"QUERY_MODEL_NAMES\", \"resultFormat\": \"JSON\"}'\n",
    "\n",
    "gapps.get_response(t.BLAZEGRAPH, message)"
   ]
  },
  {
   "cell_type": "markdown",
   "metadata": {},
   "source": [
    "---"
   ]
  },
  {
   "cell_type": "markdown",
   "metadata": {},
   "source": [
    "### Request Timeseries Data\n",
    "\n",
    "This `/queue/` channel is used to communicate with the Timeseries API and Timeseries database, which stores real-time and historical data, such as weather information and AMI meter readings. The Timeseries database is covered in detail in [Using the Timeseries API](../api_usage/3.7-Using-the-Timeseries-API.ipynb). A sample message that would be passed with this topic is"
   ]
  },
  {
   "cell_type": "markdown",
   "metadata": {},
   "source": [
    "__Text String:__ The topic can be specified as a static string:\n",
    "\n",
    "* `topic = \"goss.gridappsd.process.request.data.timeseries\"`\n",
    "* `gapps.get_response(topic, message)`"
   ]
  },
  {
   "cell_type": "markdown",
   "metadata": {},
   "source": [
    "__GridAPPSD-Python Library Method:__ The correct topic can also be imported from the GridAPPSD-Python topics library:\n",
    "\n",
    "* `from gridappsd import topics as t`\n",
    "* `gapps.get_response(t.TIMESERIES, message)`"
   ]
  },
  {
   "cell_type": "markdown",
   "metadata": {},
   "source": [
    "---"
   ]
  },
  {
   "cell_type": "markdown",
   "metadata": {},
   "source": [
    "### Request Platform Status\n",
    "\n",
    "This topic is used to check that status of the GridAPPS-D Platform. \n",
    "\n"
   ]
  },
  {
   "cell_type": "markdown",
   "metadata": {},
   "source": [
    "__Text String:__ The topic can be specified as a static string:\n",
    "\n",
    "* `topic = \"/queue/goss.gridappsd.process.request.status.platform\"`\n",
    "* `gapps.get_response(topic, message)`"
   ]
  },
  {
   "cell_type": "markdown",
   "metadata": {},
   "source": [
    "__GridAPPSD-Python Library Method:__ The correct topic can also be imported from the GridAPPSD-Python topics library. \n",
    "\n",
    "* `from gridappsd import topics as t`\n",
    "* `gapps.get_response(t.PLATFORM_STATUS, message)`"
   ]
  },
  {
   "cell_type": "markdown",
   "metadata": {},
   "source": [
    "---"
   ]
  },
  {
   "cell_type": "markdown",
   "metadata": {},
   "source": [
    "### Querying Log Data\n",
    "\n",
    "This topic is used to query log data in the MySQL Database using the Logging API\n",
    "\n",
    "__Note:__ This topic is different from the one used to subscribe to real-time log data being published by an ongoing simulation. This topic is used for querying data already stored in the database."
   ]
  },
  {
   "cell_type": "markdown",
   "metadata": {},
   "source": [
    "__Text String:__ The topic can be specified as a static string:\n",
    "\n",
    "* `topic = \"goss.gridappsd.process.request.data.log\"`\n",
    "* `gapps.get_response(topic, message)`"
   ]
  },
  {
   "cell_type": "markdown",
   "metadata": {},
   "source": [
    "__GridAPPSD-Python Library Method:__ The correct topic can also be imported from the GridAPPSD-Python topics library:\n",
    "\n",
    "* `from gridappsd import topics as t`\n",
    "* `gapps.get_response(t.LOGS, message)`"
   ]
  },
  {
   "cell_type": "markdown",
   "metadata": {},
   "source": [
    "---"
   ]
  },
  {
   "cell_type": "markdown",
   "metadata": {},
   "source": [
    "### Subscribing to Platform Logs\n",
    "\n",
    "This topic is used to subscribe the to logs created by the GridAPPS-D Platform, such as which managers and core services have been started and are running."
   ]
  },
  {
   "cell_type": "markdown",
   "metadata": {},
   "source": [
    "__Text String:__ The topic can be specified as a static string:\n",
    "\n",
    "* `topic = \"goss.gridappsd.process.request.data.timeseries\"`\n",
    "* `gapps.get_response(topic, message)`"
   ]
  },
  {
   "cell_type": "markdown",
   "metadata": {},
   "source": [
    "\n",
    "__GridAPPSD-Python Library Function:__ The correct topic can also be imported from the GridAPPSD-Python topics library. Note that this is a python function similar to the dynamic topics presented in the next section.\n",
    "\n",
    "* `from gridappsd.topics import platfor_log_topic\n",
    "* `topic = platform_log_topic()`\n",
    "* `gapps.get_response(topic, message)`"
   ]
  },
  {
   "cell_type": "markdown",
   "metadata": {},
   "source": [
    "[[Return to Top](#Table-of-Contents)]"
   ]
  },
  {
   "cell_type": "markdown",
   "metadata": {},
   "source": [
    "---"
   ]
  },
  {
   "cell_type": "markdown",
   "metadata": {},
   "source": [
    "## Dynamic GridAPPS-D Topics\n",
    "\n",
    "Several GridAPPS-D topics are unique to each application, simulation, or service instance. These topics are dynamic and will change from instance to instance. \n",
    "\n",
    "The GridAPPS-D Platform will require that the topic specify the particular instance so that the API call can be delivered to the correct simulation or service. \n",
    "\n",
    "To assist with the task of creating a dynamic topic that automatically updates between instances, several function are available in the GridAPPSD-Python topics library."
   ]
  },
  {
   "cell_type": "markdown",
   "metadata": {},
   "source": [
    "The available GridAPPSD-Python functions for dynamic topics are\n",
    "\n",
    "* `simulation_input_topic(simulaton_id)` -- Gets the topic to write data to for the simulation\n",
    "\n",
    "\n",
    "* `simulation_output_topic(simulation_id)` -- Gets the topic for subscribing to output from the simulation\n",
    "\n",
    "\n",
    "* `simulation_log_topic(simulation_id)` -- Topic for the subscribing to the logs from the simulation\n",
    "\n",
    "\n",
    "* `service_input_topic(service_id, simulation_id)` -- Utility method for getting the input topic for a specific service\n",
    "\n",
    "\n",
    "* `service_output_topic(service_id, simulation_id)` -- Utility method for getting the output topic for a specific service\n",
    "\n",
    "\n",
    "* `application_input_topic(application_id, simulation_id)` -- Utility method for getting the input topic for a specific application\n",
    "\n",
    "\n",
    "* `application_output_topic(application_id, simulation_id)` -- Utility method for getting the output topic for a specific application\n"
   ]
  },
  {
   "cell_type": "markdown",
   "metadata": {},
   "source": [
    "---"
   ]
  },
  {
   "cell_type": "markdown",
   "metadata": {},
   "source": [
    "### Subscribe to Simulation Output\n",
    "\n",
    "This topic is used to communicate with the Simulation API, which is covered in detail in [Controlling Simulations with Simulation API](../api_usage/3.6-Controlling-Simulation-API.ipynb). The Simulation Output Topic is used to subscribe to the simulation output, enabling applications to listen to switching actions, obtain equipment measurements, and so on. \n",
    "\n",
    "The GridAPPSD-Python shortcut function for generating the correct topic is\n",
    "\n",
    "`simulation_output_topic(simulation_id)`\n",
    "\n",
    "There are two ways to use the function. The first is to call the library function directly. The second is to use it as part of a class definition."
   ]
  },
  {
   "cell_type": "markdown",
   "metadata": {},
   "source": [
    "__1) Call the topic function directly__"
   ]
  },
  {
   "cell_type": "code",
   "execution_count": null,
   "metadata": {},
   "outputs": [],
   "source": [
    "# Import GridAPPS-D Topic Function:\n",
    "from gridappsd.topics import simulation_output_topic\n",
    "\n",
    "# Call GridAPPSD-Python Topic Function\n",
    "topic = simulation_output_topic(simulation_id)\n",
    "\n",
    "# Print to Notebook Kernel:\n",
    "print(topic)"
   ]
  },
  {
   "cell_type": "markdown",
   "metadata": {},
   "source": [
    "__2) Use the topic function in a class definition__"
   ]
  },
  {
   "cell_type": "code",
   "execution_count": null,
   "metadata": {},
   "outputs": [],
   "source": [
    "# Import GridAPPS-D Topic Function:\n",
    "from gridappsd.topics import simulation_output_topic\n",
    "\n",
    "# Define Subscription Class\n",
    "class MySubscription(object):\n",
    "    def __init__(self,simulation_id):\n",
    "        self._subscribe_to_topic = simulation_output_topic(simulation_id)\n",
    "        \n",
    "# Define Main Function: \n",
    "def _main():\n",
    "    subscription = MySubscription(simulation_id)\n",
    "    print(subscription._subscribe_to_topic)\n",
    "    \n",
    "# Call Main Function:\n",
    "_main()"
   ]
  },
  {
   "cell_type": "markdown",
   "metadata": {},
   "source": [
    "---"
   ]
  },
  {
   "cell_type": "markdown",
   "metadata": {},
   "source": [
    "### Publish to Simulation Input\n",
    "\n",
    "This topic is used to communicate with the Simulation API, which is covered in detail in [Controlling Simulations with Simulation API](../api_usage/3.6-Controlling-Simulation-API.ipynb). The Simulation Input Topic is used to publish commands to the GOSS Message Bus, which are then broadcast to all applications, services, and simulations that are listening. Examples of actions that will use this topic include taking switching actions, adjusting DER setpoints, and changing regulator taps.\n",
    "\n",
    "The GridAPPSD-Python shortcut function for generating the correct topic is\n",
    "\n",
    "`simulation_input_topic(simulation_id)`\n",
    "\n",
    "There are two ways to use the function. The first is to call the library function directly. The second is to use it as part of a class definition."
   ]
  },
  {
   "cell_type": "markdown",
   "metadata": {},
   "source": [
    "__1) Call the topic function directly__"
   ]
  },
  {
   "cell_type": "code",
   "execution_count": null,
   "metadata": {},
   "outputs": [],
   "source": [
    "# Import GridAPPS-D Topic Function:\n",
    "from gridappsd.topics import simulation_input_topic\n",
    "\n",
    "# Call GridAPPSD-Python Topic Function\n",
    "topic = simulation_output_topic(simulation_id)\n",
    "\n",
    "# Print to Notebook Kernel:\n",
    "print(topic)"
   ]
  },
  {
   "cell_type": "markdown",
   "metadata": {},
   "source": [
    "__2) Use the topic function in a class definition__"
   ]
  },
  {
   "cell_type": "code",
   "execution_count": null,
   "metadata": {},
   "outputs": [],
   "source": [
    "# Import GridAPPS-D Topic Function:\n",
    "from gridappsd.topics import simulation_input_topic\n",
    "\n",
    "# Define Subscription Class\n",
    "class MySimulationPublisher(object):\n",
    "    def __init__(self,simulation_id):\n",
    "        self._publish_to_topic = simulation_input_topic(simulation_id)\n",
    "        \n",
    "# Define Main Function: \n",
    "def _main():\n",
    "    subscription = MySimulationPublisher(simulation_id)\n",
    "    print(subscription._publish_to_topic)\n",
    "    \n",
    "# Call Main Function:\n",
    "_main()"
   ]
  },
  {
   "cell_type": "markdown",
   "metadata": {},
   "source": [
    "---"
   ]
  },
  {
   "cell_type": "markdown",
   "metadata": {},
   "source": [
    "### Subscribe to Simulation Logs\n",
    "\n",
    "This topic is used to communicate with the Simulation API, which is covered in detail in Lesson XX. The Simulation Output Topic is used to subscribe to the simulation output, which applications use to\n",
    "* Listen to switching actions\n",
    "* Obtaining equipment measurements\n",
    "* ___GET FULL LIST___\n",
    "\n",
    "The GridAPPSD-Python shortcut function for generating the correct topic is\n",
    "\n",
    "`simulation_output_topic(simulation_id)`\n",
    "\n",
    "There are two ways to use the function. The first is to call the library function directly. The second is to use it as part of a class definition."
   ]
  },
  {
   "cell_type": "markdown",
   "metadata": {},
   "source": [
    "__1) Call the topic function directly__"
   ]
  },
  {
   "cell_type": "code",
   "execution_count": null,
   "metadata": {},
   "outputs": [],
   "source": [
    "# Import GridAPPS-D Topic Function:\n",
    "from gridappsd.topics import simulation_output_topic\n",
    "\n",
    "# Call GridAPPSD-Python Topic Function\n",
    "topic = simulation_output_topic(simulation_id)\n",
    "\n",
    "# Print to Notebook Kernel:\n",
    "print(topic)"
   ]
  },
  {
   "cell_type": "markdown",
   "metadata": {},
   "source": [
    "__2) Use the topic function in a class definition__"
   ]
  },
  {
   "cell_type": "code",
   "execution_count": null,
   "metadata": {},
   "outputs": [],
   "source": [
    "# Import GridAPPS-D Topic Function:\n",
    "from gridappsd.topics import simulation_output_topic\n",
    "\n",
    "# Define Subscription Class\n",
    "class MySubscription(object):\n",
    "    def __init__(self,simulation_id):\n",
    "        self._subscribe_to_topic = simulation_output_topic(simulation_id)\n",
    "        \n",
    "# Define Main Function: \n",
    "def _main():\n",
    "    subscription = MySubscription(simulation_id)\n",
    "    print(subscription._subscribe_to_topic)\n",
    "    \n",
    "# Call Main Function:\n",
    "_main()"
   ]
  },
  {
   "cell_type": "markdown",
   "metadata": {},
   "source": [
    "---"
   ]
  },
  {
   "cell_type": "markdown",
   "metadata": {},
   "source": [
    "![GridAPPS-D-narrow.png](../images/GridAPPS-D_narrow.png)"
   ]
  }
 ],
 "metadata": {
  "celltoolbar": "Tags",
  "kernelspec": {
   "display_name": "Python 3 (ipykernel)",
   "language": "python",
   "name": "python3"
  },
  "language_info": {
   "codemirror_mode": {
    "name": "ipython",
    "version": 3
   },
   "file_extension": ".py",
   "mimetype": "text/x-python",
   "name": "python",
   "nbconvert_exporter": "python",
   "pygments_lexer": "ipython3",
   "version": "3.8.5"
  }
 },
 "nbformat": 4,
 "nbformat_minor": 4
}
